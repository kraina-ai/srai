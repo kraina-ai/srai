{
 "cells": [
  {
   "cell_type": "markdown",
   "id": "0",
   "metadata": {},
   "source": [
    "# Spatial splitting with stratification\n",
    "\n",
    "SRAI library contains a dedicated functions for splitting the points dataset into train / test (and optionally validation) splits by separating the points spatially while also keeping them stratified based on a given target.\n",
    "\n",
    "The function only works for points dataset and uses [`H3`](https://h3geo.org/) indexing system to cluster points together and separate H3 cells into different splits.\n",
    "\n",
    "---\n",
    "\n",
    "When working with most machine learning datasets, splitting into training and testing sets is straightforward: pick a random subset for testing, and (optionally) use stratification to keep the distribution of a target variable balanced between the two. This works fine when the data points are independent.\n",
    "\n",
    "Geospatial data plays by different rules. Nearby locations often share similar characteristics - a phenomenon called spatial autocorrelation. If we split data randomly, our training and test sets might end up covering the same areas, meaning the model is “tested” on locations that are practically identical to ones it has already seen. This can make performance look much better than it really is.\n",
    "\n",
    "That’s why for geo-related tasks, we need spatial splitting: making sure the training and test sets are separated in space so that evaluation reflects real-world conditions. Sometimes we also want to stratify these spatial splits by a numerical value to ensure both sets still have similar value distributions. Standard `train_test_split` functions can’t combine these two needs, so we provide a dedicated function for spatially aware splitting with optional stratification.\n",
    "\n",
    "---\n",
    "\n",
    "This notebook will show how different modes of splitting work based on buildings dataset from [Overture Maps Foundation](https://overturemaps.org/)."
   ]
  },
  {
   "cell_type": "code",
   "execution_count": null,
   "id": "1",
   "metadata": {},
   "outputs": [],
   "source": [
    "import geopandas as gpd\n",
    "import overturemaestro as om\n",
    "import pyarrow.compute as pc\n",
    "import seaborn as sns\n",
    "\n",
    "from srai.spatial_split import train_test_spatial_split"
   ]
  },
  {
   "cell_type": "code",
   "execution_count": null,
   "id": "2",
   "metadata": {},
   "outputs": [],
   "source": [
    "buildings = om.convert_bounding_box_to_geodataframe(\n",
    "    theme=\"buildings\",\n",
    "    type=\"building\",\n",
    "    bbox=(-122.531822, 37.700213, -122.353294, 37.814456),  # SF\n",
    "    release=\"2025-07-23.0\",\n",
    "    pyarrow_filter=pc.field(\"subtype\").is_valid() & pc.field(\"height\").is_valid(),\n",
    "    columns_to_download=[\"subtype\", \"height\"],\n",
    ")\n",
    "buildings"
   ]
  },
  {
   "cell_type": "code",
   "execution_count": null,
   "id": "3",
   "metadata": {},
   "outputs": [],
   "source": [
    "SAN_FRANCISCO_PROJECTED_CRS = 7131  # NAD83(2011) / San Francisco CS13\n",
    "\n",
    "buildings_with_centroid = gpd.GeoDataFrame(\n",
    "    buildings,\n",
    "    geometry=buildings.to_crs(SAN_FRANCISCO_PROJECTED_CRS).centroid,\n",
    "    crs=SAN_FRANCISCO_PROJECTED_CRS,\n",
    ").to_crs(4326)\n",
    "buildings_with_centroid"
   ]
  },
  {
   "cell_type": "code",
   "execution_count": null,
   "id": "4",
   "metadata": {},
   "outputs": [],
   "source": [
    "buildings[\"subtype\"].value_counts()"
   ]
  },
  {
   "cell_type": "markdown",
   "id": "5",
   "metadata": {},
   "source": [
    "## Spatial splitting without target column\n",
    "\n",
    "Target column isn't required for spatial splitting.\n",
    "\n",
    "In that case, the total number of points per H3 cell will be counted and used for stratification, to ensure that all splits have different densities of points."
   ]
  },
  {
   "cell_type": "code",
   "execution_count": null,
   "id": "6",
   "metadata": {},
   "outputs": [],
   "source": [
    "train_default_gdf, test_default_gdf = train_test_spatial_split(\n",
    "    input_gdf=buildings_with_centroid,\n",
    "    parent_h3_resolution=9,\n",
    "    target_column=None,\n",
    "    test_size=0.2,\n",
    "    random_state=42,\n",
    ")\n",
    "train_default_gdf"
   ]
  },
  {
   "cell_type": "code",
   "execution_count": null,
   "id": "7",
   "metadata": {},
   "outputs": [],
   "source": [
    "# TODO: add spatial plots"
   ]
  },
  {
   "cell_type": "markdown",
   "id": "8",
   "metadata": {},
   "source": [
    "## Spatial splitting with numerical target column\n",
    "\n",
    "If a target column is provided, it will be automatically treated as a numerical column, split into buckets (default: `7`) and stratified based on those buckets. The value distibution should be the same in both splits."
   ]
  },
  {
   "cell_type": "code",
   "execution_count": null,
   "id": "9",
   "metadata": {},
   "outputs": [],
   "source": [
    "train_height_gdf, test_height_gdf = train_test_spatial_split(\n",
    "    input_gdf=buildings_with_centroid,\n",
    "    parent_h3_resolution=9,\n",
    "    target_column=\"height\",\n",
    "    n_bins=7,\n",
    "    test_size=0.2,\n",
    "    random_state=42,\n",
    ")\n",
    "train_height_gdf"
   ]
  },
  {
   "cell_type": "code",
   "execution_count": null,
   "id": "10",
   "metadata": {},
   "outputs": [],
   "source": [
    "ax = sns.kdeplot(\n",
    "    data=train_height_gdf,\n",
    "    x=\"height\",\n",
    "    fill=True,\n",
    "    label=\"train\",\n",
    "    log_scale=True,\n",
    ")\n",
    "sns.kdeplot(\n",
    "    data=test_height_gdf,\n",
    "    x=\"height\",\n",
    "    fill=True,\n",
    "    label=\"test\",\n",
    "    ax=ax,\n",
    ")\n",
    "ax.legend()\n",
    "ax.set_xlim(left=1)"
   ]
  },
  {
   "cell_type": "code",
   "execution_count": null,
   "id": "11",
   "metadata": {},
   "outputs": [],
   "source": [
    "# TODO: add spatial plots"
   ]
  },
  {
   "cell_type": "markdown",
   "id": "12",
   "metadata": {},
   "source": [
    "## Spatial splitting with categorical target column\n",
    "\n",
    "Stratification can be also done based on the extisting categorical column, without using buckets.\n",
    "\n",
    "In that case, the `categorical` parameter must be set to `True`."
   ]
  },
  {
   "cell_type": "code",
   "execution_count": null,
   "id": "13",
   "metadata": {},
   "outputs": [],
   "source": [
    "train_categorical_gdf, test_categorical_gdf = train_test_spatial_split(\n",
    "    input_gdf=buildings_with_centroid,\n",
    "    parent_h3_resolution=9,\n",
    "    target_column=\"subtype\",\n",
    "    categorical=True,\n",
    "    test_size=0.2,\n",
    "    random_state=42,\n",
    ")\n",
    "train_categorical_gdf"
   ]
  },
  {
   "cell_type": "code",
   "execution_count": null,
   "id": "14",
   "metadata": {},
   "outputs": [],
   "source": [
    "train_categories_stats = train_categorical_gdf[\"subtype\"].value_counts().reset_index()\n",
    "train_categories_stats[\"count\"] /= train_categories_stats[\"count\"].max()\n",
    "train_categories_stats[\"split\"] = \"train\"\n",
    "\n",
    "test_categories_stats = test_categorical_gdf[\"subtype\"].value_counts().reset_index()\n",
    "test_categories_stats[\"count\"] /= test_categories_stats[\"count\"].max()\n",
    "test_categories_stats[\"split\"] = \"test\""
   ]
  },
  {
   "cell_type": "code",
   "execution_count": null,
   "id": "15",
   "metadata": {},
   "outputs": [],
   "source": [
    "sns.barplot(\n",
    "    data=gpd.pd.concat([train_categories_stats, test_categories_stats]),\n",
    "    x=\"count\",\n",
    "    y=\"subtype\",\n",
    "    hue=\"split\",\n",
    ")"
   ]
  },
  {
   "cell_type": "code",
   "execution_count": null,
   "id": "16",
   "metadata": {},
   "outputs": [],
   "source": [
    "# TODO: add spatial plots"
   ]
  }
 ],
 "metadata": {
  "kernelspec": {
   "display_name": "srai-3.12",
   "language": "python",
   "name": "python3"
  },
  "language_info": {
   "codemirror_mode": {
    "name": "ipython",
    "version": 3
   },
   "file_extension": ".py",
   "mimetype": "text/x-python",
   "name": "python",
   "nbconvert_exporter": "python",
   "pygments_lexer": "ipython3",
   "version": "3.12.3"
  }
 },
 "nbformat": 4,
 "nbformat_minor": 5
}
