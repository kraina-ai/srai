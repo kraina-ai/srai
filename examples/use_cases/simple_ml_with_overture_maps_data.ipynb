{
 "cells": [
  {
   "cell_type": "code",
   "execution_count": null,
   "metadata": {},
   "outputs": [],
   "source": [
    "import contextily as cx\n",
    "import geopandas as gpd\n",
    "import matplotlib.pyplot as plt\n",
    "import matplotlib.ticker as mticker\n",
    "import numpy as np\n",
    "import pandas as pd\n",
    "import pyarrow as pa\n",
    "import seaborn as sns\n",
    "import xgboost as xgb\n",
    "from h3 import int_to_str, str_to_int\n",
    "from h3ronpy import grid_disk_aggregate_k\n",
    "from pypalettes import load_cmap\n",
    "from pytorch_lightning import seed_everything\n",
    "from sklearn.preprocessing import StandardScaler\n",
    "\n",
    "from srai.embedders import ContextualCountEmbedder\n",
    "from srai.h3 import h3_to_shapely_geometry\n",
    "from srai.joiners import IntersectionJoiner\n",
    "from srai.loaders import OSMOnlineLoader\n",
    "from srai.loaders.overturemaps_loader import OvertureMapsLoader\n",
    "from srai.neighbourhoods import H3Neighbourhood\n",
    "from srai.regionalizers import H3Regionalizer, geocode_to_region_gdf"
   ]
  },
  {
   "cell_type": "code",
   "execution_count": null,
   "metadata": {},
   "outputs": [],
   "source": [
    "# finish from: https://github.com/kraina-ai/srai-tutorial/blob/osm-deep-dive/tutorial/06_use_osm_data_in_ml_model.ipynb"
   ]
  },
  {
   "cell_type": "code",
   "execution_count": null,
   "metadata": {},
   "outputs": [],
   "source": [
    "SEED = 71\n",
    "seed_everything(SEED)"
   ]
  },
  {
   "cell_type": "code",
   "execution_count": null,
   "metadata": {},
   "outputs": [],
   "source": [
    "cities_names = [\"Madrid\", \"Seville\", \"Valencia\"]\n",
    "regions = geocode_to_region_gdf(cities_names)\n",
    "regions.index = cities_names"
   ]
  },
  {
   "cell_type": "code",
   "execution_count": null,
   "metadata": {},
   "outputs": [],
   "source": [
    "regions"
   ]
  },
  {
   "cell_type": "code",
   "execution_count": null,
   "metadata": {},
   "outputs": [],
   "source": [
    "bicycle_stations = OSMOnlineLoader().load(area=regions, tags={\"amenity\": \"bicycle_rental\"})\n",
    "bicycle_stations"
   ]
  },
  {
   "cell_type": "code",
   "execution_count": null,
   "metadata": {},
   "outputs": [],
   "source": [
    "bicycle_stations_in_city = IntersectionJoiner().transform(\n",
    "    regions, bicycle_stations, return_geom=True\n",
    ")\n",
    "\n",
    "bicycle_stations_per_city = {}\n",
    "for city_name in cities_names:\n",
    "    bicycle_stations_per_city[city_name] = bicycle_stations_in_city.loc[city_name]"
   ]
  },
  {
   "cell_type": "code",
   "execution_count": null,
   "metadata": {},
   "outputs": [],
   "source": [
    "bicycle_stations_per_city[\"Madrid\"].explore(tiles=\"CartoDB Positron\")"
   ]
  },
  {
   "cell_type": "code",
   "execution_count": null,
   "metadata": {},
   "outputs": [],
   "source": [
    "H3_RESOLUTION = 11\n",
    "# H3_RESOLUTION = 10\n",
    "H3_NEIGHBOURS = 5\n",
    "H3_PREDICTION_BUFFER = 10\n",
    "\n",
    "\n",
    "def buffer_h3_cells_with_aggregation(h3_regions):\n",
    "    \"\"\"Expand H3 regions and calculate minimal distance to origin cells.\"\"\"\n",
    "    return (\n",
    "        pa.table(\n",
    "            grid_disk_aggregate_k(\n",
    "                h3_regions.index.map(str_to_int),\n",
    "                H3_NEIGHBOURS + H3_PREDICTION_BUFFER,\n",
    "                \"min\",\n",
    "            )\n",
    "        )\n",
    "        .to_pandas()\n",
    "        .rename(columns={\"k\": \"distance_to_station\", \"cell\": \"region_id\"})\n",
    "    )\n",
    "\n",
    "\n",
    "h3_regionalizer = H3Regionalizer(resolution=H3_RESOLUTION)\n",
    "h3_regions_gdfs = []\n",
    "for city_name, bicycle_stations_data in bicycle_stations_per_city.items():\n",
    "    city_h3_regions = h3_regionalizer.transform(bicycle_stations_data)\n",
    "\n",
    "    expanded_city_h3_regions = buffer_h3_cells_with_aggregation(city_h3_regions)\n",
    "    expanded_city_h3_regions[\"region_id\"] = expanded_city_h3_regions[\"region_id\"].map(int_to_str)\n",
    "    expanded_city_h3_regions = expanded_city_h3_regions.set_index(\"region_id\")\n",
    "    expanded_city_h3_regions[\"city\"] = city_name\n",
    "    expanded_city_h3_regions = gpd.GeoDataFrame(\n",
    "        expanded_city_h3_regions,\n",
    "        geometry=h3_to_shapely_geometry(expanded_city_h3_regions.index),\n",
    "        crs=4326,\n",
    "    )\n",
    "    h3_regions_gdfs.append(expanded_city_h3_regions)\n",
    "\n",
    "h3_regions = gpd.pd.concat(h3_regions_gdfs)\n",
    "\n",
    "min_bound = h3_regions[\"distance_to_station\"].min()\n",
    "max_bound = h3_regions[\"distance_to_station\"].max()\n",
    "\n",
    "h3_regions[\"normalized_distance_to_station\"] = (h3_regions[\"distance_to_station\"] - min_bound) / (\n",
    "    max_bound - min_bound\n",
    ")\n",
    "\n",
    "h3_regions"
   ]
  },
  {
   "cell_type": "code",
   "execution_count": null,
   "metadata": {},
   "outputs": [],
   "source": [
    "cmap = load_cmap(\"Temps\", cmap_type=\"continuous\", reverse=False)\n",
    "\n",
    "ax = h3_regions[h3_regions.city == \"Madrid\"].plot(\n",
    "    column=\"normalized_distance_to_station\", figsize=(20, 20), cmap=cmap, alpha=0.6\n",
    ")\n",
    "bicycle_stations_per_city[\"Madrid\"].representative_point().plot(ax=ax, color=\"black\", markersize=3)\n",
    "\n",
    "cx.add_basemap(ax, crs=h3_regions.crs, source=cx.providers.CartoDB.PositronNoLabels, zoom=13)\n",
    "ax.set_axis_off()\n",
    "ax.set_title(\"Distance to the nearest bike station in Madrid\", fontsize=20)"
   ]
  },
  {
   "cell_type": "code",
   "execution_count": null,
   "metadata": {},
   "outputs": [],
   "source": [
    "features = OvertureMapsLoader(include_all_possible_columns=False, release=\"2024-12-18.0\").load(\n",
    "    area=h3_regions\n",
    ")\n",
    "features"
   ]
  },
  {
   "cell_type": "code",
   "execution_count": null,
   "metadata": {},
   "outputs": [],
   "source": [
    "joint = IntersectionJoiner().transform(regions=h3_regions, features=features)\n",
    "joint"
   ]
  },
  {
   "cell_type": "code",
   "execution_count": null,
   "metadata": {},
   "outputs": [],
   "source": [
    "embeddings = ContextualCountEmbedder(\n",
    "    neighbourhood=H3Neighbourhood(),\n",
    "    neighbourhood_distance=H3_NEIGHBOURS,\n",
    "    concatenate_vectors=False,\n",
    "    count_subcategories=False,\n",
    ").transform(regions_gdf=h3_regions[[\"geometry\"]], features_gdf=features, joint_gdf=joint)\n",
    "embeddings"
   ]
  },
  {
   "cell_type": "code",
   "execution_count": null,
   "metadata": {},
   "outputs": [],
   "source": [
    "target = \"distance_to_station\""
   ]
  },
  {
   "cell_type": "code",
   "execution_count": null,
   "metadata": {},
   "outputs": [],
   "source": [
    "madrid_data = h3_regions[h3_regions[\"city\"] == \"Madrid\"].merge(\n",
    "    embeddings, left_index=True, right_index=True\n",
    ")\n",
    "\n",
    "valencia_data = h3_regions[h3_regions[\"city\"] == \"Valencia\"].merge(\n",
    "    embeddings, left_index=True, right_index=True\n",
    ")\n",
    "\n",
    "seville_data = h3_regions[h3_regions[\"city\"] == \"Seville\"].merge(\n",
    "    embeddings, left_index=True, right_index=True\n",
    ")\n",
    "\n",
    "madrid_data.shape, valencia_data.shape, seville_data.shape"
   ]
  },
  {
   "cell_type": "code",
   "execution_count": null,
   "metadata": {},
   "outputs": [],
   "source": [
    "madrid_data.head()"
   ]
  },
  {
   "cell_type": "code",
   "execution_count": null,
   "metadata": {},
   "outputs": [],
   "source": [
    "x_madrid = StandardScaler().fit_transform(madrid_data[[*embeddings.columns]])\n",
    "y_madrid = madrid_data[target]\n",
    "\n",
    "x_seville = StandardScaler().fit_transform(seville_data[[*embeddings.columns]])\n",
    "y_seville = seville_data[target]\n",
    "\n",
    "x_valencia = StandardScaler().fit_transform(valencia_data[[*embeddings.columns]])\n",
    "y_valencia = valencia_data[target]\n",
    "\n",
    "x_madrid.shape, y_madrid.shape, x_seville.shape, y_seville.shape, x_valencia.shape, y_valencia.shape"
   ]
  },
  {
   "cell_type": "code",
   "execution_count": null,
   "metadata": {},
   "outputs": [],
   "source": [
    "mask = y_madrid <= H3_PREDICTION_BUFFER\n",
    "\n",
    "# Create DMatrix for training\n",
    "dtrain = xgb.DMatrix(x_madrid[mask], label=y_madrid[mask])\n",
    "\n",
    "# Set parameters for XGBoost\n",
    "params = {\n",
    "    \"objective\": \"reg:squarederror\",\n",
    "    \"max_depth\": 6,\n",
    "    \"eta\": 0.1,\n",
    "    \"subsample\": 0.8,\n",
    "    \"colsample_bytree\": 0.8,\n",
    "    \"seed\": SEED,\n",
    "}\n",
    "\n",
    "# Train the model\n",
    "num_rounds = 1000\n",
    "bst = xgb.train(params, dtrain, num_rounds)"
   ]
  },
  {
   "cell_type": "code",
   "execution_count": null,
   "metadata": {},
   "outputs": [],
   "source": [
    "load_cmap(\"Avedon\")"
   ]
  },
  {
   "cell_type": "code",
   "execution_count": null,
   "metadata": {},
   "outputs": [],
   "source": [
    "cmap = load_cmap(\"pal12\", reverse=True, keep_first_n=H3_PREDICTION_BUFFER + 1)\n",
    "\n",
    "_, axs = plt.subplots(2, 3, figsize=(12, 8), sharey=True, sharex=True, dpi=600)\n",
    "\n",
    "axs[0, 0].set_ylabel(\"Predicted distance to station\")\n",
    "axs[1, 0].set_ylabel(\"Predicted distance to station\")\n",
    "\n",
    "for idx, (x, y, city_name) in enumerate(\n",
    "    [\n",
    "        (x_madrid, y_madrid, \"Madrid\"),\n",
    "        (x_valencia, y_valencia, \"Valencia\"),\n",
    "        (x_seville, y_seville, \"Seville\"),\n",
    "    ]\n",
    "):\n",
    "    mask = y <= H3_PREDICTION_BUFFER\n",
    "    predicted_values = bst.predict(xgb.DMatrix(x[mask]))\n",
    "    sns.regplot(\n",
    "        x=y[mask],\n",
    "        y=predicted_values,\n",
    "        ax=axs[0, idx],\n",
    "        scatter=True,\n",
    "        order=2,\n",
    "        scatter_kws=dict(\n",
    "            alpha=0.02,\n",
    "            color=[cmap.colors[_y] for _y in y[mask]],\n",
    "        ),\n",
    "        line_kws=dict(\n",
    "            color=\"black\",\n",
    "        ),\n",
    "        x_jitter=0.1,\n",
    "    )\n",
    "    sns.violinplot(\n",
    "        x=y[mask],\n",
    "        y=predicted_values,\n",
    "        ax=axs[1, idx],\n",
    "        fill=True,\n",
    "        palette=cmap.colors,\n",
    "        hue=y[mask],\n",
    "        legend=False,\n",
    "    )\n",
    "    axs[0, idx].set_title(city_name)\n",
    "    axs[0, idx].set_xlabel(None)\n",
    "    axs[1, idx].set_xlabel(\"Distance to station\")\n",
    "\n",
    "plt.tight_layout()"
   ]
  },
  {
   "cell_type": "code",
   "execution_count": null,
   "metadata": {},
   "outputs": [],
   "source": [
    "concatenated_regions = pd.concat([madrid_data, seville_data, valencia_data])[\n",
    "    [target, \"city\", \"geometry\"]\n",
    "]\n",
    "\n",
    "concatenated_regions[\"predicted_distance_to_station\"] = np.concatenate(\n",
    "    [\n",
    "        bst.predict(xgb.DMatrix(x_madrid)),\n",
    "        bst.predict(xgb.DMatrix(x_seville)),\n",
    "        bst.predict(xgb.DMatrix(x_valencia)),\n",
    "    ]\n",
    ").round(2)\n",
    "\n",
    "concatenated_regions = concatenated_regions[concatenated_regions[target] <= H3_PREDICTION_BUFFER]\n",
    "\n",
    "concatenated_regions[\"prediction_error\"] = concatenated_regions[\n",
    "    \"predicted_distance_to_station\"\n",
    "] - concatenated_regions[target].clip(0, H3_PREDICTION_BUFFER)\n",
    "\n",
    "concatenated_regions"
   ]
  },
  {
   "cell_type": "code",
   "execution_count": null,
   "metadata": {},
   "outputs": [],
   "source": [
    "cmap = load_cmap(\"Temps\", cmap_type=\"continuous\", reverse=False)\n",
    "\n",
    "for city_name in cities_names:\n",
    "    city_data = concatenated_regions[concatenated_regions.city == city_name]\n",
    "    ax = city_data.plot(\n",
    "        column=\"predicted_distance_to_station\",\n",
    "        figsize=(20, 20),\n",
    "        cmap=cmap,\n",
    "        alpha=0.8,\n",
    "        legend=True,\n",
    "        legend_kwds={\n",
    "            \"shrink\": 0.3,\n",
    "            \"location\": \"bottom\",\n",
    "            \"label\": \"Predicted distance to station\",\n",
    "            \"pad\": -0.05,\n",
    "        },\n",
    "        vmin=0,\n",
    "        vmax=max(10, city_data[\"predicted_distance_to_station\"].max()),\n",
    "    )\n",
    "    bicycle_stations_per_city[city_name].representative_point().plot(\n",
    "        ax=ax, color=\"black\", markersize=3, alpha=0.4\n",
    "    )\n",
    "\n",
    "    cx.add_basemap(ax, crs=h3_regions.crs, source=cx.providers.CartoDB.PositronNoLabels, zoom=13)\n",
    "    ax.set_axis_off()\n",
    "    ax.set_title(f\"Predicted distance to the nearest bike station in {city_name}\", fontsize=20)\n",
    "\n",
    "    plt.show()"
   ]
  },
  {
   "cell_type": "code",
   "execution_count": null,
   "metadata": {},
   "outputs": [],
   "source": [
    "cmap = load_cmap(\"TangerineBlues\", cmap_type=\"continuous\")\n",
    "\n",
    "for city_name in cities_names:\n",
    "    city_data = concatenated_regions[concatenated_regions.city == city_name].copy()\n",
    "    city_data[\"normalized_prediction_error\"] = (\n",
    "        city_data[\"prediction_error\"].apply(\n",
    "            lambda x, city_data=city_data: (\n",
    "                -x / city_data[\"prediction_error\"].min()\n",
    "                if x < 0\n",
    "                else x / city_data[\"prediction_error\"].max()\n",
    "            )\n",
    "        )\n",
    "        + 1\n",
    "    ) / 2\n",
    "\n",
    "    city_data[\"normalized_prediction_error_alpha\"] = (\n",
    "        city_data[\"normalized_prediction_error\"] - 0.5\n",
    "    ).abs() * 2\n",
    "\n",
    "    ax = city_data.plot(\n",
    "        column=\"normalized_prediction_error\",\n",
    "        figsize=(20, 20),\n",
    "        cmap=cmap,\n",
    "        alpha=city_data[\"normalized_prediction_error_alpha\"],\n",
    "        legend=True,\n",
    "        legend_kwds={\n",
    "            \"shrink\": 0.3,\n",
    "            \"location\": \"bottom\",\n",
    "            \"label\": \"Distance prediction error\",\n",
    "            \"pad\": -0.05,\n",
    "            \"ticks\": [0, 0.5, 1],\n",
    "            \"format\": mticker.FixedFormatter(\n",
    "                [\n",
    "                    city_data[\"prediction_error\"].min().round(2),\n",
    "                    \"0\",\n",
    "                    city_data[\"prediction_error\"].max().round(2),\n",
    "                ]\n",
    "            ),\n",
    "        },\n",
    "    )\n",
    "    bicycle_stations_per_city[city_name].representative_point().plot(\n",
    "        ax=ax, color=\"black\", markersize=3, alpha=0.4\n",
    "    )\n",
    "\n",
    "    cx.add_basemap(ax, crs=h3_regions.crs, source=cx.providers.CartoDB.PositronNoLabels, zoom=13)\n",
    "    ax.set_axis_off()\n",
    "    ax.set_title(f\"Distance prediction error in {city_name}\", fontsize=20)\n",
    "\n",
    "    plt.show()"
   ]
  },
  {
   "cell_type": "code",
   "execution_count": null,
   "metadata": {},
   "outputs": [],
   "source": []
  },
  {
   "cell_type": "code",
   "execution_count": null,
   "metadata": {},
   "outputs": [],
   "source": []
  }
 ],
 "metadata": {
  "kernelspec": {
   "display_name": ".venv",
   "language": "python",
   "name": "python3"
  },
  "language_info": {
   "codemirror_mode": {
    "name": "ipython",
    "version": 3
   },
   "file_extension": ".py",
   "mimetype": "text/x-python",
   "name": "python",
   "nbconvert_exporter": "python",
   "pygments_lexer": "ipython3",
   "version": "3.10.12"
  }
 },
 "nbformat": 4,
 "nbformat_minor": 2
}
