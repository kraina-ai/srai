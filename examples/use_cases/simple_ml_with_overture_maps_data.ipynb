{
 "cells": [
  {
   "cell_type": "code",
   "execution_count": null,
   "metadata": {},
   "outputs": [],
   "source": [
    "import geopandas as gpd\n",
    "import numpy as np\n",
    "import pandas as pd\n",
    "\n",
    "# import seaborn as sns\n",
    "# import xgboost as xgb\n",
    "from h3 import int_to_str, str_to_int\n",
    "from h3ronpy import grid_disk_aggregate_k\n",
    "from pytorch_lightning import seed_everything\n",
    "from sklearn.cluster import KMeans\n",
    "\n",
    "# from palettable.scientific.diverging import Roma_20\n",
    "# from palettable.scientific.sequential import Hawaii_6, Hawaii_16\n",
    "from srai.embedders import CountEmbedder\n",
    "from srai.h3 import h3_to_shapely_geometry\n",
    "from srai.joiners import IntersectionJoiner\n",
    "from srai.loaders import OSMOnlineLoader\n",
    "from srai.plotting import plot_numeric_data\n",
    "from srai.regionalizers import H3Regionalizer, geocode_to_region_gdf"
   ]
  },
  {
   "cell_type": "code",
   "execution_count": null,
   "metadata": {},
   "outputs": [],
   "source": [
    "# finish from: https://github.com/kraina-ai/srai-tutorial/blob/osm-deep-dive/tutorial/06_use_osm_data_in_ml_model.ipynb"
   ]
  },
  {
   "cell_type": "code",
   "execution_count": null,
   "metadata": {},
   "outputs": [],
   "source": [
    "SEED = 71\n",
    "seed_everything(SEED)"
   ]
  },
  {
   "cell_type": "code",
   "execution_count": null,
   "metadata": {},
   "outputs": [],
   "source": [
    "cities_names = [\"Madrid\", \"Seville\", \"Valencia\"]\n",
    "regions = geocode_to_region_gdf(cities_names)\n",
    "regions.index = cities_names"
   ]
  },
  {
   "cell_type": "code",
   "execution_count": null,
   "metadata": {},
   "outputs": [],
   "source": [
    "regions"
   ]
  },
  {
   "cell_type": "code",
   "execution_count": null,
   "metadata": {},
   "outputs": [],
   "source": [
    "bicycle_stations = OSMOnlineLoader().load(area=regions, tags={\"amenity\": \"bicycle_rental\"})\n",
    "bicycle_stations"
   ]
  },
  {
   "cell_type": "code",
   "execution_count": null,
   "metadata": {},
   "outputs": [],
   "source": [
    "bicycle_stations_in_city = IntersectionJoiner().transform(\n",
    "    regions, bicycle_stations, return_geom=True\n",
    ")\n",
    "\n",
    "bicycle_stations_per_city = {}\n",
    "for city_name in cities_names:\n",
    "    bicycle_stations_per_city[city_name] = bicycle_stations_in_city.loc[city_name]"
   ]
  },
  {
   "cell_type": "code",
   "execution_count": null,
   "metadata": {},
   "outputs": [],
   "source": [
    "bicycle_stations_per_city[\"Madrid\"].explore(tiles=\"CartoDB Positron\")"
   ]
  },
  {
   "cell_type": "code",
   "execution_count": null,
   "metadata": {},
   "outputs": [],
   "source": [
    "import pyarrow as pa\n",
    "\n",
    "H3_RESOLUTION = 11\n",
    "H3_NEIGHBOURS = 5\n",
    "H3_PREDICTION_BUFFER = 10\n",
    "\n",
    "h3_regionalizer = H3Regionalizer(resolution=H3_RESOLUTION)\n",
    "h3_regions_gdfs = []\n",
    "for city_name, bicycle_stations_data in bicycle_stations_per_city.items():\n",
    "    city_h3_regions = h3_regionalizer.transform(bicycle_stations_data)\n",
    "\n",
    "    expanded_city_h3_regions = (\n",
    "        pa.table(\n",
    "            grid_disk_aggregate_k(\n",
    "                city_h3_regions.index.map(str_to_int),\n",
    "                H3_NEIGHBOURS + H3_PREDICTION_BUFFER,\n",
    "                \"min\",\n",
    "            )\n",
    "        )\n",
    "        .to_pandas()\n",
    "        .rename(columns={\"k\": \"distance_to_station\", \"cell\": \"region_id\"})\n",
    "    )\n",
    "    expanded_city_h3_regions[\"region_id\"] = expanded_city_h3_regions[\"region_id\"].map(int_to_str)\n",
    "    expanded_city_h3_regions = expanded_city_h3_regions.set_index(\"region_id\")\n",
    "    expanded_city_h3_regions[\"city\"] = city_name\n",
    "    expanded_city_h3_regions = gpd.GeoDataFrame(\n",
    "        expanded_city_h3_regions,\n",
    "        geometry=h3_to_shapely_geometry(expanded_city_h3_regions.index),\n",
    "        crs=4326,\n",
    "    )\n",
    "    h3_regions_gdfs.append(expanded_city_h3_regions)\n",
    "\n",
    "h3_regions = gpd.pd.concat(h3_regions_gdfs)\n",
    "\n",
    "min_bound = h3_regions[\"distance_to_station\"].min()\n",
    "max_bound = h3_regions[\"distance_to_station\"].max()\n",
    "normalized_distance_to_station = (h3_regions[\"distance_to_station\"] - min_bound) / (\n",
    "    max_bound - min_bound\n",
    ")\n",
    "\n",
    "# viz(\n",
    "#     [h3_regions, bike_data],\n",
    "#     polygon_kwargs=dict(\n",
    "#         opacity=0.7,\n",
    "#         stroked=False,\n",
    "#         get_fill_color=apply_continuous_cmap(\n",
    "#             normalized_distance_to_station,\n",
    "#             Hawaii_16,\n",
    "#         ),\n",
    "#     ),\n",
    "#     scatterplot_kwargs=dict(radius_min_pixels=2, get_fill_color=[0, 0, 0, 255]),\n",
    "#     map_kwargs=dict(basemap_style=CartoBasemap.Voyager),\n",
    "# )"
   ]
  },
  {
   "cell_type": "code",
   "execution_count": null,
   "metadata": {},
   "outputs": [],
   "source": []
  },
  {
   "cell_type": "code",
   "execution_count": null,
   "metadata": {},
   "outputs": [],
   "source": [
    "h3_regions"
   ]
  },
  {
   "cell_type": "code",
   "execution_count": null,
   "metadata": {},
   "outputs": [],
   "source": []
  },
  {
   "cell_type": "code",
   "execution_count": null,
   "metadata": {},
   "outputs": [],
   "source": [
    "grid_disk_aggregate_k(\n",
    "    city_h3_regions.index.map(str_to_int).values,\n",
    "    H3_NEIGHBOURS + H3_PREDICTION_BUFFER,\n",
    "    \"min\",\n",
    ")"
   ]
  },
  {
   "cell_type": "code",
   "execution_count": null,
   "metadata": {},
   "outputs": [],
   "source": [
    "import h3.api.numpy_int as h3\n",
    "import pyarrow as pa\n",
    "from h3ronpy import DEFAULT_CELL_COLUMN_NAME\n",
    "from h3ronpy.pandas.vector import cells_dataframe_to_geodataframe\n",
    "\n",
    "cells = np.array(\n",
    "    [\n",
    "        h3.geo_to_h3(5.2, -5.2, 7),\n",
    "        h3.geo_to_h3(5.3, -5.1, 7),\n",
    "    ],\n",
    "    dtype=np.uint64,\n",
    ")"
   ]
  },
  {
   "cell_type": "code",
   "execution_count": null,
   "metadata": {},
   "outputs": [],
   "source": [
    "pa.table(grid_disk_aggregate_k(city_h3_regions.index.map(str_to_int).values, 9, \"min\")).to_pandas()"
   ]
  },
  {
   "cell_type": "code",
   "execution_count": null,
   "metadata": {},
   "outputs": [],
   "source": [
    "from h3ronpy import grid_disk\n",
    "\n",
    "cells_dataframe_to_geodataframe(\n",
    "    pd.DataFrame(\n",
    "        {DEFAULT_CELL_COLUMN_NAME: pa.array(grid_disk(cells, 9, flatten=True)).to_pandas()}\n",
    "    )\n",
    ").plot()"
   ]
  },
  {
   "cell_type": "code",
   "execution_count": null,
   "metadata": {},
   "outputs": [],
   "source": [
    "# we are limiting the scope for this example\n",
    "\n",
    "# loader = OvertureMapsLoader(include_all_possible_columns=False, release=\"2024-12-18.0\")\n",
    "\n",
    "# features_gdf = loader.load(area_gdf)\n",
    "\n",
    "# features_gdf"
   ]
  },
  {
   "cell_type": "code",
   "execution_count": null,
   "metadata": {},
   "outputs": [],
   "source": [
    "# regionalizer = H3Regionalizer(resolution=9)\n",
    "# regions_gdf = regionalizer.transform(area_gdf)\n",
    "# plot_regions(regions_gdf, tiles_style=\"CartoDB positron\")"
   ]
  },
  {
   "cell_type": "code",
   "execution_count": null,
   "metadata": {},
   "outputs": [],
   "source": [
    "joiner = IntersectionJoiner()\n",
    "joint_gdf = joiner.transform(regions_gdf, features_gdf)\n",
    "joint_gdf"
   ]
  },
  {
   "cell_type": "code",
   "execution_count": null,
   "metadata": {},
   "outputs": [],
   "source": [
    "embeddings = CountEmbedder(count_subcategories=False).transform(\n",
    "    regions_gdf, features_gdf, joint_gdf\n",
    ")\n",
    "embeddings"
   ]
  },
  {
   "cell_type": "code",
   "execution_count": null,
   "metadata": {},
   "outputs": [],
   "source": [
    "clusterizer = KMeans(n_clusters=5, random_state=SEED)\n",
    "clusterizer.fit(embeddings)\n",
    "\n",
    "embeddings[\"cluster\"] = clusterizer.labels_\n",
    "embeddings"
   ]
  },
  {
   "cell_type": "code",
   "execution_count": null,
   "metadata": {},
   "outputs": [],
   "source": [
    "plot_numeric_data(regions_gdf, \"cluster\", embeddings)"
   ]
  }
 ],
 "metadata": {
  "kernelspec": {
   "display_name": ".venv",
   "language": "python",
   "name": "python3"
  },
  "language_info": {
   "codemirror_mode": {
    "name": "ipython",
    "version": 3
   },
   "file_extension": ".py",
   "mimetype": "text/x-python",
   "name": "python",
   "nbconvert_exporter": "python",
   "pygments_lexer": "ipython3",
   "version": "3.10.12"
  }
 },
 "nbformat": 4,
 "nbformat_minor": 2
}
