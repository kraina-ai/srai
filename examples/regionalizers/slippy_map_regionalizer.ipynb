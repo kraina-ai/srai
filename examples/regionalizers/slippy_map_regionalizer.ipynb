{
 "cells": [
  {
   "attachments": {},
   "cell_type": "markdown",
   "metadata": {},
   "source": [
    "# Slippy Map Regionalizer Example"
   ]
  },
  {
   "cell_type": "code",
   "execution_count": null,
   "metadata": {},
   "outputs": [],
   "source": [
    "import geopandas as gpd\n",
    "from shapely import geometry\n",
    "\n",
    "from srai.regionalizers import SlippyMapRegionalizer\n",
    "from srai.plotting.folium_wrapper import plot_regions\n",
    "from srai.constants import WGS84_CRS"
   ]
  },
  {
   "cell_type": "markdown",
   "metadata": {},
   "source": [
    "## Define starting polygons"
   ]
  },
  {
   "cell_type": "code",
   "execution_count": null,
   "metadata": {},
   "outputs": [],
   "source": [
    "gdf = gpd.GeoDataFrame(\n",
    "    geometry=[\n",
    "        geometry.Polygon(\n",
    "            shell=[\n",
    "                (-1, 0),\n",
    "                (0, 0.5),\n",
    "                (1, 0),\n",
    "                (1, 1),\n",
    "                (0, 1),\n",
    "            ],\n",
    "            holes=[\n",
    "                [\n",
    "                    (0.8, 0.9),\n",
    "                    (0.9, 0.55),\n",
    "                    (0.8, 0.3),\n",
    "                    (0.5, 0.4),\n",
    "                ]\n",
    "            ],\n",
    "        ),\n",
    "        geometry.Polygon(shell=[(-0.25, 0), (0.25, 0), (0, 0.2)]),\n",
    "    ],\n",
    "    crs=WGS84_CRS,\n",
    ")\n",
    "gdf.explore()"
   ]
  },
  {
   "attachments": {},
   "cell_type": "markdown",
   "metadata": {},
   "source": [
    "## Define tile resolution"
   ]
  },
  {
   "cell_type": "code",
   "execution_count": null,
   "metadata": {},
   "outputs": [],
   "source": [
    "zoom = 12"
   ]
  },
  {
   "attachments": {},
   "cell_type": "markdown",
   "metadata": {},
   "source": [
    "## Regionalize using SlippyMapRegionalizer"
   ]
  },
  {
   "cell_type": "code",
   "execution_count": null,
   "metadata": {},
   "outputs": [],
   "source": [
    "regionalizer = SlippyMapRegionalizer(zoom)\n",
    "gdf_slippy = regionalizer.transform(gdf)\n",
    "\n",
    "folium_map = gdf.explore()\n",
    "plot_regions(gdf_slippy, colormap=[\"red\"], map=folium_map)"
   ]
  }
 ],
 "metadata": {
  "kernelspec": {
   "display_name": "Python 3.10.10 ('.venv': venv)",
   "language": "python",
   "name": "python3"
  },
  "language_info": {
   "codemirror_mode": {
    "name": "ipython",
    "version": 3
   },
   "file_extension": ".py",
   "mimetype": "text/x-python",
   "name": "python",
   "nbconvert_exporter": "python",
   "pygments_lexer": "ipython3",
   "version": "3.10.11"
  },
  "vscode": {
   "interpreter": {
    "hash": "bef431f694ba250a61f6c29f974e05c16577f910a5abf521c495f491290a7f34"
   }
  }
 },
 "nbformat": 4,
 "nbformat_minor": 2
}
