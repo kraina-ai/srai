{
 "cells": [
  {
   "cell_type": "code",
   "execution_count": null,
   "metadata": {},
   "outputs": [],
   "source": [
    "import geopandas as gpd\n",
    "import plotly.express as px\n",
    "from shapely.geometry import Point, box\n",
    "\n",
    "from srai.regionalizers import AdministrativeBoundaryRegionalizer\n",
    "from srai.plotting.folium_wrapper import plot_regions\n",
    "from srai.utils import geocode_to_region_gdf"
   ]
  },
  {
   "attachments": {},
   "cell_type": "markdown",
   "metadata": {},
   "source": [
    "## Regionalize city\n",
    "\n",
    "Basic usage of the `AdministrativeBoundaryRegionalizer` with a city boundary. \n",
    "\n",
    "Here `admin_level` equal to 9 defines city districts in Poland."
   ]
  },
  {
   "cell_type": "code",
   "execution_count": null,
   "metadata": {},
   "outputs": [],
   "source": [
    "wroclaw_gdf = geocode_to_region_gdf(query=[\"R451516\"], by_osmid=True)\n",
    "plot_regions(wroclaw_gdf)"
   ]
  },
  {
   "cell_type": "code",
   "execution_count": null,
   "metadata": {},
   "outputs": [],
   "source": [
    "abr = AdministrativeBoundaryRegionalizer(admin_level=9)"
   ]
  },
  {
   "cell_type": "code",
   "execution_count": null,
   "metadata": {},
   "outputs": [],
   "source": [
    "wro_result_gdf = abr.transform(gdf=wroclaw_gdf)\n",
    "wro_result_gdf.head()"
   ]
  },
  {
   "cell_type": "code",
   "execution_count": null,
   "metadata": {},
   "outputs": [],
   "source": [
    "plot_regions(wro_result_gdf)"
   ]
  },
  {
   "attachments": {},
   "cell_type": "markdown",
   "metadata": {},
   "source": [
    "## Regionalize country\n",
    "\n",
    "How to return an empty region covering water bodies outside of the land.\n",
    "\n",
    "Here `admin_level` equal to 4 defines country regions in Madagascar."
   ]
  },
  {
   "cell_type": "code",
   "execution_count": null,
   "metadata": {},
   "outputs": [],
   "source": [
    "madagascar_bbox = box(minx=43.21418, miny=-25.61143, maxx=50.48704, maxy=-11.951126)\n",
    "madagascar_bbox_gdf = gpd.GeoDataFrame({\"geometry\": [madagascar_bbox]}, crs=\"EPSG:4326\")"
   ]
  },
  {
   "cell_type": "code",
   "execution_count": null,
   "metadata": {},
   "outputs": [],
   "source": [
    "abr = AdministrativeBoundaryRegionalizer(admin_level=4, return_empty_region=True)"
   ]
  },
  {
   "cell_type": "code",
   "execution_count": null,
   "metadata": {},
   "outputs": [],
   "source": [
    "madagascar_result_gdf = abr.transform(gdf=madagascar_bbox_gdf)\n",
    "madagascar_result_gdf.tail()"
   ]
  },
  {
   "cell_type": "code",
   "execution_count": null,
   "metadata": {},
   "outputs": [],
   "source": [
    "plot_regions(madagascar_result_gdf)"
   ]
  },
  {
   "attachments": {},
   "cell_type": "markdown",
   "metadata": {},
   "source": [
    "## Regionalize Europe\n",
    "\n",
    "Option to slightly increase the value of `toposiplify` to simplify geometries even more.\n",
    "\n",
    "Here `admin_level` equal to 2 defines countries."
   ]
  },
  {
   "cell_type": "code",
   "execution_count": null,
   "metadata": {},
   "outputs": [],
   "source": [
    "eu_bbox = box(minx=-10.478556, miny=34.633284672291, maxx=32.097916, maxy=70.096054)\n",
    "eu_bbox_gdf = gpd.GeoDataFrame({\"geometry\": [eu_bbox]}, crs=\"EPSG:4326\")"
   ]
  },
  {
   "cell_type": "code",
   "execution_count": null,
   "metadata": {},
   "outputs": [],
   "source": [
    "abr = AdministrativeBoundaryRegionalizer(admin_level=2, toposimplify=0.0005)"
   ]
  },
  {
   "cell_type": "code",
   "execution_count": null,
   "metadata": {},
   "outputs": [],
   "source": [
    "eu_result_gdf = abr.transform(gdf=eu_bbox_gdf)"
   ]
  },
  {
   "cell_type": "code",
   "execution_count": null,
   "metadata": {},
   "outputs": [],
   "source": [
    "eu_result_gdf.head()"
   ]
  },
  {
   "cell_type": "code",
   "execution_count": null,
   "metadata": {},
   "outputs": [],
   "source": [
    "plot_regions(eu_result_gdf)"
   ]
  },
  {
   "cell_type": "markdown",
   "metadata": {},
   "source": [
    "## Toposimplify differences\n",
    "\n",
    "Shows differences in simplification of small regions using four values: `1e-4`, `1e-3`, `1e-2` and `0.1`. Those values are in degress, since it uses Douglas-Peucker simplification algorithm.\n",
    "\n",
    "`1e-4` is the default value and is equal to about 11.1m accuracy.\n",
    "\n",
    "More info: https://github.com/mattijn/topojson\n",
    "\n",
    "Here `admin_level` equal to 6 defines city districts in Singapore."
   ]
  },
  {
   "cell_type": "code",
   "execution_count": null,
   "metadata": {},
   "outputs": [],
   "source": [
    "singapore_bbox = box(minx=103.5111238, miny=1.1263707, maxx=104.1313374, maxy=1.4787511)\n",
    "singapore_bbox_gdf = gpd.GeoDataFrame({\"geometry\": [singapore_bbox]}, crs=\"EPSG:4326\")"
   ]
  },
  {
   "cell_type": "code",
   "execution_count": null,
   "metadata": {},
   "outputs": [],
   "source": [
    "results = {}\n",
    "for value in [0.0001, 0.001, 0.01, 0.1]:\n",
    "    abr = AdministrativeBoundaryRegionalizer(admin_level=6, toposimplify=value)\n",
    "    results[value] = abr.transform(gdf=singapore_bbox_gdf)"
   ]
  },
  {
   "cell_type": "code",
   "execution_count": null,
   "metadata": {},
   "outputs": [],
   "source": [
    "minx, miny, maxx, maxy = singapore_bbox.bounds\n",
    "for epsilon, result in results.items():\n",
    "    fig = px.choropleth_mapbox(\n",
    "        result,\n",
    "        geojson=result,\n",
    "        color=result.index,\n",
    "        locations=result.index,\n",
    "        center={\"lat\": 1.3119350704252704, \"lon\": 103.82412242562575},\n",
    "        mapbox_style=\"carto-positron\",\n",
    "        zoom=9.5,\n",
    "    )\n",
    "    fig.update_layout(margin={\"r\": 0, \"t\": 0, \"l\": 0, \"b\": 0})\n",
    "    fig.update_traces(marker={\"opacity\": 0.6}, selector=dict(type=\"choroplethmapbox\"))\n",
    "    fig.update_traces(showlegend=False)\n",
    "    fig.update_geos(\n",
    "        projection_type=\"equirectangular\",\n",
    "        lataxis_range=[miny - 0.1, maxy + 0.1],\n",
    "        lonaxis_range=[minx - 0.1, maxx + 0.1],\n",
    "        showlakes=False,\n",
    "        showcountries=False,\n",
    "        showframe=False,\n",
    "        resolution=50,\n",
    "    )\n",
    "\n",
    "    size = len(result.to_json().encode(\"utf-8\"))\n",
    "    fig.update_layout(\n",
    "        height=450,\n",
    "        width=700,\n",
    "        margin={\"r\": 0, \"t\": 50, \"l\": 0, \"b\": 0},\n",
    "        title_text=f\"Toposimplify value: {epsilon} ({size/1000} KB)\",\n",
    "    )\n",
    "\n",
    "    fig.show(renderer=\"png\")  # replace with fig.show() to allow interactivity"
   ]
  },
  {
   "attachments": {},
   "cell_type": "markdown",
   "metadata": {},
   "source": [
    "## Regionalize points\n",
    "\n",
    "How to return original regions without clipping and select them using list of points. Showed using list of metro stations in Paris.\n",
    "\n",
    "Here `admin_level` equal to 8 defines communes in France."
   ]
  },
  {
   "cell_type": "code",
   "execution_count": null,
   "metadata": {},
   "outputs": [],
   "source": [
    "import requests\n",
    "\n",
    "r = requests.get(\"https://raw.githubusercontent.com/w8r/paris-metro-graph/master/metro.json\").json()\n",
    "stations_gdf = gpd.GeoDataFrame(\n",
    "    {\"geometry\": [Point(s[\"longitude\"], s[\"latitude\"]) for s in r[\"nodes\"]]}, crs=\"EPSG:4326\"\n",
    ")\n",
    "stations_gdf"
   ]
  },
  {
   "cell_type": "code",
   "execution_count": null,
   "metadata": {},
   "outputs": [],
   "source": [
    "abr = AdministrativeBoundaryRegionalizer(\n",
    "    admin_level=8, return_empty_region=False, clip_regions=False\n",
    ")\n",
    "paris_districts_result = abr.transform(gdf=stations_gdf)"
   ]
  },
  {
   "cell_type": "code",
   "execution_count": null,
   "metadata": {},
   "outputs": [],
   "source": [
    "paris_districts_result.head()"
   ]
  },
  {
   "cell_type": "code",
   "execution_count": null,
   "metadata": {},
   "outputs": [],
   "source": [
    "folium_map = plot_regions(paris_districts_result, tiles_style=\"CartoDB positron\")\n",
    "stations_gdf.explore(\n",
    "    m=folium_map,\n",
    "    style_kwds=dict(color=\"#444\", opacity=1, fillColor=\"#f2f2f2\", fillOpacity=1),\n",
    "    marker_kwds=dict(radius=1),\n",
    ")"
   ]
  }
 ],
 "metadata": {
  "kernelspec": {
   "display_name": "Python 3.8.10 ('.venv': venv)",
   "language": "python",
   "name": "python3"
  },
  "language_info": {
   "codemirror_mode": {
    "name": "ipython",
    "version": 3
   },
   "file_extension": ".py",
   "mimetype": "text/x-python",
   "name": "python",
   "nbconvert_exporter": "python",
   "pygments_lexer": "ipython3",
   "version": "3.10.11"
  },
  "vscode": {
   "interpreter": {
    "hash": "4153976b658cb8b76d04b10dc7a0c871c2dac1d3dcfe690ad61d83a61969a12e"
   }
  }
 },
 "nbformat": 4,
 "nbformat_minor": 2
}
