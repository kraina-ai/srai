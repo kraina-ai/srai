{
 "cells": [
  {
   "attachments": {},
   "cell_type": "markdown",
   "metadata": {},
   "source": [
    "# S2 Regionalizer Example"
   ]
  },
  {
   "cell_type": "code",
   "execution_count": null,
   "metadata": {},
   "outputs": [],
   "source": [
    "import geopandas as gpd\n",
    "from shapely import geometry\n",
    "\n",
    "from srai.regionalizers import S2Regionalizer\n",
    "from srai.plotting.folium_wrapper import plot_regions\n",
    "from srai.constants import WGS84_CRS"
   ]
  },
  {
   "cell_type": "markdown",
   "metadata": {},
   "source": [
    "## Define starting polygons"
   ]
  },
  {
   "cell_type": "code",
   "execution_count": null,
   "metadata": {},
   "outputs": [],
   "source": [
    "gdf = gpd.GeoDataFrame(\n",
    "    geometry=[\n",
    "        geometry.Polygon(\n",
    "            shell=[\n",
    "                (-1, 0),\n",
    "                (0, 0.5),\n",
    "                (1, 0),\n",
    "                (1, 1),\n",
    "                (0, 1),\n",
    "            ],\n",
    "            holes=[\n",
    "                [\n",
    "                    (0.8, 0.9),\n",
    "                    (0.9, 0.55),\n",
    "                    (0.8, 0.3),\n",
    "                    (0.5, 0.4),\n",
    "                ]\n",
    "            ],\n",
    "        ),\n",
    "        geometry.Polygon(shell=[(-0.25, 0), (0.25, 0), (0, 0.2)]),\n",
    "    ],\n",
    "    crs=WGS84_CRS,\n",
    ")\n",
    "gdf.explore()"
   ]
  },
  {
   "attachments": {},
   "cell_type": "markdown",
   "metadata": {},
   "source": [
    "## Define S2 resolution"
   ]
  },
  {
   "cell_type": "code",
   "execution_count": null,
   "metadata": {},
   "outputs": [],
   "source": [
    "resolution = 10"
   ]
  },
  {
   "attachments": {},
   "cell_type": "markdown",
   "metadata": {},
   "source": [
    "## Regionalize using S2 wihtout buffer\n",
    "\n",
    "All cells are fully contained in the original polygon."
   ]
  },
  {
   "cell_type": "code",
   "execution_count": null,
   "metadata": {},
   "outputs": [],
   "source": [
    "regionalizer = S2Regionalizer(resolution, buffer=False)\n",
    "gdf_s2 = regionalizer.transform(gdf)\n",
    "\n",
    "folium_map = gdf.explore()\n",
    "plot_regions(gdf_s2, colormap=[\"red\"], map=folium_map)"
   ]
  },
  {
   "attachments": {},
   "cell_type": "markdown",
   "metadata": {},
   "source": [
    "## Regionalize using S2 with buffer (default)\n",
    "\n",
    "Whole polygon is covered by cells. Some are not fully contained in the original polygon."
   ]
  },
  {
   "cell_type": "code",
   "execution_count": null,
   "metadata": {},
   "outputs": [],
   "source": [
    "regionalizer = S2Regionalizer(resolution, buffer=True)\n",
    "gdf_s2_buffered = regionalizer.transform(gdf)\n",
    "\n",
    "folium_map = gdf.explore()\n",
    "plot_regions(gdf_s2_buffered, colormap=[\"red\"], map=folium_map)"
   ]
  }
 ],
 "metadata": {
  "kernelspec": {
   "display_name": "Python 3.8.14 ('.venv': venv)",
   "language": "python",
   "name": "python3"
  },
  "language_info": {
   "codemirror_mode": {
    "name": "ipython",
    "version": 3
   },
   "file_extension": ".py",
   "mimetype": "text/x-python",
   "name": "python",
   "nbconvert_exporter": "python",
   "pygments_lexer": "ipython3",
   "version": "3.10.11"
  },
  "vscode": {
   "interpreter": {
    "hash": "f39c7279c85c8be5d827e53eddb5011e966102d239fe8b81ca4bd9f0123eda8f"
   }
  }
 },
 "nbformat": 4,
 "nbformat_minor": 2
}
