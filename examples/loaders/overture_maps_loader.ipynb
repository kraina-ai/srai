{
 "cells": [
  {
   "cell_type": "markdown",
   "metadata": {},
   "source": [
    "# Overture Maps Loader\n",
    "\n",
    "`OvertureMapsLoader` can download the Overture Maps data from the s3 bucket for a given region.\n",
    "\n",
    "It is a wrapper around the [`OvertureMaestro`](https://github.com/kraina-ai/overturemaestro) library that can download the data in the original format but also have some advanced functions. \n",
    "\n",
    "In the `SRAI` context, `OvertureMapsLoader` utilizes so-called wide format for returning features with columns representing potential categories of the object. If you want to read more in-depth about this format, you can checkout this OvertureMaestro's [docs page](https://kraina-ai.github.io/overturemaestro/latest/examples/advanced_functions/wide_form/)."
   ]
  },
  {
   "cell_type": "code",
   "execution_count": null,
   "metadata": {},
   "outputs": [],
   "source": [
    "from shapely.geometry import box\n",
    "\n",
    "from srai.constants import GEOMETRY_COLUMN\n",
    "from srai.loaders import OvertureMapsLoader\n",
    "from srai.regionalizers import geocode_to_region_gdf"
   ]
  },
  {
   "cell_type": "markdown",
   "metadata": {},
   "source": [
    "## Using OvertureMapsLoader to download data for a specific area"
   ]
  },
  {
   "cell_type": "markdown",
   "metadata": {},
   "source": [
    "### Download all available features in Paris, France"
   ]
  },
  {
   "cell_type": "code",
   "execution_count": null,
   "metadata": {},
   "outputs": [],
   "source": [
    "loader = OvertureMapsLoader()\n",
    "paris = geocode_to_region_gdf(\"Paris\")\n",
    "paris_features_gdf = loader.load(paris)\n",
    "paris_features_gdf"
   ]
  },
  {
   "cell_type": "markdown",
   "metadata": {},
   "source": [
    "### Plot features\n",
    "\n",
    "Colours from the this palette: https://colorhunt.co/palette/f8ededff8225b43f3f173b45"
   ]
  },
  {
   "cell_type": "code",
   "execution_count": null,
   "metadata": {},
   "outputs": [],
   "source": [
    "ax = paris.plot(color=\"#F8EDED\", figsize=(16, 16))\n",
    "\n",
    "# plot water\n",
    "water_columns = [c for c in paris_features_gdf.columns if \"water\" in c]\n",
    "water_data = paris_features_gdf[paris_features_gdf[water_columns].any(axis=1)]\n",
    "water_data.plot(ax=ax, color=\"#FF8225\", markersize=0)\n",
    "\n",
    "# plot_roads\n",
    "roads_data = paris_features_gdf[paris_features_gdf[\"transportation|segment|road\"]]\n",
    "roads_data.plot(ax=ax, color=\"#B43F3F\", markersize=0, linewidth=0.25)\n",
    "\n",
    "# plot buildings\n",
    "building_columns = [c for c in paris_features_gdf.columns if c.startswith(\"buildings\")]\n",
    "buildings_data = paris_features_gdf[paris_features_gdf[building_columns].any(axis=1)]\n",
    "buildings_data.plot(ax=ax, color=\"#173B45\", markersize=0)\n",
    "\n",
    "paris.boundary.plot(ax=ax, color=\"#173B45\", linewidth=2, alpha=0.5)\n",
    "\n",
    "xmin, ymin, xmax, ymax = paris.total_bounds\n",
    "ax.set_xlim(xmin - 0.001, xmax + 0.001)\n",
    "ax.set_ylim(ymin - 0.001, ymax + 0.001)\n",
    "\n",
    "ax.set_axis_off()"
   ]
  },
  {
   "cell_type": "markdown",
   "metadata": {},
   "source": [
    "### Download more detailed data with higher hierarchy value\n",
    "\n",
    "By default, the `hierarchy_depth` value is equal to `1`, but it can be set to `None` to get a full list of all possible columns."
   ]
  },
  {
   "cell_type": "code",
   "execution_count": null,
   "metadata": {},
   "outputs": [],
   "source": [
    "manhattan_bbox = box(-73.994551, 40.762396, -73.936872, 40.804239)\n",
    "loader = OvertureMapsLoader(hierarchy_depth=None)\n",
    "new_york_features_gdf = loader.load(manhattan_bbox)\n",
    "new_york_features_gdf"
   ]
  },
  {
   "cell_type": "markdown",
   "metadata": {},
   "source": [
    "As you can see, there are over `2600` columns available.\n",
    "\n",
    "Let's see top 20 most popular columns. "
   ]
  },
  {
   "cell_type": "code",
   "execution_count": null,
   "metadata": {},
   "outputs": [],
   "source": [
    "new_york_features_gdf.drop(columns=GEOMETRY_COLUMN).sum().sort_values(ascending=False).head(20)"
   ]
  },
  {
   "cell_type": "markdown",
   "metadata": {},
   "source": [
    "## Configure places dataset\n",
    "\n",
    "Places schema is the only one that is treated differently than other data types.\n",
    "\n",
    "By default, places use both `primary` and `alternate` categories to define a feature.\n",
    "\n",
    "Additionally, there is a filter applied to get only features with confidence score `>= 0.75`.\n",
    "\n",
    "There are two dedicated parameters: `places_minimal_confidence` and `places_use_primary_category_only` to configure how the data should be transformed.\n",
    "\n",
    "Let's do example with both of these parameters. We will also use a `theme_type_pairs` parameter to limit the scope of the downloaded data."
   ]
  },
  {
   "cell_type": "code",
   "execution_count": null,
   "metadata": {},
   "outputs": [],
   "source": [
    "default_confidence_loader = OvertureMapsLoader(\n",
    "    theme_type_pairs=[(\"places\", \"place\")], places_use_primary_category_only=True\n",
    ")\n",
    "strict_confidence_loader = OvertureMapsLoader(\n",
    "    theme_type_pairs=[(\"places\", \"place\")],\n",
    "    places_minimal_confidence=0.99,\n",
    "    places_use_primary_category_only=True,\n",
    ")\n",
    "shibuya = geocode_to_region_gdf(\"Shibuya, Tokyo\")\n",
    "shibuya_default_confidence_features_gdf = default_confidence_loader.load(shibuya)\n",
    "shibuya_strict_confidence_features_gdf = strict_confidence_loader.load(shibuya)\n",
    "\n",
    "print(f\"Default confidence score: {len(shibuya_default_confidence_features_gdf)}\")\n",
    "print(f\"Strict confidence score:  {len(shibuya_strict_confidence_features_gdf)}\")"
   ]
  },
  {
   "cell_type": "markdown",
   "metadata": {},
   "source": [
    "Let's see the count of categories in the places dataset with confidence score `>= 0.99`."
   ]
  },
  {
   "cell_type": "code",
   "execution_count": null,
   "metadata": {},
   "outputs": [],
   "source": [
    "shibuya_strict_confidence_features_df = shibuya_strict_confidence_features_gdf.drop(\n",
    "    columns=GEOMETRY_COLUMN\n",
    ")\n",
    "shibuya_strict_confidence_features_df.sum().loc[lambda x: x > 0].sort_values(ascending=False)"
   ]
  },
  {
   "cell_type": "markdown",
   "metadata": {},
   "source": [
    "### Plot features\n",
    "\n",
    "Now we will see the difference between default list of places (gray dots) and strict ones (coloured circles)"
   ]
  },
  {
   "cell_type": "code",
   "execution_count": null,
   "metadata": {},
   "outputs": [],
   "source": [
    "m = shibuya_default_confidence_features_gdf.loc[\n",
    "    shibuya_default_confidence_features_gdf.index.difference(\n",
    "        shibuya_strict_confidence_features_gdf.index\n",
    "    )\n",
    "].geometry.explore(\n",
    "    tiles=\"CartoDB Voyager\",\n",
    "    color=\"gray\",\n",
    "    tooltip=False,\n",
    "    style_kwds=dict(opacity=0.25, stroke=False),\n",
    ")\n",
    "shibuya.boundary.explore(m=m, color=\"black\")\n",
    "\n",
    "shibuya_gdf_with_categories = shibuya_strict_confidence_features_gdf.join(\n",
    "    shibuya_strict_confidence_features_df.dot(shibuya_strict_confidence_features_df.columns).rename(\n",
    "        \"category\"\n",
    "    )\n",
    ")\n",
    "shibuya_gdf_with_categories.geometry.explore(\n",
    "    m=m,\n",
    "    tooltip=False,\n",
    "    marker_kwds=dict(radius=6),\n",
    "    style_kwds=dict(color=\"black\", fillOpacity=1),\n",
    ")\n",
    "shibuya_gdf_with_categories[[GEOMETRY_COLUMN, \"category\"]].explore(\n",
    "    m=m,\n",
    "    column=\"category\",\n",
    "    tooltip=[\"feature_id\", \"category\"],\n",
    "    cmap=\"tab20\",\n",
    "    marker_kwds=dict(radius=4),\n",
    "    style_kwds=dict(fillOpacity=1),\n",
    ")"
   ]
  }
 ],
 "metadata": {
  "kernelspec": {
   "display_name": ".venv",
   "language": "python",
   "name": "python3"
  },
  "language_info": {
   "codemirror_mode": {
    "name": "ipython",
    "version": 3
   },
   "file_extension": ".py",
   "mimetype": "text/x-python",
   "name": "python",
   "nbconvert_exporter": "python",
   "pygments_lexer": "ipython3",
   "version": "3.11.10"
  }
 },
 "nbformat": 4,
 "nbformat_minor": 2
}
