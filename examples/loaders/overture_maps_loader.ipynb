{
 "cells": [
  {
   "cell_type": "markdown",
   "metadata": {},
   "source": [
    "# Overture Maps Loader\n",
    "\n",
    "`OvertureMapsLoader` can download the Overture Maps data from the s3 bucket for a given region.\n",
    "\n",
    "It is a wrapper around the [`OvertureMaestro`](https://github.com/kraina-ai/overturemaestro) library that can download the data in the original format but also have some advanced functions.\n",
    "\n",
    "In the `SRAI` context, `OvertureMapsLoader` utilizes so-called wide format for returning features with columns representing potential categories of the object."
   ]
  },
  {
   "cell_type": "code",
   "execution_count": null,
   "metadata": {},
   "outputs": [],
   "source": [
    "from shapely.geometry import Point\n",
    "\n",
    "from srai.geometry import buffer_geometry\n",
    "from srai.loaders import OvertureMapsLoader"
   ]
  },
  {
   "cell_type": "markdown",
   "metadata": {},
   "source": [
    "## Using OvertureMapsLoader to download data for a specific area"
   ]
  },
  {
   "cell_type": "markdown",
   "metadata": {},
   "source": [
    "### Download all available features in Paris, France"
   ]
  },
  {
   "cell_type": "code",
   "execution_count": null,
   "metadata": {},
   "outputs": [],
   "source": [
    "loader = OvertureMapsLoader()\n",
    "paris_center_circle = buffer_geometry(Point(2.295027, 48.873777), meters=1000)\n",
    "paris_features_gdf = loader.load(paris_center_circle)\n",
    "paris_features_gdf"
   ]
  },
  {
   "cell_type": "code",
   "execution_count": null,
   "metadata": {},
   "outputs": [],
   "source": [
    "transportation_columns = paris_features_gdf"
   ]
  }
 ],
 "metadata": {
  "kernelspec": {
   "display_name": ".venv",
   "language": "python",
   "name": "python3"
  },
  "language_info": {
   "codemirror_mode": {
    "name": "ipython",
    "version": 3
   },
   "file_extension": ".py",
   "mimetype": "text/x-python",
   "name": "python",
   "nbconvert_exporter": "python",
   "pygments_lexer": "ipython3",
   "version": "3.10.12"
  }
 },
 "nbformat": 4,
 "nbformat_minor": 2
}
