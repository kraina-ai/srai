{
 "cells": [
  {
   "cell_type": "markdown",
   "metadata": {},
   "source": [
    "# Overture Maps Loader\n",
    "\n",
    "`OvertureMapsLoader` can download the Overture Maps data from the s3 bucket for a given region.\n",
    "\n",
    "It is a wrapper around the [`OvertureMaestro`](https://github.com/kraina-ai/overturemaestro) library that can download the data in the original format but also have some advanced functions.\n",
    "\n",
    "In the `SRAI` context, `OvertureMapsLoader` utilizes so-called wide format for returning features with columns representing potential categories of the object."
   ]
  },
  {
   "cell_type": "code",
   "execution_count": null,
   "metadata": {},
   "outputs": [],
   "source": [
    "from shapely.geometry import box\n",
    "\n",
    "from srai.constants import GEOMETRY_COLUMN\n",
    "from srai.loaders import OvertureMapsLoader\n",
    "from srai.regionalizers import geocode_to_region_gdf"
   ]
  },
  {
   "cell_type": "markdown",
   "metadata": {},
   "source": [
    "## Using OvertureMapsLoader to download data for a specific area"
   ]
  },
  {
   "cell_type": "markdown",
   "metadata": {},
   "source": [
    "### Download all available features in Paris, France"
   ]
  },
  {
   "cell_type": "code",
   "execution_count": null,
   "metadata": {},
   "outputs": [],
   "source": [
    "loader = OvertureMapsLoader()\n",
    "paris = geocode_to_region_gdf(\"Paris\")\n",
    "paris_features_gdf = loader.load(paris)\n",
    "paris_features_gdf"
   ]
  },
  {
   "cell_type": "markdown",
   "metadata": {},
   "source": [
    "### Plot features\n",
    "\n",
    "Colours from the this palette: https://colorhunt.co/palette/f8ededff8225b43f3f173b45"
   ]
  },
  {
   "cell_type": "code",
   "execution_count": null,
   "metadata": {},
   "outputs": [],
   "source": [
    "ax = paris.plot(color=\"#F8EDED\", figsize=(16, 16))\n",
    "\n",
    "# plot water\n",
    "water_columns = [c for c in paris_features_gdf.columns if \"water\" in c]\n",
    "water_data = paris_features_gdf[paris_features_gdf[water_columns].any(axis=1)]\n",
    "# water_data.plot(ax=ax, color=\"#f0746e\", markersize=0.1)\n",
    "water_data.plot(ax=ax, color=\"#FF8225\", markersize=0.1)\n",
    "\n",
    "# plot_roads\n",
    "roads_data = paris_features_gdf[paris_features_gdf[\"transportation|segment|road\"]]\n",
    "roads_data.plot(ax=ax, color=\"#B43F3F\", markersize=0.1, linewidth=0.25)\n",
    "\n",
    "# plot buildings\n",
    "building_columns = [c for c in paris_features_gdf.columns if c.startswith(\"buildings\")]\n",
    "buildings_data = paris_features_gdf[paris_features_gdf[building_columns].any(axis=1)]\n",
    "buildings_data.plot(ax=ax, color=\"#173B45\", markersize=0.1)\n",
    "\n",
    "xmin, ymin, xmax, ymax = paris.total_bounds\n",
    "ax.set_xlim(xmin, xmax)\n",
    "ax.set_ylim(ymin, ymax)\n",
    "\n",
    "ax.set_axis_off()"
   ]
  },
  {
   "cell_type": "markdown",
   "metadata": {},
   "source": [
    "### Download more detailed data with higher hierarchy value\n",
    "\n",
    "By default, the `hierarchy_depth` value is equal to `1`, but it can be set to `None` to get a full list of all possible columns."
   ]
  },
  {
   "cell_type": "code",
   "execution_count": null,
   "metadata": {},
   "outputs": [],
   "source": [
    "manhattan_bbox = box(-73.994551, 40.762396, -73.936872, 40.804239)\n",
    "loader = OvertureMapsLoader(hierarchy_depth=None)\n",
    "new_york_features_gdf = loader.load(manhattan_bbox)\n",
    "new_york_features_gdf"
   ]
  },
  {
   "cell_type": "markdown",
   "metadata": {},
   "source": [
    "As you can see, there are over `2600` columns available.\n",
    "\n",
    "Let's see top 20 most popular columns. "
   ]
  },
  {
   "cell_type": "code",
   "execution_count": null,
   "metadata": {},
   "outputs": [],
   "source": [
    "new_york_features_gdf.drop(columns=GEOMETRY_COLUMN).sum().sort_values(ascending=False).head(20)"
   ]
  }
 ],
 "metadata": {
  "kernelspec": {
   "display_name": ".venv",
   "language": "python",
   "name": "python3"
  },
  "language_info": {
   "codemirror_mode": {
    "name": "ipython",
    "version": 3
   },
   "file_extension": ".py",
   "mimetype": "text/x-python",
   "name": "python",
   "nbconvert_exporter": "python",
   "pygments_lexer": "ipython3",
   "version": "3.12.8"
  }
 },
 "nbformat": 4,
 "nbformat_minor": 2
}
