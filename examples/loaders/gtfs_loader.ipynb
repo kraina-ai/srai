{
 "cells": [
  {
   "attachments": {},
   "cell_type": "markdown",
   "metadata": {},
   "source": [
    "# GTFS Loader Example"
   ]
  },
  {
   "cell_type": "code",
   "execution_count": null,
   "metadata": {},
   "outputs": [],
   "source": [
    "from pathlib import Path\n",
    "from srai.loaders import GTFSLoader, download_file\n",
    "import gtfs_kit as gk\n",
    "import geopandas as gpd\n",
    "from shapely.geometry import Point\n",
    "from srai.constants import WGS84_CRS"
   ]
  },
  {
   "attachments": {},
   "cell_type": "markdown",
   "metadata": {},
   "source": [
    "## Download an example GTFS feed from Wroclaw, Poland\n",
    "\n",
    "In this notebook we use the GTFS feed for Wroclaw, Poland as an example, which is available in Wroclaw's open data repository[1]. This download uses transitfeeds.com[2] to download the feed, but you can also download the feed directly from the Wroclaw open data repository.\n",
    "\n",
    "1. https://www.wroclaw.pl/open-data/dataset/rozkladjazdytransportupublicznegoplik_data\n",
    "2. https://transitfeeds.com/p/mpk-wroc-aw/663"
   ]
  },
  {
   "cell_type": "code",
   "execution_count": null,
   "metadata": {},
   "outputs": [],
   "source": [
    "wroclaw_gtfs = Path().resolve() / \"files\" / \"example.zip\"\n",
    "gtfs_url = \"https://transitfeeds.com/p/mpk-wroc-aw/663/20221221/download\"\n",
    "\n",
    "download_file(gtfs_url, wroclaw_gtfs.as_posix())"
   ]
  },
  {
   "attachments": {},
   "cell_type": "markdown",
   "metadata": {},
   "source": [
    "## Peek at the feed using `gtfs_kit` directly"
   ]
  },
  {
   "cell_type": "code",
   "execution_count": null,
   "metadata": {},
   "outputs": [],
   "source": [
    "feed = gk.read_feed(wroclaw_gtfs, dist_units=\"km\")\n",
    "\n",
    "stops_df = feed.stops[[\"stop_id\", \"stop_lat\", \"stop_lon\"]].set_index(\"stop_id\")\n",
    "stops_df[\"geometry\"] = stops_df.apply(lambda row: Point(row[\"stop_lon\"], row[\"stop_lat\"]), axis=1)\n",
    "\n",
    "stops_gdf = gpd.GeoDataFrame(\n",
    "    stops_df,\n",
    "    geometry=\"geometry\",\n",
    "    crs=WGS84_CRS,\n",
    ")\n",
    "\n",
    "stops_gdf.explore(tiles=\"CartoDB positron\")"
   ]
  },
  {
   "attachments": {},
   "cell_type": "markdown",
   "metadata": {},
   "source": [
    "## Use GTFSLoader to load stops statistics from the feed"
   ]
  },
  {
   "cell_type": "code",
   "execution_count": null,
   "metadata": {},
   "outputs": [],
   "source": [
    "gtfs_loader = GTFSLoader()\n",
    "trips_gdf = gtfs_loader.load(wroclaw_gtfs)\n",
    "\n",
    "print(trips_gdf.columns)"
   ]
  },
  {
   "cell_type": "code",
   "execution_count": null,
   "metadata": {},
   "outputs": [],
   "source": [
    "trips_gdf"
   ]
  }
 ],
 "metadata": {
  "kernelspec": {
   "display_name": ".venv",
   "language": "python",
   "name": "python3"
  },
  "language_info": {
   "codemirror_mode": {
    "name": "ipython",
    "version": 3
   },
   "file_extension": ".py",
   "mimetype": "text/x-python",
   "name": "python",
   "nbconvert_exporter": "python",
   "pygments_lexer": "ipython3",
   "version": "3.8.10"
  },
  "vscode": {
   "interpreter": {
    "hash": "f39c7279c85c8be5d827e53eddb5011e966102d239fe8b81ca4bd9f0123eda8f"
   }
  }
 },
 "nbformat": 4,
 "nbformat_minor": 2
}
