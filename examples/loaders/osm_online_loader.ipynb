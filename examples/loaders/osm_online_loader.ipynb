{
 "cells": [
  {
   "attachments": {},
   "cell_type": "markdown",
   "metadata": {},
   "source": [
    "# OSM Online Loader"
   ]
  },
  {
   "cell_type": "code",
   "execution_count": null,
   "metadata": {},
   "outputs": [],
   "source": [
    "from srai.loaders.osm_loaders.filters.popular import get_popular_tags\n",
    "from srai.loaders.osm_loaders.filters import GEOFABRIK_LAYERS, HEX2VEC_FILTER\n",
    "from srai.loaders.osm_loaders import OSMOnlineLoader\n",
    "from srai.regionalizers import geocode_to_region_gdf\n",
    "from srai.plotting.folium_wrapper import plot_regions\n",
    "from functional import seq"
   ]
  },
  {
   "attachments": {},
   "cell_type": "markdown",
   "metadata": {},
   "source": [
    "## Filters\n",
    "Filters are dictionaries used for specifying what type of objects one would like to download from OpenStreetMap.  \n",
    "There is currently one predefined filter (from Hex2Vec paper) and one way to download a filter - using popular tags from taginfo API.  \n",
    "They can also be defined manually in code.\n",
    "\n",
    "Additionally, few predefined grouped filters are available (eg. `BASE_OSM_GROUPS_FILTER` and `GEOFABRIK_LAYERS`).\n",
    "Grouped filters categorize base filters into groups."
   ]
  },
  {
   "attachments": {},
   "cell_type": "markdown",
   "metadata": {},
   "source": [
    "### Get popular tags from taginfo API"
   ]
  },
  {
   "cell_type": "code",
   "execution_count": null,
   "metadata": {},
   "outputs": [],
   "source": [
    "all_popular_tags = get_popular_tags()\n",
    "num_keys = len(all_popular_tags)\n",
    "num_values = seq(all_popular_tags.values()).map(len).sum()\n",
    "f\"Unique keys: {num_keys}. Key/value pairs: {num_values}\""
   ]
  },
  {
   "cell_type": "code",
   "execution_count": null,
   "metadata": {},
   "outputs": [],
   "source": [
    "seq(all_popular_tags.items()).take(10).dict()"
   ]
  },
  {
   "cell_type": "code",
   "execution_count": null,
   "metadata": {},
   "outputs": [],
   "source": [
    "frequent_in_wiki_only_tags = get_popular_tags(in_wiki_only=True, min_fraction=0.001)\n",
    "frequent_in_wiki_only_tags"
   ]
  },
  {
   "attachments": {},
   "cell_type": "markdown",
   "metadata": {},
   "source": [
    "### Import a predefined filter"
   ]
  },
  {
   "cell_type": "code",
   "execution_count": null,
   "metadata": {},
   "outputs": [],
   "source": [
    "hex_2_vec_keys = len(HEX2VEC_FILTER)\n",
    "hex_2_vec_key_values = seq(HEX2VEC_FILTER.values()).map(len).sum()\n",
    "f\"Unique keys: {hex_2_vec_keys}. Key/value pairs: {hex_2_vec_key_values}\""
   ]
  },
  {
   "cell_type": "code",
   "execution_count": null,
   "metadata": {},
   "outputs": [],
   "source": [
    "geofabrik_layers_keys = len(GEOFABRIK_LAYERS)\n",
    "geofabrik_layers_key_values = (\n",
    "    seq(GEOFABRIK_LAYERS.values()).flat_map(lambda filter: filter.items()).map(len).sum()\n",
    ")\n",
    "f\"Unique groups: {geofabrik_layers_keys}. Key/value pairs: {geofabrik_layers_key_values}\""
   ]
  },
  {
   "attachments": {},
   "cell_type": "markdown",
   "metadata": {},
   "source": [
    "## Using OSMOnlineLoader to download data for a specific area"
   ]
  },
  {
   "attachments": {},
   "cell_type": "markdown",
   "metadata": {},
   "source": [
    "### Download all parks in Wrocław, Poland"
   ]
  },
  {
   "cell_type": "code",
   "execution_count": null,
   "metadata": {},
   "outputs": [],
   "source": [
    "loader = OSMOnlineLoader()\n",
    "parks_filter = {\"leisure\": \"park\"}\n",
    "wroclaw_gdf = geocode_to_region_gdf(\"Wrocław, Poland\")\n",
    "parks_gdf = loader.load(wroclaw_gdf, parks_filter)\n",
    "parks_gdf"
   ]
  },
  {
   "cell_type": "code",
   "execution_count": null,
   "metadata": {},
   "outputs": [],
   "source": [
    "folium_map = plot_regions(wroclaw_gdf, colormap=[\"lightgray\"], tiles_style=\"CartoDB positron\")\n",
    "parks_gdf.explore(m=folium_map, color=\"forestgreen\")"
   ]
  },
  {
   "attachments": {},
   "cell_type": "markdown",
   "metadata": {},
   "source": [
    "### Download hotels, bars, cafes, pubs and sport related objects in Barcelona\n",
    "\n",
    "Uses grouped filters as an example."
   ]
  },
  {
   "cell_type": "code",
   "execution_count": null,
   "metadata": {},
   "outputs": [],
   "source": [
    "barcelona_gdf = geocode_to_region_gdf(\"Barcelona\")\n",
    "barcelona_filter = {\n",
    "    \"tourism\": {\"building\": \"hotel\", \"amenity\": [\"bar\", \"cafe\", \"pub\"]},\n",
    "    \"sport\": {\"sport\": \"soccer\", \"leisure\": [\"pitch\", \"sports_centre\", \"stadium\"]},\n",
    "}\n",
    "\n",
    "barcelona_objects_gdf = loader.load(barcelona_gdf, barcelona_filter)\n",
    "barcelona_objects_gdf"
   ]
  },
  {
   "attachments": {},
   "cell_type": "markdown",
   "metadata": {},
   "source": [
    "### Tourism group"
   ]
  },
  {
   "cell_type": "code",
   "execution_count": null,
   "metadata": {},
   "outputs": [],
   "source": [
    "folium_map = plot_regions(barcelona_gdf, colormap=[\"lightgray\"], tiles_style=\"CartoDB positron\")\n",
    "barcelona_objects_gdf.query(\"tourism.notna()\").explore(\n",
    "    m=folium_map,\n",
    "    color=\"orangered\",\n",
    "    marker_kwds=dict(radius=1),\n",
    ")"
   ]
  }
 ],
 "metadata": {
  "kernelspec": {
   "display_name": ".venv",
   "language": "python",
   "name": "python3"
  },
  "language_info": {
   "codemirror_mode": {
    "name": "ipython",
    "version": 3
   },
   "file_extension": ".py",
   "mimetype": "text/x-python",
   "name": "python",
   "nbconvert_exporter": "python",
   "pygments_lexer": "ipython3",
   "version": "3.8.10"
  },
  "vscode": {
   "interpreter": {
    "hash": "cdb8aaadc0decb944250d2ac9b06f485d1fc395bd22d4875475c731b86175a8b"
   }
  }
 },
 "nbformat": 4,
 "nbformat_minor": 2
}
