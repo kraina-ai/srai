{
 "cells": [
  {
   "attachments": {},
   "cell_type": "markdown",
   "metadata": {},
   "source": [
    "# OSMWayLoader"
   ]
  },
  {
   "cell_type": "code",
   "execution_count": null,
   "metadata": {},
   "outputs": [],
   "source": [
    "import geopandas as gpd\n",
    "import osmnx as ox\n",
    "import pandas as pd\n",
    "from keplergl import KeplerGl\n",
    "import shapely.geometry as shpg\n",
    "\n",
    "from srai.loaders.osm_way_loader import NetworkType, OSMWayLoader\n",
    "from srai.constants import WGS84_CRS"
   ]
  },
  {
   "attachments": {},
   "cell_type": "markdown",
   "metadata": {},
   "source": [
    "## Small area"
   ]
  },
  {
   "cell_type": "code",
   "execution_count": null,
   "metadata": {},
   "outputs": [],
   "source": [
    "polygon1 = shpg.Polygon(\n",
    "    [\n",
    "        (17.1005309, 51.1100158),\n",
    "        (17.1020436, 51.1100427),\n",
    "        (17.1021938, 51.1082509),\n",
    "        (17.1006274, 51.1081027),\n",
    "        (17.1005201, 51.1099956),\n",
    "    ]\n",
    ")\n",
    "polygon2 = shpg.Polygon(\n",
    "    [\n",
    "        (17.0994473, 51.1084126),\n",
    "        (17.1023226, 51.1086551),\n",
    "        (17.1023333, 51.1076312),\n",
    "        (17.0994473, 51.1083722),\n",
    "    ]\n",
    ")\n",
    "gdf_place = gpd.GeoDataFrame({\"geometry\": [polygon1, polygon2]}, crs=WGS84_CRS)\n",
    "gdf_place.plot()"
   ]
  },
  {
   "cell_type": "code",
   "execution_count": null,
   "metadata": {},
   "outputs": [],
   "source": [
    "osmwl = OSMWayLoader(NetworkType.BIKE, metadata=True)\n",
    "gdf_nodes, gdf_edges = osmwl.load(gdf_place)\n",
    "ax = gdf_edges.plot(linewidth=1, figsize=(12, 7))\n",
    "gdf_nodes.plot(ax=ax, markersize=3, color=\"red\")"
   ]
  },
  {
   "cell_type": "code",
   "execution_count": null,
   "metadata": {},
   "outputs": [],
   "source": [
    "gdf_nodes"
   ]
  },
  {
   "cell_type": "code",
   "execution_count": null,
   "metadata": {},
   "outputs": [],
   "source": [
    "gdf_edges"
   ]
  },
  {
   "attachments": {},
   "cell_type": "markdown",
   "metadata": {},
   "source": [
    "## Bigger area"
   ]
  },
  {
   "cell_type": "code",
   "execution_count": null,
   "metadata": {},
   "outputs": [],
   "source": [
    "gdf_place = ox.geocode_to_gdf(\"Wroclaw, Poland\")\n",
    "gdf_place.plot()"
   ]
  },
  {
   "cell_type": "code",
   "execution_count": null,
   "metadata": {},
   "outputs": [],
   "source": [
    "osmwl = OSMWayLoader(NetworkType.DRIVE)\n",
    "gdf_nodes, gdf_edges = osmwl.load(gdf_place)\n",
    "ax = gdf_edges.plot(linewidth=1, figsize=(12, 7))\n",
    "gdf_nodes.plot(ax=ax, markersize=3, color=\"red\")"
   ]
  },
  {
   "cell_type": "code",
   "execution_count": null,
   "metadata": {},
   "outputs": [],
   "source": [
    "gdf_nodes"
   ]
  },
  {
   "cell_type": "code",
   "execution_count": null,
   "metadata": {},
   "outputs": [],
   "source": [
    "gdf_edges"
   ]
  }
 ],
 "metadata": {
  "kernelspec": {
   "display_name": "Python 3.8.14 ('.venv': venv)",
   "language": "python",
   "name": "python3"
  },
  "language_info": {
   "codemirror_mode": {
    "name": "ipython",
    "version": 3
   },
   "file_extension": ".py",
   "mimetype": "text/x-python",
   "name": "python",
   "nbconvert_exporter": "python",
   "pygments_lexer": "ipython3",
   "version": "3.11.1"
  },
  "vscode": {
   "interpreter": {
    "hash": "ff171c218963a21ae796a71e1fcf1df45597c5219c663e3cec1d9a9df6951d9c"
   }
  }
 },
 "nbformat": 4,
 "nbformat_minor": 2
}
