{
 "cells": [
  {
   "attachments": {},
   "cell_type": "markdown",
   "metadata": {},
   "source": [
    "# OSM Tag Loader"
   ]
  },
  {
   "cell_type": "code",
   "execution_count": null,
   "metadata": {},
   "outputs": [],
   "source": [
    "from srai.loaders.osm_tag_loader.filters.popular import get_popular_tags\n",
    "from srai.loaders.osm_tag_loader.filters import HEX2VEC_FILTER\n",
    "from srai.loaders.osm_tag_loader import OSMTagLoader\n",
    "from functional import seq\n",
    "import osmnx as ox"
   ]
  },
  {
   "attachments": {},
   "cell_type": "markdown",
   "metadata": {},
   "source": [
    "## Filters\n",
    "Filters are dictionaries used for specifying what type of objects one would like to download from OpenStreetMap.  \n",
    "There is currently one predefined filter (from Hex2Vec paper) and one way to download a filter - using popular tags from taginfo API.  \n",
    "They can also be defined manually in code."
   ]
  },
  {
   "attachments": {},
   "cell_type": "markdown",
   "metadata": {},
   "source": [
    "### Get popular tags from taginfo API"
   ]
  },
  {
   "cell_type": "code",
   "execution_count": null,
   "metadata": {},
   "outputs": [],
   "source": [
    "all_popular_tags = get_popular_tags()\n",
    "num_keys = len(all_popular_tags)\n",
    "num_values = seq(all_popular_tags.values()).map(len).sum()\n",
    "f\"Unique keys: {num_keys}. Key/value pairs: {num_values}\""
   ]
  },
  {
   "cell_type": "code",
   "execution_count": null,
   "metadata": {},
   "outputs": [],
   "source": [
    "seq(all_popular_tags.items()).take(10).dict()"
   ]
  },
  {
   "cell_type": "code",
   "execution_count": null,
   "metadata": {},
   "outputs": [],
   "source": [
    "frequent_in_wiki_only_tags = get_popular_tags(in_wiki_only=True, min_fraction=0.001)\n",
    "frequent_in_wiki_only_tags"
   ]
  },
  {
   "attachments": {},
   "cell_type": "markdown",
   "metadata": {},
   "source": [
    "### Import a predefined filter"
   ]
  },
  {
   "cell_type": "code",
   "execution_count": null,
   "metadata": {},
   "outputs": [],
   "source": [
    "hex_2_vec_keys = len(HEX2VEC_FILTER)\n",
    "hex_2_vec_key_values = seq(HEX2VEC_FILTER.values()).map(len).sum()\n",
    "f\"Unique keys: {hex_2_vec_keys}. Key/value pairs: {hex_2_vec_key_values}\""
   ]
  },
  {
   "attachments": {},
   "cell_type": "markdown",
   "metadata": {},
   "source": [
    "## Using OSMTagLoader to download data for a specific area"
   ]
  },
  {
   "attachments": {},
   "cell_type": "markdown",
   "metadata": {},
   "source": [
    "### Download all parks in Wrocław, Poland"
   ]
  },
  {
   "cell_type": "code",
   "execution_count": null,
   "metadata": {},
   "outputs": [],
   "source": [
    "loader = OSMTagLoader()\n",
    "parks_filter = {\"leisure\": \"park\"}\n",
    "wroclaw_gdf = ox.geocode_to_gdf(\"Wrocław, Poland\")\n",
    "parks_gdf = loader.load(wroclaw_gdf, parks_filter)\n",
    "parks_gdf"
   ]
  },
  {
   "cell_type": "code",
   "execution_count": null,
   "metadata": {},
   "outputs": [],
   "source": [
    "ax = wroclaw_gdf.plot(color=\"blue\", alpha=0.3, figsize=(8, 8))\n",
    "parks_gdf.plot(ax=ax, color=\"green\")"
   ]
  },
  {
   "attachments": {},
   "cell_type": "markdown",
   "metadata": {},
   "source": [
    "### Download hotels, bars, cafes, pubs and soccer related objects in Barcelona"
   ]
  },
  {
   "cell_type": "code",
   "execution_count": null,
   "metadata": {},
   "outputs": [],
   "source": [
    "barcelona_gdf = ox.geocode_to_gdf(\"Barcelona\")\n",
    "barcelona_filter = {\"building\": \"hotel\", \"amenity\": [\"bar\", \"cafe\", \"pub\"], \"sport\": \"soccer\"}\n",
    "barcelona_objects_gdf = loader.load(barcelona_gdf, barcelona_filter)\n",
    "barcelona_objects_gdf"
   ]
  },
  {
   "attachments": {},
   "cell_type": "markdown",
   "metadata": {},
   "source": [
    "### Amenities"
   ]
  },
  {
   "cell_type": "code",
   "execution_count": null,
   "metadata": {},
   "outputs": [],
   "source": [
    "ax = barcelona_gdf.plot(color=\"green\", alpha=0.3, figsize=(7, 7))\n",
    "barcelona_objects_gdf.query(\"amenity.notna()\").plot(ax=ax, color=\"red\", markersize=1)"
   ]
  }
 ],
 "metadata": {
  "kernelspec": {
   "display_name": ".venv",
   "language": "python",
   "name": "python3"
  },
  "language_info": {
   "codemirror_mode": {
    "name": "ipython",
    "version": 3
   },
   "file_extension": ".py",
   "mimetype": "text/x-python",
   "name": "python",
   "nbconvert_exporter": "python",
   "pygments_lexer": "ipython3",
   "version": "3.8.16"
  },
  "vscode": {
   "interpreter": {
    "hash": "cdb8aaadc0decb944250d2ac9b06f485d1fc395bd22d4875475c731b86175a8b"
   }
  }
 },
 "nbformat": 4,
 "nbformat_minor": 2
}
