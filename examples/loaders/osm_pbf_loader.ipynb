{
 "cells": [
  {
   "attachments": {},
   "cell_type": "markdown",
   "metadata": {},
   "source": [
    "# OSM PBF Loader\n",
    "\n",
    "`OSMPbfLoader` can really quickly parse full OSM extract in the form of `*.osm.pbf` file.\n",
    "\n",
    "It can download and parse a lot of features much faster than the `OSMOnlineLoader`, but it's much more useful when a lot of different features are required at once (like when using predefined filters).\n",
    "\n",
    "When only a single or few features are needed, `OSMOnlineLoader` might be a better choice, since `OSMPbfLoader` will use a full extract of all features in a given region and will have to iterate over all of them."
   ]
  },
  {
   "cell_type": "code",
   "execution_count": null,
   "metadata": {},
   "outputs": [],
   "source": [
    "from srai.loaders.osm_loaders.filters import HEX2VEC_FILTER, GEOFABRIK_LAYERS\n",
    "from srai.loaders.osm_loaders.filters.popular import get_popular_tags\n",
    "from srai.loaders.osm_loaders import OSMPbfLoader\n",
    "from srai.constants import REGIONS_INDEX, WGS84_CRS\n",
    "from srai.regionalizers import geocode_to_region_gdf\n",
    "from srai.geometry import buffer_geometry\n",
    "\n",
    "from shapely.geometry import Point, box\n",
    "import geopandas as gpd"
   ]
  },
  {
   "attachments": {},
   "cell_type": "markdown",
   "metadata": {},
   "source": [
    "## Using OSMPbfLoader to download data for a specific area"
   ]
  },
  {
   "attachments": {},
   "cell_type": "markdown",
   "metadata": {},
   "source": [
    "### Download all features from `HEX2VEC_FILTER` in Warsaw, Poland"
   ]
  },
  {
   "cell_type": "code",
   "execution_count": null,
   "metadata": {},
   "outputs": [],
   "source": [
    "loader = OSMPbfLoader()\n",
    "warsaw_gdf = geocode_to_region_gdf(\"Warsaw, Poland\")\n",
    "warsaw_features_gdf = loader.load(warsaw_gdf, HEX2VEC_FILTER)\n",
    "warsaw_features_gdf"
   ]
  },
  {
   "attachments": {},
   "cell_type": "markdown",
   "metadata": {},
   "source": [
    "### Plot features\n",
    "\n",
    "Inspired by [`prettymaps`](https://github.com/marceloprates/prettymaps)"
   ]
  },
  {
   "cell_type": "code",
   "execution_count": null,
   "metadata": {},
   "outputs": [],
   "source": [
    "clipped_features_gdf = warsaw_features_gdf.clip(warsaw_gdf.geometry.unary_union)"
   ]
  },
  {
   "cell_type": "code",
   "execution_count": null,
   "metadata": {},
   "outputs": [],
   "source": [
    "ax = warsaw_gdf.plot(color=\"lavender\", figsize=(16, 16))\n",
    "\n",
    "# plot water\n",
    "clipped_features_gdf.dropna(subset=[\"water\", \"waterway\"], how=\"all\").plot(\n",
    "    ax=ax, color=\"deepskyblue\"\n",
    ")\n",
    "\n",
    "# plot greenery\n",
    "clipped_features_gdf[\n",
    "    clipped_features_gdf[\"landuse\"].isin(\n",
    "        [\"grass\", \"orchard\", \"flowerbed\", \"forest\", \"greenfield\", \"meadow\"]\n",
    "    )\n",
    "].plot(ax=ax, color=\"mediumseagreen\")\n",
    "\n",
    "# plot buildings\n",
    "clipped_features_gdf.dropna(subset=[\"building\"], how=\"all\").plot(\n",
    "    ax=ax, color=\"dimgray\", markersize=0.1\n",
    ")\n",
    "\n",
    "xmin, ymin, xmax, ymax = warsaw_gdf.total_bounds\n",
    "ax.set_xlim(xmin, xmax)\n",
    "ax.set_ylim(ymin, ymax)\n",
    "\n",
    "ax.set_axis_off()"
   ]
  },
  {
   "attachments": {},
   "cell_type": "markdown",
   "metadata": {},
   "source": [
    "### Download all features from popular tags based on OSMTagInfo in Vienna, Austria"
   ]
  },
  {
   "cell_type": "code",
   "execution_count": null,
   "metadata": {},
   "outputs": [],
   "source": [
    "popular_tags = get_popular_tags(in_wiki_only=True)\n",
    "\n",
    "num_keys = len(popular_tags)\n",
    "f\"Unique keys: {num_keys}.\""
   ]
  },
  {
   "cell_type": "code",
   "execution_count": null,
   "metadata": {},
   "outputs": [],
   "source": [
    "{k: popular_tags[k] for k in list(popular_tags)[:10]}"
   ]
  },
  {
   "cell_type": "code",
   "execution_count": null,
   "metadata": {},
   "outputs": [],
   "source": [
    "vienna_center_circle = buffer_geometry(Point(16.37009, 48.20931), meters=1000)\n",
    "vienna_center_circle_gdf = gpd.GeoDataFrame(\n",
    "    geometry=[vienna_center_circle],\n",
    "    crs=WGS84_CRS,\n",
    "    index=gpd.pd.Index(data=[\"Vienna\"], name=REGIONS_INDEX),\n",
    ")"
   ]
  },
  {
   "cell_type": "code",
   "execution_count": null,
   "metadata": {},
   "outputs": [],
   "source": [
    "loader = OSMPbfLoader()\n",
    "vienna_features_gdf = loader.load(vienna_center_circle_gdf, popular_tags)\n",
    "vienna_features_gdf"
   ]
  },
  {
   "attachments": {},
   "cell_type": "markdown",
   "metadata": {},
   "source": [
    "### Plot features\n",
    "\n",
    "Uses `default` preset colours from [`prettymaps`](https://github.com/marceloprates/prettymaps)"
   ]
  },
  {
   "cell_type": "code",
   "execution_count": null,
   "metadata": {},
   "outputs": [],
   "source": [
    "clipped_vienna_features_gdf = vienna_features_gdf.clip(vienna_center_circle)"
   ]
  },
  {
   "cell_type": "code",
   "execution_count": null,
   "metadata": {},
   "outputs": [],
   "source": [
    "ax = vienna_center_circle_gdf.plot(color=\"#F2F4CB\", figsize=(16, 16))\n",
    "\n",
    "# plot water\n",
    "clipped_vienna_features_gdf.dropna(subset=[\"water\", \"waterway\"], how=\"all\").plot(\n",
    "    ax=ax, color=\"#a8e1e6\"\n",
    ")\n",
    "\n",
    "# plot streets\n",
    "clipped_vienna_features_gdf.dropna(subset=[\"highway\"], how=\"all\").plot(\n",
    "    ax=ax, color=\"#475657\", markersize=0.1\n",
    ")\n",
    "\n",
    "# plot buildings\n",
    "clipped_vienna_features_gdf.dropna(subset=[\"building\"], how=\"all\").plot(ax=ax, color=\"#FF5E5B\")\n",
    "\n",
    "# plot parkings\n",
    "clipped_vienna_features_gdf[\n",
    "    (clipped_vienna_features_gdf[\"amenity\"] == \"parking\")\n",
    "    | (clipped_vienna_features_gdf[\"highway\"] == \"pedestrian\")\n",
    "].plot(ax=ax, color=\"#2F3737\", markersize=0.1)\n",
    "\n",
    "# plot greenery\n",
    "clipped_vienna_features_gdf[\n",
    "    clipped_vienna_features_gdf[\"landuse\"].isin(\n",
    "        [\"grass\", \"orchard\", \"flowerbed\", \"forest\", \"greenfield\", \"meadow\"]\n",
    "    )\n",
    "].plot(ax=ax, color=\"#8BB174\")\n",
    "\n",
    "xmin, ymin, xmax, ymax = vienna_center_circle_gdf.total_bounds\n",
    "ax.set_xlim(xmin, xmax)\n",
    "ax.set_ylim(ymin, ymax)\n",
    "\n",
    "ax.set_axis_off()"
   ]
  },
  {
   "attachments": {},
   "cell_type": "markdown",
   "metadata": {},
   "source": [
    "### Download all grouped features based on Geofabrik layers in New York, USA"
   ]
  },
  {
   "cell_type": "code",
   "execution_count": null,
   "metadata": {},
   "outputs": [],
   "source": [
    "manhattan_bbox = box(-73.994551, 40.762396, -73.936872, 40.804239)\n",
    "manhattan_bbox_gdf = gpd.GeoDataFrame(\n",
    "    geometry=[manhattan_bbox],\n",
    "    crs=WGS84_CRS,\n",
    "    index=gpd.pd.Index(data=[\"New York\"], name=REGIONS_INDEX),\n",
    ")"
   ]
  },
  {
   "cell_type": "code",
   "execution_count": null,
   "metadata": {},
   "outputs": [],
   "source": [
    "loader = OSMPbfLoader()\n",
    "new_york_features_gdf = loader.load(manhattan_bbox_gdf, GEOFABRIK_LAYERS)\n",
    "new_york_features_gdf"
   ]
  },
  {
   "attachments": {},
   "cell_type": "markdown",
   "metadata": {},
   "source": [
    "### Plot features\n",
    "\n",
    "Inspired by https://snazzymaps.com/style/14889/flat-pale"
   ]
  },
  {
   "cell_type": "code",
   "execution_count": null,
   "metadata": {},
   "outputs": [],
   "source": [
    "ax = manhattan_bbox_gdf.plot(color=\"#e7e7df\", figsize=(16, 16))\n",
    "\n",
    "# plot greenery\n",
    "new_york_features_gdf[new_york_features_gdf[\"leisure\"] == \"leisure=park\"].plot(\n",
    "    ax=ax, color=\"#bae5ce\"\n",
    ")\n",
    "\n",
    "# plot water\n",
    "new_york_features_gdf.dropna(subset=[\"water\", \"waterways\"], how=\"all\").plot(ax=ax, color=\"#c7eced\")\n",
    "\n",
    "# plot streets\n",
    "new_york_features_gdf.dropna(subset=[\"paths_unsuitable_for_cars\"], how=\"all\").plot(\n",
    "    ax=ax, color=\"#e7e7df\", linewidth=1\n",
    ")\n",
    "new_york_features_gdf.dropna(\n",
    "    subset=[\"very_small_roads\", \"highway_links\", \"minor_roads\"], how=\"all\"\n",
    ").plot(ax=ax, color=\"#fff\", linewidth=2)\n",
    "new_york_features_gdf.dropna(subset=[\"major_roads\"], how=\"all\").plot(\n",
    "    ax=ax, color=\"#fac9a9\", linewidth=3\n",
    ")\n",
    "\n",
    "# plot buildings\n",
    "new_york_features_gdf.dropna(subset=[\"buildings\"], how=\"all\").plot(ax=ax, color=\"#cecebd\")\n",
    "\n",
    "xmin, ymin, xmax, ymax = manhattan_bbox_gdf.total_bounds\n",
    "ax.set_xlim(xmin, xmax)\n",
    "ax.set_ylim(ymin, ymax)\n",
    "\n",
    "ax.set_axis_off()"
   ]
  },
  {
   "cell_type": "markdown",
   "metadata": {},
   "source": [
    "## Using OSMPbfLoader to download data for a specific area and transforming it to GeoParquet file"
   ]
  },
  {
   "cell_type": "markdown",
   "metadata": {},
   "source": [
    "### Download all grouped features based on Geofabrik layers in Reykjavík, Iceland"
   ]
  },
  {
   "cell_type": "code",
   "execution_count": null,
   "metadata": {},
   "outputs": [],
   "source": [
    "loader = OSMPbfLoader()\n",
    "reykjavik_gdf = geocode_to_region_gdf(\"Reykjavík, IS\")\n",
    "reykjavik_features_gpq = loader.load_to_geoparquet(reykjavik_gdf, GEOFABRIK_LAYERS)\n",
    "reykjavik_features_gpq"
   ]
  },
  {
   "cell_type": "markdown",
   "metadata": {},
   "source": [
    "### Read those features using DuckDB"
   ]
  },
  {
   "cell_type": "code",
   "execution_count": null,
   "metadata": {},
   "outputs": [],
   "source": [
    "import duckdb\n",
    "\n",
    "connection = duckdb.connect()\n",
    "\n",
    "connection.load_extension(\"parquet\")\n",
    "connection.load_extension(\"spatial\")\n",
    "\n",
    "features_relation = connection.read_parquet([str(path) for path in reykjavik_features_gpq]).project(\n",
    "    \"* REPLACE (ST_GeomFromWKB(geometry) AS geometry)\"\n",
    ")\n",
    "features_relation"
   ]
  },
  {
   "cell_type": "markdown",
   "metadata": {},
   "source": [
    "### Count all buildings"
   ]
  },
  {
   "cell_type": "code",
   "execution_count": null,
   "metadata": {},
   "outputs": [],
   "source": [
    "features_relation.filter(\"buildings IS NOT NULL\").count(\"feature_id\")"
   ]
  },
  {
   "cell_type": "markdown",
   "metadata": {},
   "source": [
    "### Download main roads for Estonia using `PbfFileHandler`\n",
    "\n",
    "`PbfFileHandler` is a special class dedicated for reading `*.osm.pbf` files and is used by `OSMPbfLoader` to load features.\n",
    "It allows for parsing `pbf` files without any tags or geometry filtering, that is automatically applied by `OSMPbfLoader`."
   ]
  },
  {
   "cell_type": "code",
   "execution_count": null,
   "metadata": {},
   "outputs": [],
   "source": [
    "highways_filter = {\n",
    "    \"highway\": [\n",
    "        \"motorway\",\n",
    "        \"trunk\",\n",
    "        \"primary\",\n",
    "        \"secondary\",\n",
    "        \"tertiary\",\n",
    "    ]\n",
    "}"
   ]
  },
  {
   "cell_type": "code",
   "execution_count": null,
   "metadata": {},
   "outputs": [],
   "source": [
    "from srai.loaders import download_file\n",
    "from srai.loaders.osm_loaders.pbf_file_handler import PbfFileHandler\n",
    "\n",
    "estonia_pbf_url = \"http://download.geofabrik.de/europe/estonia-latest.osm.pbf\"\n",
    "estonia_pbf_file = \"estonia-latest.osm.pbf\"\n",
    "download_file(estonia_pbf_url, estonia_pbf_file, force_download=False)\n",
    "\n",
    "handler = PbfFileHandler(\n",
    "    geometry_filter=None, tags_filter=highways_filter\n",
    ")  # parsing pbf file without tags filtering requires a lot of memory available in the system\n",
    "estonia_features_gpq = handler.convert_pbf_to_gpq(estonia_pbf_file)\n",
    "estonia_features_gpq"
   ]
  },
  {
   "cell_type": "code",
   "execution_count": null,
   "metadata": {},
   "outputs": [],
   "source": [
    "features_relation = connection.read_parquet(str(estonia_features_gpq)).project(\n",
    "    \"* REPLACE (ST_GeomFromWKB(geometry) AS geometry)\"\n",
    ")\n",
    "features_relation"
   ]
  },
  {
   "cell_type": "markdown",
   "metadata": {},
   "source": [
    "### Count loaded roads"
   ]
  },
  {
   "cell_type": "code",
   "execution_count": null,
   "metadata": {},
   "outputs": [],
   "source": [
    "features_relation.count(\"feature_id\")"
   ]
  },
  {
   "cell_type": "markdown",
   "metadata": {},
   "source": [
    "### Calculate roads length\n",
    "We will transform the geometries to the Estonian CRS - [EPSG:3301](https://epsg.io/3301)"
   ]
  },
  {
   "cell_type": "code",
   "execution_count": null,
   "metadata": {},
   "outputs": [],
   "source": [
    "length_in_meters = (\n",
    "    features_relation.project(\n",
    "        \"ST_Length(ST_Transform(geometry, 'EPSG:4326', 'EPSG:3301')) AS road_length\"\n",
    "    )\n",
    "    .sum(\"road_length\")\n",
    "    .fetchone()[0]\n",
    ")\n",
    "length_in_km = length_in_meters / 1000\n",
    "length_in_km"
   ]
  },
  {
   "cell_type": "markdown",
   "metadata": {},
   "source": [
    "### Plot the roads using GeoPandas\n",
    "\n",
    "With fast loading of geoparuqet files using `geoarrow.pyarrow` library."
   ]
  },
  {
   "cell_type": "code",
   "execution_count": null,
   "metadata": {},
   "outputs": [],
   "source": [
    "import geoarrow.pyarrow as ga\n",
    "from geoarrow.pyarrow import io\n",
    "\n",
    "from srai.constants import GEOMETRY_COLUMN\n",
    "\n",
    "parquet_table = io.read_geoparquet_table(estonia_features_gpq)\n",
    "ga.to_geopandas(parquet_table.column(GEOMETRY_COLUMN)).plot()"
   ]
  }
 ],
 "metadata": {
  "kernelspec": {
   "display_name": ".venv",
   "language": "python",
   "name": "python3"
  },
  "language_info": {
   "codemirror_mode": {
    "name": "ipython",
    "version": 3
   },
   "file_extension": ".py",
   "mimetype": "text/x-python",
   "name": "python",
   "nbconvert_exporter": "python",
   "pygments_lexer": "ipython3",
   "version": "3.8.10"
  },
  "vscode": {
   "interpreter": {
    "hash": "4153976b658cb8b76d04b10dc7a0c871c2dac1d3dcfe690ad61d83a61969a12e"
   }
  }
 },
 "nbformat": 4,
 "nbformat_minor": 2
}
