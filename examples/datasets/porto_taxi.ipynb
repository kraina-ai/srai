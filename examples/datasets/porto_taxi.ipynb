{
 "cells": [
  {
   "cell_type": "markdown",
   "metadata": {},
   "source": [
    "### Porto Taxi Dataset\n",
    "\n",
    "The dataset covers one year of taxi trajectory data from 442 vehicles operating in Porto, Portugal, between July 1, 2013, and June 30, 2014. Each completed trip is categorized as either (A) taxi central–based, (B) stand–based, or (C) non–taxi central–based, reflecting whether the ride was initiated through the dispatch central, a taxi stand, or a random street pickup. Each record includes metadata such as trip origin type, taxi and call identifiers, day type, and a GPS trajectory encoded as a sequence of geographic coordinates."
   ]
  },
  {
   "cell_type": "code",
   "execution_count": null,
   "metadata": {},
   "outputs": [],
   "source": [
    "import folium\n",
    "import h3\n",
    "from IPython.display import display\n",
    "from srai.datasets import PortoTaxiDataset"
   ]
  },
  {
   "cell_type": "code",
   "execution_count": null,
   "metadata": {},
   "outputs": [],
   "source": [
    "porto_taxi = PortoTaxiDataset()"
   ]
  },
  {
   "cell_type": "code",
   "execution_count": null,
   "metadata": {},
   "outputs": [],
   "source": [
    "type(porto_taxi.train_gdf), type(porto_taxi.test_gdf)"
   ]
  },
  {
   "cell_type": "markdown",
   "metadata": {},
   "source": [
    "Get data using .load() method -> Default config (Travel time estimation)"
   ]
  },
  {
   "cell_type": "code",
   "execution_count": null,
   "metadata": {},
   "outputs": [],
   "source": [
    "ds = porto_taxi.load()\n",
    "ds.keys()"
   ]
  },
  {
   "cell_type": "code",
   "execution_count": null,
   "metadata": {},
   "outputs": [],
   "source": [
    "type(porto_taxi.train_gdf), type(porto_taxi.test_gdf)"
   ]
  },
  {
   "cell_type": "code",
   "execution_count": null,
   "metadata": {},
   "outputs": [],
   "source": [
    "ds[\"train\"].head()"
   ]
  },
  {
   "cell_type": "code",
   "execution_count": null,
   "metadata": {},
   "outputs": [],
   "source": [
    "ds[\"test\"].head()"
   ]
  },
  {
   "cell_type": "markdown",
   "metadata": {},
   "source": [
    "Getting h3 trajectories with target valeus"
   ]
  },
  {
   "cell_type": "code",
   "execution_count": null,
   "metadata": {},
   "outputs": [],
   "source": [
    "porto_taxi.resolution"
   ]
  },
  {
   "cell_type": "code",
   "execution_count": null,
   "metadata": {},
   "outputs": [],
   "source": [
    "train_h3, _, test_h3 = porto_taxi.get_h3_with_labels()"
   ]
  },
  {
   "cell_type": "code",
   "execution_count": null,
   "metadata": {},
   "outputs": [],
   "source": [
    "train_h3"
   ]
  },
  {
   "cell_type": "code",
   "execution_count": null,
   "metadata": {},
   "outputs": [],
   "source": [
    "test_h3"
   ]
  },
  {
   "cell_type": "markdown",
   "metadata": {},
   "source": [
    "Get Human Mobility Prediction (HMP) data"
   ]
  },
  {
   "cell_type": "code",
   "execution_count": null,
   "metadata": {},
   "outputs": [],
   "source": [
    "ds = porto_taxi.load(version=\"HMP\")"
   ]
  },
  {
   "cell_type": "code",
   "execution_count": null,
   "metadata": {},
   "outputs": [],
   "source": [
    "ds[\"train\"].head()"
   ]
  },
  {
   "cell_type": "markdown",
   "metadata": {},
   "source": [
    "Creating your own train_test split based on trajectory duration (version TTE) or length version (HMP).\n",
    "\n",
    "Downloading version `all` without passing resolution, will return trajectories as linestring geometries."
   ]
  },
  {
   "cell_type": "code",
   "execution_count": null,
   "metadata": {},
   "outputs": [],
   "source": [
    "ds = porto_taxi.load(version=\"all\")\n",
    "ds.keys()"
   ]
  },
  {
   "cell_type": "code",
   "execution_count": null,
   "metadata": {},
   "outputs": [],
   "source": [
    "ds[\"train\"].head()"
   ]
  },
  {
   "cell_type": "markdown",
   "metadata": {},
   "source": [
    "Passing resolution parameter is neccessary for generation of trajectory in h3 style.\n",
    "\n",
    "`Resolution` parameter is required to create h3 sequences from the linestring geometry."
   ]
  },
  {
   "cell_type": "code",
   "execution_count": null,
   "metadata": {},
   "outputs": [],
   "source": [
    "ds = porto_taxi.load(version=\"all\", resolution=9)\n",
    "ds.keys()"
   ]
  },
  {
   "cell_type": "code",
   "execution_count": null,
   "metadata": {},
   "outputs": [],
   "source": [
    "ds[\"train\"].head()"
   ]
  },
  {
   "cell_type": "code",
   "execution_count": null,
   "metadata": {},
   "outputs": [],
   "source": [
    "train, test = porto_taxi.train_test_split(\n",
    "    target_column=\"trip_id\", task=\"HMP\", test_size=0.2, n_bins=7\n",
    ")"
   ]
  },
  {
   "cell_type": "code",
   "execution_count": null,
   "metadata": {},
   "outputs": [],
   "source": [
    "len(train), len(test)"
   ]
  },
  {
   "cell_type": "code",
   "execution_count": null,
   "metadata": {},
   "outputs": [],
   "source": [
    "def visualize_h3_trajectories(\n",
    "    h3_sequences, map_center=(41.14075, -8.61029), zoom_start=12\n",
    "):\n",
    "    \"\"\"\n",
    "    Visualize H3 sequences on a Folium map.\n",
    "\n",
    "    Args:\n",
    "        h3_sequences (List[List[str]]): A list of H3 sequences (trajectories).\n",
    "        map_center (Tuple[float, float]): Center of the map (lat, lon).\n",
    "        zoom_start (int): Initial zoom level.\n",
    "    \"\"\"\n",
    "    m = folium.Map(location=map_center, zoom_start=zoom_start, tiles=\"cartodbpositron\")\n",
    "\n",
    "    colors = [\"red\", \"blue\", \"green\", \"purple\", \"orange\", \"darkred\", \"lightblue\"]\n",
    "\n",
    "    for i, sequence in enumerate(h3_sequences):\n",
    "        color = colors[i % len(colors)]\n",
    "\n",
    "        for h3_id in sequence:\n",
    "            boundary = h3.cell_to_boundary(\n",
    "                h3_id,\n",
    "            )\n",
    "            folium.Polygon(\n",
    "                locations=boundary, color=color, weight=2, fill=True, fill_opacity=0.3\n",
    "            ).add_to(m)\n",
    "\n",
    "    return m\n",
    "\n",
    "\n",
    "h3_sequences = train[\"h3_sequence\"].tolist()\n",
    "map_ = visualize_h3_trajectories(h3_sequences[0:10])  # visualize first 10 for speed\n",
    "display(map_)"
   ]
  }
 ],
 "metadata": {
  "kernelspec": {
   "display_name": "srai-3.12 (3.12.3)",
   "language": "python",
   "name": "python3"
  },
  "language_info": {
   "codemirror_mode": {
    "name": "ipython",
    "version": 3
   },
   "file_extension": ".py",
   "mimetype": "text/x-python",
   "name": "python",
   "nbconvert_exporter": "python",
   "pygments_lexer": "ipython3",
   "version": "3.12.3"
  }
 },
 "nbformat": 4,
 "nbformat_minor": 2
}
