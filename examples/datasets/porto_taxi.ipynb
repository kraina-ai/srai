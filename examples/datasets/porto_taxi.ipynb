{
 "cells": [
  {
   "cell_type": "code",
   "execution_count": null,
   "metadata": {},
   "outputs": [],
   "source": [
    "import folium\n",
    "import h3\n",
    "from IPython.display import display\n",
    "\n",
    "from srai.datasets import PortoTaxiDataset"
   ]
  },
  {
   "cell_type": "code",
   "execution_count": null,
   "metadata": {},
   "outputs": [],
   "source": [
    "porto_taxi = PortoTaxiDataset()"
   ]
  },
  {
   "cell_type": "code",
   "execution_count": null,
   "metadata": {},
   "outputs": [],
   "source": [
    "type(porto_taxi.train_gdf), type(porto_taxi.test_gdf)"
   ]
  },
  {
   "cell_type": "markdown",
   "metadata": {},
   "source": [
    "Get data using .load() method -> Default config (Travel time estimation)"
   ]
  },
  {
   "cell_type": "code",
   "execution_count": null,
   "metadata": {},
   "outputs": [],
   "source": [
    "ds = porto_taxi.load()\n",
    "ds.keys()"
   ]
  },
  {
   "cell_type": "code",
   "execution_count": null,
   "metadata": {},
   "outputs": [],
   "source": [
    "type(porto_taxi.train_gdf), type(porto_taxi.test_gdf)"
   ]
  },
  {
   "cell_type": "code",
   "execution_count": null,
   "metadata": {},
   "outputs": [],
   "source": [
    "ds[\"train\"].head()"
   ]
  },
  {
   "cell_type": "code",
   "execution_count": null,
   "metadata": {},
   "outputs": [],
   "source": [
    "ds[\"test\"].head()"
   ]
  },
  {
   "cell_type": "markdown",
   "metadata": {},
   "source": [
    "Getting h3 trajectories with target valeus"
   ]
  },
  {
   "cell_type": "code",
   "execution_count": null,
   "metadata": {},
   "outputs": [],
   "source": [
    "porto_taxi.resolution"
   ]
  },
  {
   "cell_type": "code",
   "execution_count": null,
   "metadata": {},
   "outputs": [],
   "source": [
    "train_h3, test_h3 = porto_taxi.get_h3_with_labels()"
   ]
  },
  {
   "cell_type": "code",
   "execution_count": null,
   "metadata": {},
   "outputs": [],
   "source": [
    "train_h3"
   ]
  },
  {
   "cell_type": "code",
   "execution_count": null,
   "metadata": {},
   "outputs": [],
   "source": [
    "test_h3"
   ]
  },
  {
   "cell_type": "markdown",
   "metadata": {},
   "source": [
    "Get Human Mobility Prediction (HMP) data"
   ]
  },
  {
   "cell_type": "code",
   "execution_count": null,
   "metadata": {},
   "outputs": [],
   "source": [
    "ds = porto_taxi.load(version=\"HMP\")"
   ]
  },
  {
   "cell_type": "code",
   "execution_count": null,
   "metadata": {},
   "outputs": [],
   "source": [
    "ds[\"train\"].head()"
   ]
  },
  {
   "cell_type": "markdown",
   "metadata": {},
   "source": [
    "Creating your own train_test split based on trajectory duration (version TTE) or length version (HMP). Passing resolution parameter is neccessary for generation a trajectory in h3 style."
   ]
  },
  {
   "cell_type": "code",
   "execution_count": null,
   "metadata": {},
   "outputs": [],
   "source": [
    "ds = porto_taxi.load(version=\"all\", resolution=9)\n",
    "ds.keys()"
   ]
  },
  {
   "cell_type": "code",
   "execution_count": null,
   "metadata": {},
   "outputs": [],
   "source": [
    "ds[\"train\"].head()"
   ]
  },
  {
   "cell_type": "code",
   "execution_count": null,
   "metadata": {},
   "outputs": [],
   "source": [
    "train, test = porto_taxi.train_test_split_bucket_trajectory(\n",
    "    trajectory_id_column=\"trip_id\", task=\"HMp\", test_size=0.2, bucket_number=7\n",
    ")"
   ]
  },
  {
   "cell_type": "code",
   "execution_count": null,
   "metadata": {},
   "outputs": [],
   "source": [
    "len(train), len(test)"
   ]
  },
  {
   "cell_type": "code",
   "execution_count": null,
   "metadata": {},
   "outputs": [],
   "source": [
    "def visualize_h3_trajectories(h3_sequences, map_center=(41.14075, -8.61029), zoom_start=12):\n",
    "    \"\"\"\n",
    "    Visualize H3 sequences on a Folium map.\n",
    "\n",
    "    Args:\n",
    "        h3_sequences (List[List[str]]): A list of H3 sequences (trajectories).\n",
    "        map_center (Tuple[float, float]): Center of the map (lat, lon).\n",
    "        zoom_start (int): Initial zoom level.\n",
    "    \"\"\"\n",
    "    m = folium.Map(location=map_center, zoom_start=zoom_start, tiles=\"cartodbpositron\")\n",
    "\n",
    "    colors = [\"red\", \"blue\", \"green\", \"purple\", \"orange\", \"darkred\", \"lightblue\"]\n",
    "\n",
    "    for i, sequence in enumerate(h3_sequences):\n",
    "        color = colors[i % len(colors)]\n",
    "\n",
    "        for h3_id in sequence:\n",
    "            boundary = h3.cell_to_boundary(\n",
    "                h3_id,\n",
    "            )\n",
    "            folium.Polygon(\n",
    "                locations=boundary, color=color, weight=2, fill=True, fill_opacity=0.3\n",
    "            ).add_to(m)\n",
    "\n",
    "    return m\n",
    "\n",
    "\n",
    "h3_sequences = train[\"h3_sequence\"].tolist()\n",
    "map_ = visualize_h3_trajectories(h3_sequences[0:10])  # visualize first 10 for speed\n",
    "display(map_)"
   ]
  }
 ],
 "metadata": {
  "kernelspec": {
   "display_name": ".venv",
   "language": "python",
   "name": "python3"
  },
  "language_info": {
   "codemirror_mode": {
    "name": "ipython",
    "version": 3
   },
   "file_extension": ".py",
   "mimetype": "text/x-python",
   "name": "python",
   "nbconvert_exporter": "python",
   "pygments_lexer": "ipython3",
   "version": "3.11.9"
  }
 },
 "nbformat": 4,
 "nbformat_minor": 2
}
