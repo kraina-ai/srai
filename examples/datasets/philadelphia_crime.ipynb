{
 "cells": [
  {
   "cell_type": "code",
   "execution_count": null,
   "metadata": {},
   "outputs": [],
   "source": [
    "# plotting imports\n",
    "import contextily as cx\n",
    "import numpy as np\n",
    "import seaborn as sns\n",
    "from matplotlib import pyplot as plt\n",
    "from matplotlib.patches import Patch\n",
    "\n",
    "# dataset import\n",
    "from srai.datasets import PhiladelphiaCrimeDataset"
   ]
  },
  {
   "cell_type": "code",
   "execution_count": null,
   "metadata": {},
   "outputs": [],
   "source": [
    "philadelphia_crime = PhiladelphiaCrimeDataset()"
   ]
  },
  {
   "cell_type": "code",
   "execution_count": null,
   "metadata": {},
   "outputs": [],
   "source": [
    "type(philadelphia_crime.train_gdf), type(philadelphia_crime.test_gdf)"
   ]
  },
  {
   "cell_type": "markdown",
   "metadata": {},
   "source": [
    "Get data using .load() method -> a default version 'res_8' "
   ]
  },
  {
   "cell_type": "code",
   "execution_count": null,
   "metadata": {},
   "outputs": [],
   "source": [
    "ds = philadelphia_crime.load()\n",
    "ds.keys()"
   ]
  },
  {
   "cell_type": "code",
   "execution_count": null,
   "metadata": {},
   "outputs": [],
   "source": [
    "type(philadelphia_crime.train_gdf), type(philadelphia_crime.test_gdf)"
   ]
  },
  {
   "cell_type": "code",
   "execution_count": null,
   "metadata": {},
   "outputs": [],
   "source": [
    "resolution = philadelphia_crime.resolution\n",
    "resolution"
   ]
  },
  {
   "cell_type": "code",
   "execution_count": null,
   "metadata": {},
   "outputs": [],
   "source": [
    "gdf_train, gdf_test = ds[\"train\"], ds[\"test\"]"
   ]
  },
  {
   "cell_type": "code",
   "execution_count": null,
   "metadata": {},
   "outputs": [],
   "source": [
    "gdf_train.head()"
   ]
  },
  {
   "cell_type": "markdown",
   "metadata": {},
   "source": [
    "Getting the h3 with target values"
   ]
  },
  {
   "cell_type": "code",
   "execution_count": null,
   "metadata": {},
   "outputs": [],
   "source": [
    "train_h3, _, test_h3 = philadelphia_crime.get_h3_with_labels()"
   ]
  },
  {
   "cell_type": "code",
   "execution_count": null,
   "metadata": {},
   "outputs": [],
   "source": [
    "fig, axes = plt.subplots(\n",
    "    2, 1, sharex=False, sharey=False, figsize=(12, 16), height_ratios=[4, 1]\n",
    ")\n",
    "\n",
    "train_h3.plot(\n",
    "    color=\"orange\",\n",
    "    markersize=0.1,\n",
    "    ax=axes[0],\n",
    "    label=\"train\",\n",
    "    alpha=np.minimum(np.power(train_h3[philadelphia_crime.target] + 0.4, 2), 1),\n",
    ")\n",
    "test_h3.plot(\n",
    "    color=\"royalblue\",\n",
    "    markersize=0.1,\n",
    "    ax=axes[0],\n",
    "    label=\"test\",\n",
    "    alpha=np.minimum(np.power(test_h3[philadelphia_crime.target] + 0.4, 2), 1),\n",
    ")\n",
    "\n",
    "cx.add_basemap(axes[0], source=cx.providers.CartoDB.PositronNoLabels, crs=4326, zoom=12)\n",
    "axes[0].set_title(\"Philadelphia crime data aggregated to H3 cells\")\n",
    "axes[0].legend(\n",
    "    handles=[Patch(facecolor=\"orange\"), Patch(facecolor=\"royalblue\")],\n",
    "    labels=[\"Train\", \"Test\"],\n",
    ")\n",
    "axes[0].set_axis_off()\n",
    "\n",
    "sns.kdeplot(\n",
    "    x=train_h3[philadelphia_crime.target],\n",
    "    label=\"train\",\n",
    "    color=\"orange\",\n",
    "    ax=axes[1],\n",
    "    fill=False,\n",
    "    cut=0,\n",
    ")\n",
    "sns.kdeplot(\n",
    "    x=test_h3[philadelphia_crime.target],\n",
    "    label=\"test\",\n",
    "    color=\"royalblue\",\n",
    "    ax=axes[1],\n",
    "    fill=False,\n",
    "    cut=0,\n",
    ")\n",
    "axes[1].set_title(\"Philadelphia crime data - target distribution\")\n",
    "axes[1].legend()\n",
    "\n",
    "fig.tight_layout()\n",
    "\n",
    "plt.show()"
   ]
  },
  {
   "cell_type": "markdown",
   "metadata": {},
   "source": [
    "Get data from 2013 year."
   ]
  },
  {
   "cell_type": "code",
   "execution_count": null,
   "metadata": {},
   "outputs": [],
   "source": [
    "ds = philadelphia_crime.load(version=\"2013\")\n",
    "ds.keys()"
   ]
  },
  {
   "cell_type": "code",
   "execution_count": null,
   "metadata": {},
   "outputs": [],
   "source": [
    "type(philadelphia_crime.train_gdf), type(philadelphia_crime.test_gdf)"
   ]
  },
  {
   "cell_type": "code",
   "execution_count": null,
   "metadata": {},
   "outputs": [],
   "source": [
    "ds[\"train\"].head()"
   ]
  },
  {
   "cell_type": "markdown",
   "metadata": {},
   "source": [
    "Creating your own train - test split -> Bucket regression (works similarly for spatial regression)"
   ]
  },
  {
   "cell_type": "code",
   "execution_count": null,
   "metadata": {},
   "outputs": [],
   "source": [
    "philadelphia_crime.target"
   ]
  },
  {
   "cell_type": "code",
   "execution_count": null,
   "metadata": {},
   "outputs": [],
   "source": [
    "train, test = philadelphia_crime.train_test_split(\n",
    "    test_size=0.2, resolution=8, n_bins=10, random_state=42\n",
    ")"
   ]
  },
  {
   "cell_type": "code",
   "execution_count": null,
   "metadata": {},
   "outputs": [],
   "source": [
    "type(philadelphia_crime.train_gdf), type(philadelphia_crime.test_gdf)"
   ]
  },
  {
   "cell_type": "code",
   "execution_count": null,
   "metadata": {},
   "outputs": [],
   "source": [
    "philadelphia_crime.resolution"
   ]
  },
  {
   "cell_type": "code",
   "execution_count": null,
   "metadata": {},
   "outputs": [],
   "source": [
    "train.head()"
   ]
  },
  {
   "cell_type": "code",
   "execution_count": null,
   "metadata": {},
   "outputs": [],
   "source": [
    "test.head()"
   ]
  }
 ],
 "metadata": {
  "kernelspec": {
   "display_name": "srai-3.12 (3.12.3)",
   "language": "python",
   "name": "python3"
  },
  "language_info": {
   "codemirror_mode": {
    "name": "ipython",
    "version": 3
   },
   "file_extension": ".py",
   "mimetype": "text/x-python",
   "name": "python",
   "nbconvert_exporter": "python",
   "pygments_lexer": "ipython3",
   "version": "3.12.3"
  }
 },
 "nbformat": 4,
 "nbformat_minor": 2
}
