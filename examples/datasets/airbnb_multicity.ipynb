{
 "cells": [
  {
   "cell_type": "markdown",
   "metadata": {},
   "source": [
    "### Airbnb Dataset\n",
    "\n",
    "This dataset consists of approximately 3.1 million Airbnb listings collected between June 2022 and May 2023 across 80 cities worldwide. It includes geographic location, property characteristics, host activity, and review metrics. For the benchmark, a cleaned subset from six cities—Paris, Rome, London, Amsterdam, Melbourne, and New York City—was selected."
   ]
  },
  {
   "cell_type": "code",
   "execution_count": null,
   "metadata": {},
   "outputs": [],
   "source": [
    "# plotting imports\n",
    "import contextily as cx\n",
    "import seaborn as sns\n",
    "from matplotlib import pyplot as plt\n",
    "from matplotlib.lines import Line2D\n",
    "from matplotlib.patches import Patch\n",
    "\n",
    "# dataset import\n",
    "from srai.datasets import AirbnbMulticityDataset"
   ]
  },
  {
   "cell_type": "code",
   "execution_count": null,
   "metadata": {},
   "outputs": [],
   "source": [
    "airbnb_multicity = AirbnbMulticityDataset()"
   ]
  },
  {
   "cell_type": "code",
   "execution_count": null,
   "metadata": {},
   "outputs": [],
   "source": [
    "type(airbnb_multicity.train_gdf), type(airbnb_multicity.test_gdf)"
   ]
  },
  {
   "cell_type": "markdown",
   "metadata": {},
   "source": [
    "Loading default version"
   ]
  },
  {
   "cell_type": "code",
   "execution_count": null,
   "metadata": {},
   "outputs": [],
   "source": [
    "ds = airbnb_multicity.load()\n",
    "ds.keys()"
   ]
  },
  {
   "cell_type": "code",
   "execution_count": null,
   "metadata": {},
   "outputs": [],
   "source": [
    "type(airbnb_multicity.train_gdf), type(airbnb_multicity.test_gdf)"
   ]
  },
  {
   "cell_type": "code",
   "execution_count": null,
   "metadata": {},
   "outputs": [],
   "source": [
    "print(\"Aggregation H3 resolution:\", airbnb_multicity.resolution)"
   ]
  },
  {
   "cell_type": "code",
   "execution_count": null,
   "metadata": {},
   "outputs": [],
   "source": [
    "print(\"Prediction target:\", airbnb_multicity.target)"
   ]
  },
  {
   "cell_type": "code",
   "execution_count": null,
   "metadata": {},
   "outputs": [],
   "source": [
    "gdf_train, gdf_test = ds[\"train\"], ds[\"test\"]"
   ]
  },
  {
   "cell_type": "code",
   "execution_count": null,
   "metadata": {},
   "outputs": [],
   "source": [
    "print(\"Available cities:\", sorted(gdf_train[\"city\"].unique()))"
   ]
  },
  {
   "cell_type": "code",
   "execution_count": null,
   "metadata": {},
   "outputs": [],
   "source": [
    "gdf_train.head()"
   ]
  },
  {
   "cell_type": "code",
   "execution_count": null,
   "metadata": {},
   "outputs": [],
   "source": [
    "fig, axes = plt.subplots(\n",
    "    2, 2, sharex=False, sharey=False, figsize=(12, 15), width_ratios=[3, 1]\n",
    ")\n",
    "\n",
    "cities = [(\"Amsterdam\", 0.05), (\"London\", 0.01)]\n",
    "for row_idx, (city_name, marker_size) in enumerate(cities):\n",
    "    city_train = gdf_train[gdf_train[\"city\"] == city_name.lower()]\n",
    "    city_test = gdf_test[gdf_test[\"city\"] == city_name.lower()]\n",
    "    train_points = len(city_train)\n",
    "    test_points = len(city_test)\n",
    "    train_pct = 100 * train_points / (train_points + test_points)\n",
    "    test_pct = 100 * test_points / (train_points + test_points)\n",
    "\n",
    "    ax_map = axes[row_idx][0]\n",
    "    city_train.plot(color=\"orange\", markersize=marker_size, ax=ax_map, label=\"train\")\n",
    "    city_test.plot(color=\"royalblue\", markersize=marker_size, ax=ax_map, label=\"test\")\n",
    "    ax_map.set_title(\n",
    "        f\"{city_name} data - points on a map\"\n",
    "        f\" (Train: {train_points} ({train_pct:.2f}%),\"\n",
    "        f\" Test: {test_points} ({test_pct:.2f}%))\"\n",
    "    )\n",
    "    ax_map.legend(\n",
    "        handles=[\n",
    "            Line2D([], [], marker=\"o\", color=\"orange\", linestyle=\"None\"),\n",
    "            Line2D([], [], marker=\"o\", color=\"royalblue\", linestyle=\"None\"),\n",
    "        ],\n",
    "        labels=[\"Train\", \"Test\"],\n",
    "    )\n",
    "    cx.add_basemap(\n",
    "        ax_map, source=cx.providers.CartoDB.PositronNoLabels, crs=4326, zoom=12\n",
    "    )\n",
    "    ax_map.set_axis_off()\n",
    "\n",
    "    ax_dist = axes[row_idx][1]\n",
    "    sns.kdeplot(\n",
    "        x=city_train[airbnb_multicity.target],\n",
    "        label=\"train\",\n",
    "        color=\"orange\",\n",
    "        ax=ax_dist,\n",
    "        fill=False,\n",
    "        cut=0,\n",
    "    )\n",
    "    sns.kdeplot(\n",
    "        x=city_test[airbnb_multicity.target],\n",
    "        label=\"test\",\n",
    "        color=\"royalblue\",\n",
    "        ax=ax_dist,\n",
    "        fill=False,\n",
    "        cut=0,\n",
    "    )\n",
    "    ax_dist.set_title(f\"{city_name} data - target distribution\")\n",
    "    ax_dist.legend()\n",
    "\n",
    "plt.tight_layout()\n",
    "plt.show()"
   ]
  },
  {
   "cell_type": "markdown",
   "metadata": {},
   "source": [
    "Getting aggregated hexagon values "
   ]
  },
  {
   "cell_type": "code",
   "execution_count": null,
   "metadata": {},
   "outputs": [],
   "source": [
    "train_h3, _, test_h3 = airbnb_multicity.get_h3_with_labels()"
   ]
  },
  {
   "cell_type": "code",
   "execution_count": null,
   "metadata": {},
   "outputs": [],
   "source": [
    "train_h3.head()"
   ]
  },
  {
   "cell_type": "code",
   "execution_count": null,
   "metadata": {},
   "outputs": [],
   "source": [
    "test_h3.head()"
   ]
  },
  {
   "cell_type": "code",
   "execution_count": null,
   "metadata": {},
   "outputs": [],
   "source": [
    "aggregated_train_data = train_h3.cx[-1.04:0.65, 51.09:51.84]\n",
    "aggregated_test_data = test_h3.cx[-1.04:0.65, 51.09:51.84]\n",
    "\n",
    "with plt.rc_context({\"hatch.linewidth\": 0.4}):\n",
    "    ax = aggregated_train_data.plot(\n",
    "        airbnb_multicity.target,\n",
    "        cmap=\"spring_r\",\n",
    "        legend=True,\n",
    "        legend_kwds=dict(\n",
    "            location=\"right\", shrink=0.9, pad=0.02, label=airbnb_multicity.target\n",
    "        ),\n",
    "        figsize=(15, 9),\n",
    "        alpha=0.5,\n",
    "    )\n",
    "\n",
    "    ax.set_axis_off()\n",
    "\n",
    "    aggregated_test_data.plot(\n",
    "        airbnb_multicity.target, cmap=\"spring_r\", alpha=0.5, ax=ax\n",
    "    )\n",
    "\n",
    "    aggregated_test_data.plot(\n",
    "        ax=ax, linewidth=0.4, color=(0, 0, 0, 0), edgecolor=(0, 0, 0, 0.4), hatch=\"+++\"\n",
    "    )\n",
    "\n",
    "    ax.set_title(\"London data aggregated to H3 cells\")\n",
    "    ax.legend(\n",
    "        handles=[\n",
    "            Patch(edgecolor=(0, 0, 0, 0.8), linewidth=0.1, facecolor=(0, 0, 0, 0)),\n",
    "            Patch(\n",
    "                edgecolor=(0, 0, 0, 0.8),\n",
    "                linewidth=0.1,\n",
    "                facecolor=(0, 0, 0, 0),\n",
    "                hatch=\"+++\",\n",
    "            ),\n",
    "        ],\n",
    "        labels=[\"Train\", \"Test\"],\n",
    "        loc=2,\n",
    "    )\n",
    "\n",
    "    cx.add_basemap(ax, source=cx.providers.CartoDB.PositronNoLabels, crs=4326, zoom=11)\n",
    "    ax.set_axis_off()\n",
    "\n",
    "    plt.show()"
   ]
  },
  {
   "cell_type": "markdown",
   "metadata": {},
   "source": [
    "Loading raw, full data"
   ]
  },
  {
   "cell_type": "code",
   "execution_count": null,
   "metadata": {},
   "outputs": [],
   "source": [
    "ds = airbnb_multicity.load(version=\"all\")\n",
    "ds.keys()"
   ]
  },
  {
   "cell_type": "code",
   "execution_count": null,
   "metadata": {},
   "outputs": [],
   "source": [
    "type(airbnb_multicity.train_gdf), type(airbnb_multicity.test_gdf)"
   ]
  },
  {
   "cell_type": "code",
   "execution_count": null,
   "metadata": {},
   "outputs": [],
   "source": [
    "ds[\"train\"].head()"
   ]
  },
  {
   "cell_type": "markdown",
   "metadata": {},
   "source": [
    "Create your own train-test split -> Spatial splitting with bucket stratification"
   ]
  },
  {
   "cell_type": "code",
   "execution_count": null,
   "metadata": {},
   "outputs": [],
   "source": [
    "train, test = airbnb_multicity.train_test_split(\n",
    "    target_column=\"price\", test_size=0.2, resolution=8, n_bins=10, random_state=42\n",
    ")"
   ]
  },
  {
   "cell_type": "code",
   "execution_count": null,
   "metadata": {},
   "outputs": [],
   "source": [
    "type(airbnb_multicity.train_gdf), type(airbnb_multicity.test_gdf)"
   ]
  },
  {
   "cell_type": "code",
   "execution_count": null,
   "metadata": {},
   "outputs": [],
   "source": [
    "airbnb_multicity.resolution"
   ]
  },
  {
   "cell_type": "code",
   "execution_count": null,
   "metadata": {},
   "outputs": [],
   "source": [
    "train.head()"
   ]
  },
  {
   "cell_type": "code",
   "execution_count": null,
   "metadata": {},
   "outputs": [],
   "source": [
    "test.head()"
   ]
  },
  {
   "cell_type": "markdown",
   "metadata": {},
   "source": []
  }
 ],
 "metadata": {
  "kernelspec": {
   "display_name": "srai-3.12 (3.12.3)",
   "language": "python",
   "name": "python3"
  },
  "language_info": {
   "codemirror_mode": {
    "name": "ipython",
    "version": 3
   },
   "file_extension": ".py",
   "mimetype": "text/x-python",
   "name": "python",
   "nbconvert_exporter": "python",
   "pygments_lexer": "ipython3",
   "version": "3.12.3"
  }
 },
 "nbformat": 4,
 "nbformat_minor": 2
}
