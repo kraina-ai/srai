{
 "cells": [
  {
   "cell_type": "markdown",
   "metadata": {},
   "source": [
    "### House Sales in King County Dataset\n",
    "\n",
    "his dataset contains house sale prices for King County, which includes Seattle, covering approximately 21,000 residential property sales recorded between May 2014 and May 2015. It provides geographic coordinates, physical property attributes (such as size, number of rooms, and condition), as well as contextual features like proximity to waterfronts. "
   ]
  },
  {
   "cell_type": "code",
   "execution_count": null,
   "metadata": {},
   "outputs": [],
   "source": [
    "# plotting imports\n",
    "import contextily as cx\n",
    "import seaborn as sns\n",
    "from matplotlib import pyplot as plt\n",
    "from matplotlib.lines import Line2D\n",
    "from matplotlib.patches import Patch\n",
    "\n",
    "# dataset import\n",
    "from srai.datasets import HouseSalesInKingCountyDataset"
   ]
  },
  {
   "cell_type": "code",
   "execution_count": null,
   "metadata": {},
   "outputs": [],
   "source": [
    "hskc_dataset = HouseSalesInKingCountyDataset()"
   ]
  },
  {
   "cell_type": "code",
   "execution_count": null,
   "metadata": {},
   "outputs": [],
   "source": [
    "type(hskc_dataset.train_gdf), type(hskc_dataset.test_gdf)"
   ]
  },
  {
   "cell_type": "markdown",
   "metadata": {},
   "source": [
    "Load default version of dataset"
   ]
  },
  {
   "cell_type": "code",
   "execution_count": null,
   "metadata": {},
   "outputs": [],
   "source": [
    "ds = hskc_dataset.load()\n",
    "ds.keys()"
   ]
  },
  {
   "cell_type": "code",
   "execution_count": null,
   "metadata": {},
   "outputs": [],
   "source": [
    "type(hskc_dataset.train_gdf), type(hskc_dataset.test_gdf)"
   ]
  },
  {
   "cell_type": "code",
   "execution_count": null,
   "metadata": {},
   "outputs": [],
   "source": [
    "print(\"Aggregation H3 resolution:\", hskc_dataset.resolution)"
   ]
  },
  {
   "cell_type": "code",
   "execution_count": null,
   "metadata": {},
   "outputs": [],
   "source": [
    "print(\"Prediction target:\", hskc_dataset.target)"
   ]
  },
  {
   "cell_type": "code",
   "execution_count": null,
   "metadata": {},
   "outputs": [],
   "source": [
    "train_gdf, test_gdf = ds[\"train\"], ds[\"test\"]"
   ]
  },
  {
   "cell_type": "code",
   "execution_count": null,
   "metadata": {},
   "outputs": [],
   "source": [
    "train_gdf.head()"
   ]
  },
  {
   "cell_type": "code",
   "execution_count": null,
   "metadata": {},
   "outputs": [],
   "source": [
    "len(test_gdf)"
   ]
  },
  {
   "cell_type": "code",
   "execution_count": null,
   "metadata": {},
   "outputs": [],
   "source": [
    "fig, axes = plt.subplots(\n",
    "    2, 1, sharex=False, sharey=False, figsize=(12, 13), height_ratios=[3, 1]\n",
    ")\n",
    "\n",
    "train_points = len(train_gdf)\n",
    "test_points = len(test_gdf)\n",
    "train_pct = 100 * train_points / (train_points + test_points)\n",
    "test_pct = 100 * test_points / (train_points + test_points)\n",
    "\n",
    "ax_map = axes[0]\n",
    "train_gdf.plot(color=\"orange\", markersize=0.3, ax=ax_map, label=\"train\")\n",
    "test_gdf.plot(color=\"royalblue\", markersize=0.3, ax=ax_map, label=\"test\")\n",
    "ax_map.set_title(\n",
    "    f\"King County data - points on a map\"\n",
    "    f\" (Train: {train_points} ({train_pct:.2f}%),\"\n",
    "    f\" Test: {test_points} ({test_pct:.2f}%))\"\n",
    ")\n",
    "ax_map.legend(\n",
    "    handles=[\n",
    "        Line2D([], [], marker=\"o\", color=\"orange\", linestyle=\"None\"),\n",
    "        Line2D([], [], marker=\"o\", color=\"royalblue\", linestyle=\"None\"),\n",
    "    ],\n",
    "    labels=[\"Train\", \"Test\"],\n",
    ")\n",
    "cx.add_basemap(ax_map, source=cx.providers.CartoDB.PositronNoLabels, crs=4326, zoom=11)\n",
    "ax_map.set_axis_off()\n",
    "\n",
    "ax_dist = axes[1]\n",
    "sns.kdeplot(\n",
    "    x=train_gdf[hskc_dataset.target],\n",
    "    label=\"train\",\n",
    "    color=\"orange\",\n",
    "    ax=ax_dist,\n",
    "    fill=False,\n",
    "    cut=0,\n",
    ")\n",
    "sns.kdeplot(\n",
    "    x=test_gdf[hskc_dataset.target],\n",
    "    label=\"test\",\n",
    "    color=\"royalblue\",\n",
    "    ax=ax_dist,\n",
    "    fill=False,\n",
    "    cut=0,\n",
    ")\n",
    "ax_dist.set_title(\"King County data - target distribution\")\n",
    "ax_dist.legend()\n",
    "\n",
    "fig.tight_layout()\n",
    "\n",
    "plt.show()"
   ]
  },
  {
   "cell_type": "markdown",
   "metadata": {},
   "source": [
    "Getting the h3 with target values"
   ]
  },
  {
   "cell_type": "code",
   "execution_count": null,
   "metadata": {},
   "outputs": [],
   "source": [
    "hskc_dataset.resolution"
   ]
  },
  {
   "cell_type": "code",
   "execution_count": null,
   "metadata": {},
   "outputs": [],
   "source": [
    "train_h3, _, test_h3 = hskc_dataset.get_h3_with_labels()"
   ]
  },
  {
   "cell_type": "code",
   "execution_count": null,
   "metadata": {},
   "outputs": [],
   "source": [
    "train_h3.head()"
   ]
  },
  {
   "cell_type": "code",
   "execution_count": null,
   "metadata": {},
   "outputs": [],
   "source": [
    "test_h3.head()"
   ]
  },
  {
   "cell_type": "code",
   "execution_count": null,
   "metadata": {},
   "outputs": [],
   "source": [
    "with plt.rc_context({\"hatch.linewidth\": 0.4}):\n",
    "    ax = train_h3.plot(\n",
    "        hskc_dataset.target,\n",
    "        cmap=\"spring_r\",\n",
    "        legend=True,\n",
    "        legend_kwds=dict(\n",
    "            location=\"right\", shrink=0.9, pad=0.02, label=hskc_dataset.target\n",
    "        ),\n",
    "        figsize=(15, 9),\n",
    "        alpha=0.5,\n",
    "    )\n",
    "\n",
    "    axes[0].set_axis_off()\n",
    "\n",
    "    test_h3.plot(hskc_dataset.target, cmap=\"spring_r\", alpha=0.5, ax=ax)\n",
    "\n",
    "    test_h3.plot(\n",
    "        ax=ax, linewidth=0.4, color=(0, 0, 0, 0), edgecolor=(0, 0, 0, 0.4), hatch=\"+++\"\n",
    "    )\n",
    "\n",
    "    ax.set_title(\"King County data aggregated to H3 cells\")\n",
    "    ax.legend(\n",
    "        handles=[\n",
    "            Patch(edgecolor=(0, 0, 0, 0.8), linewidth=0.1, facecolor=(0, 0, 0, 0)),\n",
    "            Patch(\n",
    "                edgecolor=(0, 0, 0, 0.8),\n",
    "                linewidth=0.1,\n",
    "                facecolor=(0, 0, 0, 0),\n",
    "                hatch=\"+++\",\n",
    "            ),\n",
    "        ],\n",
    "        labels=[\"Train\", \"Test\"],\n",
    "        loc=2,\n",
    "    )\n",
    "\n",
    "    cx.add_basemap(ax, source=cx.providers.CartoDB.PositronNoLabels, crs=4326, zoom=11)\n",
    "\n",
    "    fig.tight_layout()\n",
    "\n",
    "    plt.show()"
   ]
  },
  {
   "cell_type": "markdown",
   "metadata": {},
   "source": [
    "Load raw version of dataset"
   ]
  },
  {
   "cell_type": "code",
   "execution_count": null,
   "metadata": {},
   "outputs": [],
   "source": [
    "ds = hskc_dataset.load(version=\"all\")\n",
    "ds.keys()"
   ]
  },
  {
   "cell_type": "code",
   "execution_count": null,
   "metadata": {},
   "outputs": [],
   "source": [
    "type(hskc_dataset.train_gdf), type(hskc_dataset.test_gdf)"
   ]
  },
  {
   "cell_type": "code",
   "execution_count": null,
   "metadata": {},
   "outputs": [],
   "source": [
    "ds[\"train\"].head()"
   ]
  },
  {
   "cell_type": "markdown",
   "metadata": {},
   "source": [
    "Creating your own train - test split -> Bucket regression (works similarly for spatial regression)"
   ]
  },
  {
   "cell_type": "code",
   "execution_count": null,
   "metadata": {},
   "outputs": [],
   "source": [
    "train, test = hskc_dataset.train_test_split(\n",
    "    target_column=\"price\", test_size=0.2, resolution=8, n_bins=10, random_state=42\n",
    ")"
   ]
  },
  {
   "cell_type": "code",
   "execution_count": null,
   "metadata": {},
   "outputs": [],
   "source": [
    "resolution = hskc_dataset.resolution"
   ]
  },
  {
   "cell_type": "code",
   "execution_count": null,
   "metadata": {},
   "outputs": [],
   "source": [
    "type(hskc_dataset.train_gdf), type(hskc_dataset.test_gdf)"
   ]
  },
  {
   "cell_type": "code",
   "execution_count": null,
   "metadata": {},
   "outputs": [],
   "source": [
    "train.head()"
   ]
  },
  {
   "cell_type": "code",
   "execution_count": null,
   "metadata": {},
   "outputs": [],
   "source": [
    "test.head()"
   ]
  },
  {
   "cell_type": "code",
   "execution_count": null,
   "metadata": {},
   "outputs": [],
   "source": []
  }
 ],
 "metadata": {
  "kernelspec": {
   "display_name": "srai-3.12 (3.12.3)",
   "language": "python",
   "name": "python3"
  },
  "language_info": {
   "codemirror_mode": {
    "name": "ipython",
    "version": 3
   },
   "file_extension": ".py",
   "mimetype": "text/x-python",
   "name": "python",
   "nbconvert_exporter": "python",
   "pygments_lexer": "ipython3",
   "version": "3.12.3"
  }
 },
 "nbformat": 4,
 "nbformat_minor": 2
}
