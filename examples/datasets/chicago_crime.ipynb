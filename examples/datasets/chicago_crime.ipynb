{
 "cells": [
  {
   "cell_type": "code",
   "execution_count": null,
   "metadata": {},
   "outputs": [],
   "source": [
    "# plotting imports\n",
    "import contextily as cx\n",
    "import numpy as np\n",
    "import seaborn as sns\n",
    "from matplotlib import pyplot as plt\n",
    "from matplotlib.patches import Patch\n",
    "\n",
    "# dataset import\n",
    "from srai.datasets import ChicagoCrimeDataset"
   ]
  },
  {
   "cell_type": "code",
   "execution_count": null,
   "metadata": {},
   "outputs": [],
   "source": [
    "chicago_crime = ChicagoCrimeDataset()"
   ]
  },
  {
   "cell_type": "markdown",
   "metadata": {},
   "source": [
    "Load default data"
   ]
  },
  {
   "cell_type": "code",
   "execution_count": null,
   "metadata": {},
   "outputs": [],
   "source": [
    "ds = chicago_crime.load()\n",
    "ds.keys()"
   ]
  },
  {
   "cell_type": "code",
   "execution_count": null,
   "metadata": {},
   "outputs": [],
   "source": [
    "type(chicago_crime.train_gdf), type(chicago_crime.test_gdf)"
   ]
  },
  {
   "cell_type": "code",
   "execution_count": null,
   "metadata": {},
   "outputs": [],
   "source": [
    "print(\"Aggregation H3 resolution:\", chicago_crime.resolution)"
   ]
  },
  {
   "cell_type": "code",
   "execution_count": null,
   "metadata": {},
   "outputs": [],
   "source": [
    "print(\"Prediction target:\", chicago_crime.target)"
   ]
  },
  {
   "cell_type": "code",
   "execution_count": null,
   "metadata": {},
   "outputs": [],
   "source": [
    "gdf_train, gdf_test = ds[\"train\"], ds[\"test\"]"
   ]
  },
  {
   "cell_type": "code",
   "execution_count": null,
   "metadata": {},
   "outputs": [],
   "source": [
    "gdf_train.head()"
   ]
  },
  {
   "cell_type": "markdown",
   "metadata": {},
   "source": [
    "Getting target values for h3"
   ]
  },
  {
   "cell_type": "code",
   "execution_count": null,
   "metadata": {},
   "outputs": [],
   "source": [
    "train_h3, _, test_h3 = chicago_crime.get_h3_with_labels()"
   ]
  },
  {
   "cell_type": "code",
   "execution_count": null,
   "metadata": {},
   "outputs": [],
   "source": [
    "train_h3.head()"
   ]
  },
  {
   "cell_type": "code",
   "execution_count": null,
   "metadata": {},
   "outputs": [],
   "source": [
    "test_h3.head()"
   ]
  },
  {
   "cell_type": "code",
   "execution_count": null,
   "metadata": {},
   "outputs": [],
   "source": [
    "fig, axes = plt.subplots(\n",
    "    2, 1, sharex=False, sharey=False, figsize=(12, 20), height_ratios=[4, 1]\n",
    ")\n",
    "\n",
    "train_h3.plot(\n",
    "    color=\"orange\",\n",
    "    markersize=0.1,\n",
    "    ax=axes[0],\n",
    "    label=\"train\",\n",
    "    alpha=np.minimum(np.power(train_h3[chicago_crime.target] + 0.4, 2), 1),\n",
    ")\n",
    "test_h3.plot(\n",
    "    color=\"royalblue\",\n",
    "    markersize=0.1,\n",
    "    ax=axes[0],\n",
    "    label=\"test\",\n",
    "    alpha=np.minimum(np.power(test_h3[chicago_crime.target] + 0.4, 2), 1),\n",
    ")\n",
    "\n",
    "cx.add_basemap(axes[0], source=cx.providers.CartoDB.PositronNoLabels, crs=4326, zoom=12)\n",
    "axes[0].set_title(\"Chicago crime data aggregated to H3 cells\")\n",
    "axes[0].legend(\n",
    "    handles=[Patch(facecolor=\"orange\"), Patch(facecolor=\"royalblue\")],\n",
    "    labels=[\"Train\", \"Test\"],\n",
    ")\n",
    "axes[0].set_axis_off()\n",
    "\n",
    "sns.kdeplot(\n",
    "    x=train_h3[chicago_crime.target],\n",
    "    label=\"train\",\n",
    "    color=\"orange\",\n",
    "    ax=axes[1],\n",
    "    fill=False,\n",
    ")\n",
    "sns.kdeplot(\n",
    "    x=test_h3[chicago_crime.target],\n",
    "    label=\"test\",\n",
    "    color=\"royalblue\",\n",
    "    ax=axes[1],\n",
    "    fill=False,\n",
    ")\n",
    "axes[1].set_title(\"Chicago crime data - target distribution\")\n",
    "axes[1].legend()\n",
    "\n",
    "plt.show()"
   ]
  },
  {
   "cell_type": "markdown",
   "metadata": {},
   "source": [
    "Load data from 2022"
   ]
  },
  {
   "cell_type": "code",
   "execution_count": null,
   "metadata": {},
   "outputs": [],
   "source": [
    "ds = chicago_crime.load(version=\"2022\")\n",
    "ds.keys()"
   ]
  },
  {
   "cell_type": "code",
   "execution_count": null,
   "metadata": {},
   "outputs": [],
   "source": [
    "type(chicago_crime.train_gdf), type(chicago_crime.test_gdf)"
   ]
  },
  {
   "cell_type": "code",
   "execution_count": null,
   "metadata": {},
   "outputs": [],
   "source": [
    "ds[\"train\"].head()"
   ]
  },
  {
   "cell_type": "markdown",
   "metadata": {},
   "source": [
    "Create your own train-test split -> Spatial splitting with bucket stratification"
   ]
  },
  {
   "cell_type": "code",
   "execution_count": null,
   "metadata": {},
   "outputs": [],
   "source": [
    "train, test = chicago_crime.train_test_split(\n",
    "    test_size=0.2, random_state=42, n_bins=10, resolution=9\n",
    ")"
   ]
  },
  {
   "cell_type": "code",
   "execution_count": null,
   "metadata": {},
   "outputs": [],
   "source": [
    "type(chicago_crime.train_gdf), type(chicago_crime.test_gdf)"
   ]
  },
  {
   "cell_type": "code",
   "execution_count": null,
   "metadata": {},
   "outputs": [],
   "source": [
    "chicago_crime.resolution"
   ]
  },
  {
   "cell_type": "code",
   "execution_count": null,
   "metadata": {},
   "outputs": [],
   "source": [
    "train.head()"
   ]
  },
  {
   "cell_type": "code",
   "execution_count": null,
   "metadata": {},
   "outputs": [],
   "source": [
    "test.head()"
   ]
  },
  {
   "cell_type": "code",
   "execution_count": null,
   "metadata": {},
   "outputs": [],
   "source": []
  }
 ],
 "metadata": {
  "kernelspec": {
   "display_name": "srai-3.12",
   "language": "python",
   "name": "python3"
  },
  "language_info": {
   "codemirror_mode": {
    "name": "ipython",
    "version": 3
   },
   "file_extension": ".py",
   "mimetype": "text/x-python",
   "name": "python",
   "nbconvert_exporter": "python",
   "pygments_lexer": "ipython3",
   "version": "3.12.9"
  }
 },
 "nbformat": 4,
 "nbformat_minor": 2
}
