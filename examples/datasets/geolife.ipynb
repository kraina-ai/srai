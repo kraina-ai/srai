{
 "cells": [
  {
   "cell_type": "markdown",
   "metadata": {},
   "source": [
    "### Geolife Dataset\n",
    "This GPS trajectory dataset was collected in (Microsoft Research Asia) Geolife project by 182 users in a period of over five years (from April 2007 to August 2012). A GPS trajectory of this dataset is represented by sequence of time-stamped points each of which contains the information of altitude, longitude, latitude. The original dataset contains 17,784 trajectories, ~25M Points with a total distance of 1,292,951 kilometers and a total duration of 50,176 hours. These trajectories were recorded by different GPS loggers and GPS phones, and have a variety of sampling rates. 91.5 percent of the trajectories are logged in a dense representation, e.g. every 1~5 seconds or every 5~10 meters per point. The original dataset was filtered and preprocessed, with further details available in the benchmark publication.\n",
    "\n",
    "Attributes:\n",
    "* latitude: Latitude in decimal degrees.\n",
    "* longitude: Longitude in decimal degrees.\n",
    "* altitude: Altitude in feet (-777 if not valid).\n",
    "* time: Date and time as a string.\n",
    "* trajectory_id: ID of trajectory that Point belongs to.\n",
    "* user_id: ID of user that reported Point. \n",
    "* crs: WGS 84"
   ]
  },
  {
   "cell_type": "code",
   "execution_count": null,
   "metadata": {},
   "outputs": [],
   "source": [
    "import folium\n",
    "import h3\n",
    "from IPython.display import display\n",
    "from srai.datasets import GeolifeDataset"
   ]
  },
  {
   "cell_type": "code",
   "execution_count": null,
   "metadata": {},
   "outputs": [],
   "source": [
    "geolife = GeolifeDataset()"
   ]
  },
  {
   "cell_type": "code",
   "execution_count": null,
   "metadata": {},
   "outputs": [],
   "source": [
    "type(geolife.train_gdf), type(geolife.test_gdf)"
   ]
  },
  {
   "cell_type": "markdown",
   "metadata": {},
   "source": [
    "Get data using .load() method -> Default config (Human Mobility Classification)"
   ]
  },
  {
   "cell_type": "code",
   "execution_count": null,
   "metadata": {},
   "outputs": [],
   "source": [
    "ds = geolife.load()\n",
    "ds.keys()"
   ]
  },
  {
   "cell_type": "code",
   "execution_count": null,
   "metadata": {},
   "outputs": [],
   "source": [
    "type(ds[\"train\"]), type(ds[\"test\"])"
   ]
  },
  {
   "cell_type": "code",
   "execution_count": null,
   "metadata": {},
   "outputs": [],
   "source": [
    "ds[\"train\"].head()"
   ]
  },
  {
   "cell_type": "markdown",
   "metadata": {},
   "source": [
    "Creating your own train_test split based on trajectory duration (version TTE) or length version (HMC). \n",
    "\n",
    "Downloading version `all` without passing resolution, will return trajectories as linestring geometries."
   ]
  },
  {
   "cell_type": "code",
   "execution_count": null,
   "metadata": {},
   "outputs": [],
   "source": [
    "ds = geolife.load(version=\"all\")\n",
    "ds.keys()"
   ]
  },
  {
   "cell_type": "code",
   "execution_count": null,
   "metadata": {},
   "outputs": [],
   "source": [
    "ds[\"train\"].head()"
   ]
  },
  {
   "cell_type": "markdown",
   "metadata": {},
   "source": [
    "Passing resolution parameter is neccessary for generation of trajectory in h3 style.\n",
    "\n",
    "`Resolution` parameter is required to create h3 sequences from the linestring geometry."
   ]
  },
  {
   "cell_type": "code",
   "execution_count": null,
   "metadata": {},
   "outputs": [],
   "source": [
    "ds = geolife.load(version=\"all\", resolution=10)\n",
    "ds.keys()"
   ]
  },
  {
   "cell_type": "code",
   "execution_count": null,
   "metadata": {},
   "outputs": [],
   "source": [
    "ds[\"train\"].head()"
   ]
  },
  {
   "cell_type": "code",
   "execution_count": null,
   "metadata": {},
   "outputs": [],
   "source": [
    "train, test = geolife.train_test_split(\n",
    "    target_column=\"trajectory_id\", task=\"TTE\", test_size=0.2, n_bins=3\n",
    ")"
   ]
  },
  {
   "cell_type": "code",
   "execution_count": null,
   "metadata": {},
   "outputs": [],
   "source": [
    "len(train), len(test)"
   ]
  },
  {
   "cell_type": "code",
   "execution_count": null,
   "metadata": {},
   "outputs": [],
   "source": [
    "geolife.resolution"
   ]
  },
  {
   "cell_type": "code",
   "execution_count": null,
   "metadata": {},
   "outputs": [],
   "source": [
    "geolife.test_gdf.head()"
   ]
  },
  {
   "cell_type": "code",
   "execution_count": null,
   "metadata": {},
   "outputs": [],
   "source": [
    "def visualize_h3_trajectories(\n",
    "    h3_sequences, map_center=(39.98899, 116.32702), zoom_start=12\n",
    "):\n",
    "    \"\"\"\n",
    "    Visualize H3 sequences on a Folium map.\n",
    "\n",
    "    Args:\n",
    "        h3_sequences (List[List[str]]): A list of H3 sequences (trajectories).\n",
    "        map_center (Tuple[float, float]): Center of the map (lat, lon).\n",
    "        zoom_start (int): Initial zoom level.\n",
    "    \"\"\"\n",
    "    m = folium.Map(location=map_center, zoom_start=zoom_start, tiles=\"cartodbpositron\")\n",
    "\n",
    "    colors = [\"red\", \"blue\", \"green\", \"purple\", \"orange\", \"darkred\", \"lightblue\"]\n",
    "\n",
    "    for i, sequence in enumerate(h3_sequences):\n",
    "        color = colors[i % len(colors)]\n",
    "\n",
    "        for h3_id in sequence:\n",
    "            boundary = h3.cell_to_boundary(\n",
    "                h3_id,\n",
    "            )\n",
    "            folium.Polygon(\n",
    "                locations=boundary, color=color, weight=2, fill=True, fill_opacity=0.3\n",
    "            ).add_to(m)\n",
    "\n",
    "    return m\n",
    "\n",
    "\n",
    "h3_sequences = train[\"h3_sequence\"].tolist()\n",
    "map_ = visualize_h3_trajectories(h3_sequences[10:20])  # visualize first 10 for speed\n",
    "display(map_)"
   ]
  },
  {
   "cell_type": "code",
   "execution_count": null,
   "metadata": {},
   "outputs": [],
   "source": []
  }
 ],
 "metadata": {
  "kernelspec": {
   "display_name": "srai-3.12 (3.12.3)",
   "language": "python",
   "name": "python3"
  },
  "language_info": {
   "codemirror_mode": {
    "name": "ipython",
    "version": 3
   },
   "file_extension": ".py",
   "mimetype": "text/x-python",
   "name": "python",
   "nbconvert_exporter": "python",
   "pygments_lexer": "ipython3",
   "version": "3.12.3"
  }
 },
 "nbformat": 4,
 "nbformat_minor": 2
}
