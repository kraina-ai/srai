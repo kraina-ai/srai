{
 "cells": [
  {
   "cell_type": "code",
   "execution_count": null,
   "metadata": {},
   "outputs": [],
   "source": [
    "import geopandas as gpd\n",
    "import osmnx as ox\n",
    "from IPython.display import display\n",
    "import numpy as np\n",
    "from tqdm.auto import tqdm\n",
    "import pandas as pd\n",
    "\n",
    "from srai.embedders import Highway2VecEmbedder\n",
    "from srai.loaders import osm_way_loader"
   ]
  },
  {
   "cell_type": "markdown",
   "metadata": {},
   "source": [
    "## Basic usage"
   ]
  },
  {
   "cell_type": "code",
   "execution_count": null,
   "metadata": {},
   "outputs": [],
   "source": [
    "# embedder = Highway2VecEmbedder()"
   ]
  },
  {
   "cell_type": "code",
   "execution_count": null,
   "metadata": {},
   "outputs": [],
   "source": [
    "gdf_place = ox.geocode_to_gdf(\"Wrocław, Poland\")\n",
    "gdf_place.plot()"
   ]
  },
  {
   "cell_type": "code",
   "execution_count": null,
   "metadata": {},
   "outputs": [],
   "source": [
    "from srai.loaders import OSMWayLoader, NetworkType\n",
    "\n",
    "osmwl = OSMWayLoader(NetworkType.DRIVE)\n",
    "gdf_nodes, gdf_edges = osmwl.load(gdf_place)"
   ]
  },
  {
   "cell_type": "code",
   "execution_count": null,
   "metadata": {},
   "outputs": [],
   "source": [
    "ax = gdf_edges.plot(linewidth=1, figsize=(12, 7))\n",
    "gdf_nodes.plot(ax=ax, markersize=3, color=\"red\")"
   ]
  },
  {
   "cell_type": "code",
   "execution_count": null,
   "metadata": {},
   "outputs": [],
   "source": [
    "import torch\n",
    "from torch import nn\n",
    "from torch import optim\n",
    "import torch.nn.functional as F\n",
    "import pytorch_lightning as pl\n",
    "from torch.utils.data.dataloader import DataLoader\n",
    "from sklearn.model_selection import train_test_split\n",
    "\n",
    "display(torch.cuda.is_available())\n",
    "\n",
    "\n",
    "class LitAutoEncoder(pl.LightningModule):\n",
    "    def __init__(self, in_dim: int, hidden_dim: int = 64, latent_dim: int = 3, lr: float = 1e-3):\n",
    "        super().__init__()\n",
    "\n",
    "        self.save_hyperparameters()\n",
    "\n",
    "        self.encoder = nn.Sequential(\n",
    "            nn.Linear(in_dim, hidden_dim),\n",
    "            nn.ReLU(),\n",
    "            nn.Linear(hidden_dim, latent_dim),\n",
    "        )\n",
    "        self.decoder = nn.Sequential(\n",
    "            nn.Linear(latent_dim, hidden_dim),\n",
    "            nn.ReLU(),\n",
    "            nn.Linear(hidden_dim, in_dim),\n",
    "        )\n",
    "        self.lr = lr\n",
    "\n",
    "    def forward(self, x):\n",
    "        z = self.encoder(x)\n",
    "        return z\n",
    "\n",
    "    def training_step(self, batch, batch_idx):\n",
    "        return self._common_step(batch, batch_idx, \"train\")\n",
    "\n",
    "    def validation_step(self, batch, batch_idx):\n",
    "        return self._common_step(batch, batch_idx, \"val\")\n",
    "\n",
    "    def test_step(self, batch, batch_idx):\n",
    "        return self._common_step(batch, batch_idx, \"test\")\n",
    "\n",
    "    def _prepare_batch(self, batch, batch_idx):\n",
    "        x = batch\n",
    "        # x = x.view(x.size(0), -1)\n",
    "        return x\n",
    "\n",
    "    def _common_step(self, batch, batch_idx, stage: str) -> torch.Tensor:\n",
    "        x = self._prepare_batch(batch, batch_idx)\n",
    "        z = self.encoder(x)\n",
    "        x_hat = self.decoder(z)\n",
    "        loss = F.mse_loss(x_hat, x)\n",
    "        # loss = F.binary_cross_entropy_with_logits(x_hat, x)\n",
    "\n",
    "        self.log(f\"{stage}_loss\", loss, on_epoch=True, on_step=True, prog_bar=True)\n",
    "\n",
    "        return loss\n",
    "\n",
    "    def configure_optimizers(self):\n",
    "        optimizer = optim.Adam(self.parameters(), lr=self.lr)\n",
    "        return optimizer"
   ]
  },
  {
   "cell_type": "code",
   "execution_count": null,
   "metadata": {},
   "outputs": [],
   "source": [
    "gdf_edges"
   ]
  },
  {
   "cell_type": "code",
   "execution_count": null,
   "metadata": {},
   "outputs": [],
   "source": [
    "gdf_edges_features = gdf_edges.drop(\n",
    "    columns=[\"osmid\", \"name\", \"reversed\", \"length\", \"geometry\", \"from\", \"to\", \"ref\"]\n",
    ")\n",
    "gdf_edges_features"
   ]
  },
  {
   "cell_type": "code",
   "execution_count": null,
   "metadata": {},
   "outputs": [],
   "source": [
    "test_size = 0.2\n",
    "random_seed = 42\n",
    "batch_size = 128\n",
    "num_workers = 6\n",
    "shuffle = True\n",
    "hidden_dim = 64\n",
    "enc_out_dim = 40\n",
    "latent_dim = 30\n",
    "epochs = 10\n",
    "kl_coeff = 0.1\n",
    "lr = 1e-3\n",
    "n_features = gdf_edges_features.shape[1]\n",
    "\n",
    "pl.seed_everything(random_seed, workers=True)\n",
    "\n",
    "X = torch.Tensor(gdf_edges_features.values)\n",
    "X_train, X_test = train_test_split(X, test_size=test_size, random_state=random_seed, shuffle=True)\n",
    "X_train_dl = DataLoader(\n",
    "    X_train, batch_size=batch_size, shuffle=shuffle, num_workers=num_workers, pin_memory=True\n",
    ")\n",
    "X_test_dl = DataLoader(\n",
    "    X_test, batch_size=batch_size, shuffle=False, num_workers=num_workers, pin_memory=True\n",
    ")\n",
    "\n",
    "model = LitAutoEncoder(in_dim=n_features, hidden_dim=hidden_dim, latent_dim=latent_dim, lr=lr)\n",
    "\n",
    "# logger_tb = pl.loggers.TensorBoardLogger(\"tb_logs\", name=\"test_model\")\n",
    "\n",
    "trainer = pl.Trainer(accelerator=\"gpu\", devices=1, max_epochs=epochs)\n",
    "trainer.fit(model, train_dataloaders=X_train_dl, val_dataloaders=X_test_dl)"
   ]
  },
  {
   "cell_type": "code",
   "execution_count": null,
   "metadata": {},
   "outputs": [],
   "source": [
    "%reload_ext tensorboard\n",
    "%tensorboard --logdir=lightning_logs/"
   ]
  }
 ],
 "metadata": {
  "kernelspec": {
   "display_name": "Python 3.8.14 ('.venv': venv)",
   "language": "python",
   "name": "python3"
  },
  "language_info": {
   "codemirror_mode": {
    "name": "ipython",
    "version": 3
   },
   "file_extension": ".py",
   "mimetype": "text/x-python",
   "name": "python",
   "nbconvert_exporter": "python",
   "pygments_lexer": "ipython3",
   "version": "3.11.1"
  },
  "vscode": {
   "interpreter": {
    "hash": "ff171c218963a21ae796a71e1fcf1df45597c5219c663e3cec1d9a9df6951d9c"
   }
  }
 },
 "nbformat": 4,
 "nbformat_minor": 2
}
