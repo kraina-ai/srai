{
 "cells": [
  {
   "attachments": {},
   "cell_type": "markdown",
   "metadata": {},
   "source": [
    "# Highway2Vec Embedder"
   ]
  },
  {
   "cell_type": "code",
   "execution_count": null,
   "metadata": {},
   "outputs": [],
   "source": [
    "import geopandas as gpd\n",
    "from IPython.display import display"
   ]
  },
  {
   "attachments": {},
   "cell_type": "markdown",
   "metadata": {},
   "source": [
    "## Get an area to embed"
   ]
  },
  {
   "cell_type": "code",
   "execution_count": null,
   "metadata": {},
   "outputs": [],
   "source": [
    "from srai.utils import geocode_to_region_gdf\n",
    "\n",
    "area_gdf = geocode_to_region_gdf(\"Wrocław, PL\")\n",
    "area_gdf.plot()"
   ]
  },
  {
   "attachments": {},
   "cell_type": "markdown",
   "metadata": {},
   "source": [
    "## Regionize the area with a regionizer"
   ]
  },
  {
   "cell_type": "code",
   "execution_count": null,
   "metadata": {},
   "outputs": [],
   "source": [
    "from srai.regionizers import H3Regionizer\n",
    "\n",
    "regionizer = H3Regionizer(9)\n",
    "regions_gdf = regionizer.transform(area_gdf)\n",
    "print(len(regions_gdf))\n",
    "display(regions_gdf.head(3))\n",
    "regions_gdf.plot()"
   ]
  },
  {
   "attachments": {},
   "cell_type": "markdown",
   "metadata": {},
   "source": [
    "## Download a road infrastructure for the area"
   ]
  },
  {
   "cell_type": "code",
   "execution_count": null,
   "metadata": {},
   "outputs": [],
   "source": [
    "from srai.loaders import OSMWayLoader\n",
    "from srai.loaders.osm_way_loader import NetworkType\n",
    "\n",
    "loader = OSMWayLoader(NetworkType.DRIVE)\n",
    "nodes_gdf, edges_gdf = loader.load(area_gdf)\n",
    "\n",
    "display(nodes_gdf.head(3))\n",
    "display(edges_gdf.head(3))\n",
    "\n",
    "ax = edges_gdf.plot(linewidth=1, figsize=(12, 7))\n",
    "nodes_gdf.plot(ax=ax, markersize=3, color=\"red\")"
   ]
  },
  {
   "attachments": {},
   "cell_type": "markdown",
   "metadata": {},
   "source": [
    "## Find out which edges correspond to which regions "
   ]
  },
  {
   "cell_type": "code",
   "execution_count": null,
   "metadata": {},
   "outputs": [],
   "source": [
    "from srai.joiners import IntersectionJoiner\n",
    "\n",
    "joiner = IntersectionJoiner()\n",
    "joint_gdf = joiner.transform(regions_gdf, edges_gdf)\n",
    "joint_gdf"
   ]
  },
  {
   "attachments": {},
   "cell_type": "markdown",
   "metadata": {},
   "source": [
    "## Get the embeddings for regions based on the road infrastructure"
   ]
  },
  {
   "cell_type": "code",
   "execution_count": null,
   "metadata": {},
   "outputs": [],
   "source": [
    "from srai.embedders import Highway2VecEmbedder\n",
    "from pytorch_lightning import seed_everything\n",
    "\n",
    "seed_everything(42)\n",
    "\n",
    "embedder = Highway2VecEmbedder()\n",
    "embeddings = embedder.fit_transform(regions_gdf, edges_gdf, joint_gdf)\n",
    "embeddings"
   ]
  }
 ],
 "metadata": {
  "kernelspec": {
   "display_name": ".venv",
   "language": "python",
   "name": "python3"
  },
  "language_info": {
   "codemirror_mode": {
    "name": "ipython",
    "version": 3
   },
   "file_extension": ".py",
   "mimetype": "text/x-python",
   "name": "python",
   "nbconvert_exporter": "python",
   "pygments_lexer": "ipython3",
   "version": "3.11.1"
  }
 },
 "nbformat": 4,
 "nbformat_minor": 2
}
