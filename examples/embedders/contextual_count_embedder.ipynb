{
 "cells": [
  {
   "cell_type": "code",
   "execution_count": null,
   "metadata": {},
   "outputs": [],
   "source": [
    "from srai.loaders.osm_loaders import OSMPbfLoader\n",
    "from srai.regionalizers import H3Regionalizer\n",
    "from srai.joiners import IntersectionJoiner\n",
    "from srai.embedders import ContextualCountEmbedder\n",
    "from srai.plotting.folium_wrapper import plot_regions, plot_numeric_data\n",
    "from srai.neighbourhoods import H3Neighbourhood"
   ]
  },
  {
   "attachments": {},
   "cell_type": "markdown",
   "metadata": {},
   "source": [
    "## Data preparation\n",
    "\n",
    "In order to use `ContextualCountEmbedder` we need to prepare some data.  \n",
    "Namely we need: `regions_gdf`, `features_gdf`, and `joint_gdf`.  \n",
    "These are the outputs of Regionalizers, Loaders and Joiners respectively."
   ]
  },
  {
   "cell_type": "code",
   "execution_count": null,
   "metadata": {},
   "outputs": [],
   "source": [
    "from srai.regionalizers import geocode_to_region_gdf\n",
    "\n",
    "area_gdf = geocode_to_region_gdf(\"Lisboa, PT\")\n",
    "plot_regions(area_gdf)"
   ]
  },
  {
   "attachments": {},
   "cell_type": "markdown",
   "metadata": {},
   "source": [
    "### Regionalize the area using an H3Regionalizer"
   ]
  },
  {
   "cell_type": "code",
   "execution_count": null,
   "metadata": {},
   "outputs": [],
   "source": [
    "regionalizer = H3Regionalizer(resolution=9, buffer=True)\n",
    "regions_gdf = regionalizer.transform(area_gdf)\n",
    "regions_gdf"
   ]
  },
  {
   "attachments": {},
   "cell_type": "markdown",
   "metadata": {},
   "source": [
    "### Download some objects from OpenStreetMap\n",
    "\n",
    "You can use both `OsmTagsFilter` and `GroupedOsmTagsFilter` filters. In this example, a predefined `GroupedOsmTagsFilter` filter `BASE_OSM_GROUPS_FILTER` is used."
   ]
  },
  {
   "cell_type": "code",
   "execution_count": null,
   "metadata": {},
   "outputs": [],
   "source": [
    "from srai.loaders.osm_loaders.filters import BASE_OSM_GROUPS_FILTER\n",
    "\n",
    "loader = OSMPbfLoader()\n",
    "features_gdf = loader.load(area_gdf, tags=BASE_OSM_GROUPS_FILTER)\n",
    "features_gdf"
   ]
  },
  {
   "attachments": {},
   "cell_type": "markdown",
   "metadata": {},
   "source": [
    "### Join the objects with the regions they belong to"
   ]
  },
  {
   "cell_type": "code",
   "execution_count": null,
   "metadata": {},
   "outputs": [],
   "source": [
    "joiner = IntersectionJoiner()\n",
    "joint_gdf = joiner.transform(regions_gdf, features_gdf)\n",
    "joint_gdf"
   ]
  },
  {
   "attachments": {},
   "cell_type": "markdown",
   "metadata": {},
   "source": [
    "## Embed using features existing in data\n",
    "\n",
    "`ContextualCountEmbedder` extends capabilities of basic `CountEmbedder` by incorporating the neighbourhood of embedded region. In this example we will use the `H3Neighbourhood`."
   ]
  },
  {
   "cell_type": "code",
   "execution_count": null,
   "metadata": {},
   "outputs": [],
   "source": [
    "h3n = H3Neighbourhood()"
   ]
  },
  {
   "attachments": {},
   "cell_type": "markdown",
   "metadata": {},
   "source": [
    "### Squashed vector version (default)\n",
    "\n",
    "Embedder will return vector of the same length as `CountEmbedder`, but will sum averaged values from the neighbourhoods diminished by the neighbour distance squared."
   ]
  },
  {
   "cell_type": "code",
   "execution_count": null,
   "metadata": {},
   "outputs": [],
   "source": [
    "cce = ContextualCountEmbedder(\n",
    "    neighbourhood=h3n, neighbourhood_distance=10, concatenate_vectors=False\n",
    ")\n",
    "embeddings = cce.transform(regions_gdf, features_gdf, joint_gdf)\n",
    "embeddings"
   ]
  },
  {
   "attachments": {},
   "cell_type": "markdown",
   "metadata": {},
   "source": [
    "### Concatenated vector version\n",
    "\n",
    "Embedder will return vector of length `n * distance` where `n` is number of features from the `CountEmbedder` and `distance` is number of neighbourhoods analysed.\n",
    "\n",
    "Each feature will be postfixed with `_n` string, where `n` is the current distance. Values are averaged from all neighbours."
   ]
  },
  {
   "cell_type": "code",
   "execution_count": null,
   "metadata": {},
   "outputs": [],
   "source": [
    "wide_cce = ContextualCountEmbedder(\n",
    "    neighbourhood=h3n, neighbourhood_distance=10, concatenate_vectors=True\n",
    ")\n",
    "wide_embeddings = wide_cce.transform(regions_gdf, features_gdf, joint_gdf)\n",
    "wide_embeddings"
   ]
  },
  {
   "attachments": {},
   "cell_type": "markdown",
   "metadata": {},
   "source": [
    "### Plotting example features"
   ]
  },
  {
   "cell_type": "code",
   "execution_count": null,
   "metadata": {},
   "outputs": [],
   "source": [
    "plot_numeric_data(regions_gdf, embeddings, \"leisure\", tiles_style=\"CartoDB positron\")"
   ]
  },
  {
   "cell_type": "code",
   "execution_count": null,
   "metadata": {},
   "outputs": [],
   "source": [
    "plot_numeric_data(regions_gdf, embeddings, \"transportation\", tiles_style=\"CartoDB positron\")"
   ]
  }
 ],
 "metadata": {
  "kernelspec": {
   "display_name": ".venv",
   "language": "python",
   "name": "python3"
  },
  "language_info": {
   "codemirror_mode": {
    "name": "ipython",
    "version": 3
   },
   "file_extension": ".py",
   "mimetype": "text/x-python",
   "name": "python",
   "nbconvert_exporter": "python",
   "pygments_lexer": "ipython3",
   "version": "3.10.11"
  }
 },
 "nbformat": 4,
 "nbformat_minor": 2
}
