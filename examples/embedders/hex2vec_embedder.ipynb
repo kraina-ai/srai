{
 "cells": [
  {
   "cell_type": "code",
   "execution_count": null,
   "metadata": {},
   "outputs": [],
   "source": [
    "from srai.embedders import Hex2VecEmbedder\n",
    "from srai.joiners import IntersectionJoiner\n",
    "from srai.loaders import OSMOnlineLoader\n",
    "from srai.neighbourhoods import H3Neighbourhood\n",
    "from srai.regionizers import H3Regionizer\n",
    "from srai.utils import geocode_to_region_gdf\n",
    "from srai.plotting.folium_wrapper import plot_regions\n",
    "from pytorch_lightning import seed_everything"
   ]
  },
  {
   "cell_type": "code",
   "execution_count": null,
   "metadata": {},
   "outputs": [],
   "source": [
    "SEED = 71\n",
    "seed_everything(SEED)"
   ]
  },
  {
   "attachments": {},
   "cell_type": "markdown",
   "metadata": {},
   "source": [
    "### Load data from OSM"
   ]
  },
  {
   "attachments": {},
   "cell_type": "markdown",
   "metadata": {},
   "source": [
    "First use geocoding to get the area"
   ]
  },
  {
   "cell_type": "code",
   "execution_count": null,
   "metadata": {},
   "outputs": [],
   "source": [
    "area_gdf = geocode_to_region_gdf(\"Wrocław, Poland\")\n",
    "plot_regions(area_gdf)"
   ]
  },
  {
   "attachments": {},
   "cell_type": "markdown",
   "metadata": {},
   "source": [
    "Next, download the data for the selected region and the specified tags. We're using `OSMOnlineLoader` here, as it's faster for low numbers of tags. In a real life scenario with more tags, you would likely want to use the `OSMPbfLoader`."
   ]
  },
  {
   "cell_type": "code",
   "execution_count": null,
   "metadata": {},
   "outputs": [],
   "source": [
    "tags = {\n",
    "    \"leisure\": \"park\",\n",
    "    \"landuse\": \"forest\",\n",
    "    \"amenity\": [\"bar\", \"restaurant\", \"cafe\"],\n",
    "    \"water\": \"river\",\n",
    "    \"sport\": \"soccer\",\n",
    "}\n",
    "loader = OSMOnlineLoader()\n",
    "\n",
    "features_gdf = loader.load(area_gdf, tags)\n",
    "features_gdf.explore()"
   ]
  },
  {
   "attachments": {},
   "cell_type": "markdown",
   "metadata": {},
   "source": [
    "## Prepare the data for embedding"
   ]
  },
  {
   "attachments": {},
   "cell_type": "markdown",
   "metadata": {},
   "source": [
    "After downloading the data, we need to prepare it for embedding. Namely - we need to regionize the selected area, and join the features with regions."
   ]
  },
  {
   "cell_type": "code",
   "execution_count": null,
   "metadata": {},
   "outputs": [],
   "source": [
    "regionizer = H3Regionizer(resolution=9)\n",
    "regions_gdf = regionizer.transform(area_gdf)\n",
    "plot_regions(regions_gdf)"
   ]
  },
  {
   "cell_type": "code",
   "execution_count": null,
   "metadata": {},
   "outputs": [],
   "source": [
    "joiner = IntersectionJoiner()\n",
    "joint_gdf = joiner.transform(regions_gdf, features_gdf)\n",
    "joint_gdf"
   ]
  },
  {
   "attachments": {},
   "cell_type": "markdown",
   "metadata": {},
   "source": [
    "## Embedding"
   ]
  },
  {
   "attachments": {},
   "cell_type": "markdown",
   "metadata": {},
   "source": [
    "After preparing the data we can proceed with generating embeddings for the regions."
   ]
  },
  {
   "cell_type": "code",
   "execution_count": null,
   "metadata": {},
   "outputs": [],
   "source": [
    "import warnings\n",
    "\n",
    "neighbourhood = H3Neighbourhood(regions_gdf)\n",
    "embedder = Hex2VecEmbedder([15, 10])\n",
    "\n",
    "with warnings.catch_warnings():\n",
    "    warnings.simplefilter(\"ignore\")\n",
    "    embeddings = embedder.fit_transform(\n",
    "        regions_gdf,\n",
    "        features_gdf,\n",
    "        joint_gdf,\n",
    "        neighbourhood,\n",
    "        trainer_kwargs={\"max_epochs\": 5, \"accelerator\": \"cpu\", \"deterministic\": True},\n",
    "        batch_size=100,\n",
    "    )\n",
    "embeddings"
   ]
  },
  {
   "attachments": {},
   "cell_type": "markdown",
   "metadata": {},
   "source": [
    "### Visualizing the embeddings' similarity"
   ]
  },
  {
   "cell_type": "code",
   "execution_count": null,
   "metadata": {},
   "outputs": [],
   "source": [
    "from sklearn.cluster import KMeans\n",
    "\n",
    "clusterizer = KMeans(n_clusters=5)\n",
    "clusterizer.fit(embeddings)\n",
    "clusterizer.labels_"
   ]
  },
  {
   "cell_type": "code",
   "execution_count": null,
   "metadata": {},
   "outputs": [],
   "source": [
    "regions_gdf[\"cluster\"] = clusterizer.labels_\n",
    "regions_gdf.explore(\"cluster\")"
   ]
  }
 ],
 "metadata": {
  "kernelspec": {
   "display_name": ".venv",
   "language": "python",
   "name": "python3"
  },
  "language_info": {
   "codemirror_mode": {
    "name": "ipython",
    "version": 3
   },
   "file_extension": ".py",
   "mimetype": "text/x-python",
   "name": "python",
   "nbconvert_exporter": "python",
   "pygments_lexer": "ipython3",
   "version": "3.8.16"
  }
 },
 "nbformat": 4,
 "nbformat_minor": 2
}
