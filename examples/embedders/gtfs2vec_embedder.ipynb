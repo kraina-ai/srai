{
 "cells": [
  {
   "cell_type": "code",
   "execution_count": null,
   "metadata": {},
   "outputs": [],
   "source": [
    "import pandas as pd\n",
    "import geopandas as gpd\n",
    "from shapely.geometry import Polygon\n",
    "from pytorch_lightning import seed_everything\n",
    "\n",
    "from srai.embedders import GTFS2VecEmbedder\n",
    "from srai.constants import REGIONS_INDEX"
   ]
  },
  {
   "attachments": {},
   "cell_type": "markdown",
   "metadata": {},
   "source": [
    "# Example on artificial data"
   ]
  },
  {
   "attachments": {},
   "cell_type": "markdown",
   "metadata": {},
   "source": [
    "## Define features and regions"
   ]
  },
  {
   "cell_type": "code",
   "execution_count": null,
   "metadata": {},
   "outputs": [],
   "source": [
    "features_gdf = gpd.GeoDataFrame(\n",
    "    {\n",
    "        \"trip_count_at_6\": [1, 0, 0],\n",
    "        \"trip_count_at_7\": [1, 1, 0],\n",
    "        \"trip_count_at_8\": [0, 0, 1],\n",
    "        \"directions_at_6\": [\n",
    "            {\"A\", \"A1\"},\n",
    "            {\"B\", \"B1\"},\n",
    "            {\"C\"},\n",
    "        ],\n",
    "    },\n",
    "    geometry=gpd.points_from_xy([1, 2, 5], [1, 2, 2]),\n",
    "    index=pd.Index(name=\"stop_id\", data=[1, 2, 3]),\n",
    ")\n",
    "features_gdf"
   ]
  },
  {
   "cell_type": "code",
   "execution_count": null,
   "metadata": {},
   "outputs": [],
   "source": [
    "regions_gdf = gpd.GeoDataFrame(\n",
    "    geometry=[\n",
    "        Polygon([(0, 0), (0, 3), (3, 3), (3, 0)]),\n",
    "        Polygon([(4, 0), (4, 3), (7, 3), (7, 0)]),\n",
    "        Polygon([(8, 0), (8, 3), (11, 3), (11, 0)]),\n",
    "    ],\n",
    "    index=pd.Index(name=REGIONS_INDEX, data=[\"ff1\", \"ff2\", \"ff3\"]),\n",
    ")\n",
    "regions_gdf"
   ]
  },
  {
   "cell_type": "code",
   "execution_count": null,
   "metadata": {},
   "outputs": [],
   "source": []
  },
  {
   "cell_type": "code",
   "execution_count": null,
   "metadata": {},
   "outputs": [],
   "source": [
    "ax = regions_gdf.plot()\n",
    "features_gdf.plot(ax=ax, color=\"red\")"
   ]
  },
  {
   "cell_type": "code",
   "execution_count": null,
   "metadata": {},
   "outputs": [],
   "source": [
    "joint_gdf = gpd.GeoDataFrame()\n",
    "joint_gdf.index = pd.MultiIndex.from_tuples(\n",
    "    [(\"ff1\", 1), (\"ff1\", 2), (\"ff2\", 3)],\n",
    "    names=[REGIONS_INDEX, \"stop_id\"],\n",
    ")\n",
    "joint_gdf"
   ]
  },
  {
   "attachments": {},
   "cell_type": "markdown",
   "metadata": {},
   "source": [
    "## Get features without embedding them"
   ]
  },
  {
   "cell_type": "code",
   "execution_count": null,
   "metadata": {},
   "outputs": [],
   "source": [
    "embedder = GTFS2VecEmbedder(skip_autoencoder=True)\n",
    "res = embedder.transform(regions_gdf, features_gdf, joint_gdf)\n",
    "res"
   ]
  },
  {
   "attachments": {},
   "cell_type": "markdown",
   "metadata": {},
   "source": [
    "## Fit and train the embedder"
   ]
  },
  {
   "cell_type": "code",
   "execution_count": null,
   "metadata": {},
   "outputs": [],
   "source": [
    "seed_everything(42)\n",
    "embedder = GTFS2VecEmbedder(hidden_size=2, embedding_size=4)\n",
    "embedder.fit(regions_gdf, features_gdf, joint_gdf)\n",
    "res = embedder.transform(regions_gdf, features_gdf, joint_gdf)\n",
    "res"
   ]
  }
 ],
 "metadata": {
  "kernelspec": {
   "display_name": ".venv",
   "language": "python",
   "name": "python3"
  },
  "language_info": {
   "codemirror_mode": {
    "name": "ipython",
    "version": 3
   },
   "file_extension": ".py",
   "mimetype": "text/x-python",
   "name": "python",
   "nbconvert_exporter": "python",
   "pygments_lexer": "ipython3",
   "version": "3.8.10"
  },
  "vscode": {
   "interpreter": {
    "hash": "f39c7279c85c8be5d827e53eddb5011e966102d239fe8b81ca4bd9f0123eda8f"
   }
  }
 },
 "nbformat": 4,
 "nbformat_minor": 2
}
