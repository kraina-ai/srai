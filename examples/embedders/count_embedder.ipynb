{
 "cells": [
  {
   "cell_type": "code",
   "execution_count": null,
   "metadata": {},
   "outputs": [],
   "source": [
    "from shapely import geometry\n",
    "import geopandas as gpd"
   ]
  },
  {
   "cell_type": "markdown",
   "metadata": {},
   "source": [
    "## Data preparation"
   ]
  },
  {
   "cell_type": "markdown",
   "metadata": {},
   "source": [
    "In order to use ```CountEmbedder``` we need to prepare some example data.  \n",
    "Namely we need: ```regions_gdf```, ```features_gdf```, and ```joint_gdf```.  \n",
    "NOTE: This would normally be done by a ```Joiner```."
   ]
  },
  {
   "cell_type": "code",
   "execution_count": null,
   "metadata": {},
   "outputs": [],
   "source": [
    "regions_gdf = gpd.GeoDataFrame(\n",
    "    {\n",
    "        \"h3\": [\n",
    "            \"891e2040897ffff\",\n",
    "            \"891e2040d4bffff\",\n",
    "            \"891e2040d5bffff\",\n",
    "        ]\n",
    "    },\n",
    "    geometry=[\n",
    "        geometry.Polygon(\n",
    "            shell=[\n",
    "                (17.02710946531851, 51.110065389823305),\n",
    "                (17.029634931698617, 51.1092989279356),\n",
    "                (17.03212452567607, 51.11021450606774),\n",
    "                (17.032088692873092, 51.11189657169522),\n",
    "                (17.029563145936592, 51.11266305206119),\n",
    "                (17.02707351236059, 51.11174744831988),\n",
    "                (17.02710946531851, 51.110065389823305)\n",
    "            ],\n",
    "        ),\n",
    "        geometry.Polygon(\n",
    "            shell=[\n",
    "                (17.03212452567607, 51.11021450606774),\n",
    "                (17.034649970341516, 51.109447934020366),\n",
    "                (17.037139662738255, 51.11036340911803),\n",
    "                (17.037103950094387, 51.11204548186887),\n",
    "                (17.03457842489355, 51.11281207240022),\n",
    "                (17.032088692873092, 51.11189657169522),\n",
    "                (17.03212452567607, 51.11021450606774)\n",
    "            ],\n",
    "        ),\n",
    "        geometry.Polygon(\n",
    "            shell=[\n",
    "                (17.02952725046974, 51.114345051613405),\n",
    "                (17.029563145936592, 51.11266305206119),\n",
    "                (17.032088692873092, 51.11189657169522),\n",
    "                (17.03457842489355, 51.11281207240022),\n",
    "                (17.03454264959235, 51.11449407907883),\n",
    "                (17.03201702210393, 51.115260577927586),\n",
    "                (17.02952725046974, 51.114345051613405)\n",
    "            ],\n",
    "        ),\n",
    "    ],\n",
    "    crs=\"epsg:4326\",\n",
    ")\n",
    "regions_gdf.set_index(\"h3\", inplace=True)\n",
    "regions_gdf"
   ]
  },
  {
   "cell_type": "code",
   "execution_count": null,
   "metadata": {},
   "outputs": [],
   "source": [
    "features_gdf = gpd.GeoDataFrame(\n",
    "    {\n",
    "    \"unique_id\": [\"way/312457804\", \"way/1533817161\", \"way/312457812\", \"way/312457834\"],\n",
    "    \"leisure\": [\"playground\", None, \"adult_gaming_centre\", None],\n",
    "    \"amenity\": [None, \"pub\", \"pub\", None]\n",
    "    },\n",
    "    geometry=[\n",
    "        geometry.Polygon(\n",
    "            shell=[\n",
    "                (17.0360858, 51.1103927),\n",
    "                (17.0358804, 51.1104389),\n",
    "                (17.0357855, 51.1105503),\n",
    "                (17.0359451, 51.1105907),\n",
    "                (17.0361589, 51.1105402),\n",
    "                (17.0360858, 51.1103927),\n",
    "            ]\n",
    "        ),\n",
    "        geometry.Polygon(\n",
    "            shell=[\n",
    "                (17.0317168, 51.1114868),\n",
    "                (17.0320, 51.1114868),\n",
    "                (17.0320, 51.1117503),\n",
    "                (17.0317168, 51.1117503),\n",
    "            ]\n",
    "        ),\n",
    "        geometry.Polygon(\n",
    "            shell=[\n",
    "                (17.0317168, 51.1124868),\n",
    "                (17.0320, 51.1124868),\n",
    "                (17.0320, 51.1127503),\n",
    "                (17.0317168, 51.1127503),\n",
    "            ]\n",
    "        ),\n",
    "        geometry.Polygon(\n",
    "            shell=[\n",
    "                (17.0307168, 51.1104868),\n",
    "                (17.0310, 51.1104868),\n",
    "                (17.0310, 51.1107503),\n",
    "                (17.0307168, 51.1107503),\n",
    "            ]\n",
    "        ),\n",
    "    ],\n",
    "    crs=\"epsg:4326\",\n",
    ")\n",
    "features_gdf.set_index(\"unique_id\", inplace=True)\n",
    "features_gdf"
   ]
  },
  {
   "cell_type": "code",
   "execution_count": null,
   "metadata": {},
   "outputs": [],
   "source": [
    "ax = regions_gdf.plot()\n",
    "features_gdf.plot(ax=ax, color=\"red\")"
   ]
  },
  {
   "cell_type": "markdown",
   "metadata": {},
   "source": [
    "### Joint gdf preparation\n"
   ]
  },
  {
   "cell_type": "markdown",
   "metadata": {},
   "source": [
    "We prepare the joint gdf (region - feature relation dataframe) by using ```gpd.sjoin``` and discarding irrelevant columns.  \n",
    "We are left with a ```GeoDataFrame``` containing a multi-index with both the region and feature indexes, and geometries."
   ]
  },
  {
   "cell_type": "code",
   "execution_count": null,
   "metadata": {},
   "outputs": [],
   "source": [
    "joint_gdf = regions_gdf.sjoin(features_gdf).reset_index().rename(columns={\"index\": \"h3\", \"index_right\": \"unique_id\"}).set_index([\"h3\", \"unique_id\"]).drop(columns=[\"leisure\", \"amenity\"])\n",
    "joint_gdf"
   ]
  },
  {
   "cell_type": "markdown",
   "metadata": {},
   "source": [
    "## Embed using features existing in data"
   ]
  },
  {
   "cell_type": "code",
   "execution_count": null,
   "metadata": {},
   "outputs": [],
   "source": [
    "from srai.embedders import CountEmbedder\n",
    "embedder = CountEmbedder()"
   ]
  },
  {
   "cell_type": "code",
   "execution_count": null,
   "metadata": {},
   "outputs": [],
   "source": [
    "embedder.embed(regions_gdf, features_gdf, joint_gdf)"
   ]
  },
  {
   "cell_type": "markdown",
   "metadata": {},
   "source": [
    "## Embed with specifying expected output features"
   ]
  },
  {
   "cell_type": "code",
   "execution_count": null,
   "metadata": {},
   "outputs": [],
   "source": [
    "from srai.embedders import CountEmbedder\n",
    "embedder = CountEmbedder(expected_output_features=[\"amenity_parking\", \"leisure_park\", \"amenity_pub\"])"
   ]
  },
  {
   "cell_type": "code",
   "execution_count": null,
   "metadata": {},
   "outputs": [],
   "source": [
    "embedder.embed(regions_gdf, features_gdf, joint_gdf)"
   ]
  },
  {
   "cell_type": "markdown",
   "metadata": {},
   "source": [
    "The resulting embedding contains only the columns specified in ```expected_output_features```.  \n",
    "The ones that were not present in the data (```leisure_park```, ```amenity_parking```) are added and filled with zeros.   \n",
    "The features that are both expected and present in the data are counted as usual.  \n",
    "The ones that are present in the data but are not expected (```leisure_adult_gaming_centre```, ```leisure_playground```) are discarded."
   ]
  }
 ],
 "metadata": {
  "kernelspec": {
   "display_name": "Python 3.8.14 ('.venv': venv)",
   "language": "python",
   "name": "python3"
  },
  "language_info": {
   "codemirror_mode": {
    "name": "ipython",
    "version": 3
   },
   "file_extension": ".py",
   "mimetype": "text/x-python",
   "name": "python",
   "nbconvert_exporter": "python",
   "pygments_lexer": "ipython3",
   "version": "3.8.14"
  },
  "vscode": {
   "interpreter": {
    "hash": "bd944a5fe9852efc21cee5a80ee5692d6ed31e3e4cae9217523aca29b05312ed"
   }
  }
 },
 "nbformat": 4,
 "nbformat_minor": 2
}
