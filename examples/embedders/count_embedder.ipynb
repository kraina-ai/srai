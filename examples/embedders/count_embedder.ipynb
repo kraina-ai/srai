{
 "cells": [
  {
   "cell_type": "code",
   "execution_count": null,
   "metadata": {},
   "outputs": [],
   "source": [
    "from shapely import geometry\n",
    "import geopandas as gpd\n",
    "from srai.constants import WGS84_CRS, REGIONS_INDEX\n",
    "from srai.loaders.osm_loaders import OSMOnlineLoader\n",
    "from srai.regionizers import H3Regionizer\n",
    "from srai.joiners import IntersectionJoiner\n",
    "from srai.embedders import CountEmbedder\n",
    "from srai.plotting.folium_wrapper import plot_regions, plot_numeric_data"
   ]
  },
  {
   "cell_type": "markdown",
   "metadata": {},
   "source": [
    "## Data preparation\n"
   ]
  },
  {
   "attachments": {},
   "cell_type": "markdown",
   "metadata": {},
   "source": [
    "In order to use ```CountEmbedder``` we need to prepare some data.  \n",
    "Namely we need: ```regions_gdf```, ```features_gdf```, and ```joint_gdf```.  \n",
    "These are the outputs of Regionizers, Loaders and Joiners respectively."
   ]
  },
  {
   "attachments": {},
   "cell_type": "markdown",
   "metadata": {},
   "source": [
    "### Define the bounding box polygon"
   ]
  },
  {
   "cell_type": "code",
   "execution_count": null,
   "metadata": {},
   "outputs": [],
   "source": [
    "bbox_polygon = geometry.Polygon(\n",
    "    [\n",
    "        [17.0198822, 51.1191217],\n",
    "        [17.017436, 51.105004],\n",
    "        [17.0485067, 51.1027944],\n",
    "        [17.0511246, 51.1175054],\n",
    "        [17.0198822, 51.1191217],\n",
    "    ]\n",
    ")\n",
    "bbox_gdf = gpd.GeoDataFrame(geometry=[bbox_polygon], crs=WGS84_CRS)\n",
    "bbox_gdf"
   ]
  },
  {
   "attachments": {},
   "cell_type": "markdown",
   "metadata": {},
   "source": [
    "### Regionize the area using an H3Regionizer"
   ]
  },
  {
   "cell_type": "code",
   "execution_count": null,
   "metadata": {},
   "outputs": [],
   "source": [
    "regionizer = H3Regionizer(resolution=8, buffer=True)\n",
    "regions_gdf = regionizer.transform(bbox_gdf)\n",
    "folium_map = bbox_gdf.explore(tiles=\"CartoDB positron\")\n",
    "plot_regions(regions_gdf, map=folium_map)"
   ]
  },
  {
   "attachments": {},
   "cell_type": "markdown",
   "metadata": {},
   "source": [
    "### Download some objects from OpenStreetMap\n",
    "\n",
    "You can use both `osm_tags_type` and `grouped_osm_tags_type` filters. In this example, a simple `osm_tags_type` filter is used."
   ]
  },
  {
   "cell_type": "code",
   "execution_count": null,
   "metadata": {},
   "outputs": [],
   "source": [
    "loader = OSMOnlineLoader()\n",
    "tags = {\n",
    "    \"leisure\": [\"playground\", \"adult_gaming_centre\"],\n",
    "    \"amenity\": \"pub\",\n",
    "}\n",
    "features_gdf = loader.load(bbox_gdf, tags=tags)\n",
    "features_gdf"
   ]
  },
  {
   "cell_type": "code",
   "execution_count": null,
   "metadata": {},
   "outputs": [],
   "source": [
    "folium_map = plot_regions(regions_gdf, tiles_style=\"CartoDB positron\", colormap=[\"lightgray\"])\n",
    "features_gdf.explore(m=folium_map)"
   ]
  },
  {
   "attachments": {},
   "cell_type": "markdown",
   "metadata": {},
   "source": [
    "### Join the objects with the regions they belong to"
   ]
  },
  {
   "cell_type": "code",
   "execution_count": null,
   "metadata": {},
   "outputs": [],
   "source": [
    "joiner = IntersectionJoiner()\n",
    "joint_gdf = joiner.transform(regions_gdf, features_gdf, return_geom=True)\n",
    "joint_gdf"
   ]
  },
  {
   "cell_type": "code",
   "execution_count": null,
   "metadata": {},
   "outputs": [],
   "source": [
    "from plotly.express import colors\n",
    "\n",
    "folium_map = plot_regions(regions_gdf, tiles_style=\"CartoDB positron\", colormap=[\"rgba(0,0,0,0)\"])\n",
    "joint_gdf.reset_index().explore(m=folium_map, column=REGIONS_INDEX, cmap=colors.qualitative.Bold)"
   ]
  },
  {
   "attachments": {},
   "cell_type": "markdown",
   "metadata": {},
   "source": [
    "## Embed using features existing in data\n",
    "\n",
    "Count Embedder can count features on a higher level (tag key) or separately for each value (tag key and value). Both examples are shown below."
   ]
  },
  {
   "cell_type": "code",
   "execution_count": null,
   "metadata": {},
   "outputs": [],
   "source": [
    "wide_embedder = CountEmbedder(count_subcategories=True)\n",
    "wide_embedding = wide_embedder.transform(regions_gdf, features_gdf, joint_gdf)\n",
    "wide_embedding"
   ]
  },
  {
   "cell_type": "code",
   "execution_count": null,
   "metadata": {},
   "outputs": [],
   "source": [
    "dense_embedder = CountEmbedder(count_subcategories=False)\n",
    "dense_embedding = dense_embedder.transform(regions_gdf, features_gdf, joint_gdf)\n",
    "dense_embedding"
   ]
  },
  {
   "cell_type": "markdown",
   "metadata": {},
   "source": [
    "## Embed with specifying expected output features"
   ]
  },
  {
   "cell_type": "code",
   "execution_count": null,
   "metadata": {},
   "outputs": [],
   "source": [
    "embedder = CountEmbedder(\n",
    "    expected_output_features=[\n",
    "        \"amenity_parking\",\n",
    "        \"leisure_park\",\n",
    "        \"leisure_playground\",\n",
    "        \"amenity_pub\",\n",
    "    ]\n",
    ")\n",
    "embedding_expected_features = embedder.transform(regions_gdf, features_gdf, joint_gdf)\n",
    "embedding_expected_features"
   ]
  },
  {
   "cell_type": "code",
   "execution_count": null,
   "metadata": {},
   "outputs": [],
   "source": [
    "plot_numeric_data(\n",
    "    regions_gdf, embedding_expected_features, \"leisure_playground\", tiles_style=\"CartoDB positron\"\n",
    ")"
   ]
  },
  {
   "cell_type": "markdown",
   "metadata": {},
   "source": [
    "The resulting embedding contains only the columns specified in `expected_output_features`.  \n",
    "The ones that were not present in the data (`leisure_park`, `amenity_parking`) are added and filled with zeros.   \n",
    "The features that are both expected and present in the data are counted as usual.  \n",
    "The ones that are present in the data but are not expected (`leisure_adult_gaming_centre`) are discarded."
   ]
  }
 ],
 "metadata": {
  "kernelspec": {
   "display_name": ".venv",
   "language": "python",
   "name": "python3"
  },
  "language_info": {
   "codemirror_mode": {
    "name": "ipython",
    "version": 3
   },
   "file_extension": ".py",
   "mimetype": "text/x-python",
   "name": "python",
   "nbconvert_exporter": "python",
   "pygments_lexer": "ipython3",
   "version": "3.8.10"
  },
  "vscode": {
   "interpreter": {
    "hash": "cdb8aaadc0decb944250d2ac9b06f485d1fc395bd22d4875475c731b86175a8b"
   }
  }
 },
 "nbformat": 4,
 "nbformat_minor": 2
}
