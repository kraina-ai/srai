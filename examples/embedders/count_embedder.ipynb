{
 "cells": [
  {
   "cell_type": "code",
   "execution_count": null,
   "metadata": {},
   "outputs": [],
   "source": [
    "from shapely import geometry\n",
    "import geopandas as gpd\n",
    "from srai.utils.constants import WGS84_CRS\n",
    "from srai.loaders.osm_tag_loader import OSMTagLoader\n",
    "from srai.regionizers import H3Regionizer\n",
    "from srai.joiners import IntersectionJoiner\n",
    "from srai.embedders import CountEmbedder"
   ]
  },
  {
   "cell_type": "markdown",
   "metadata": {},
   "source": [
    "## Data preparation\n"
   ]
  },
  {
   "attachments": {},
   "cell_type": "markdown",
   "metadata": {},
   "source": [
    "In order to use ```CountEmbedder``` we need to prepare some data.  \n",
    "Namely we need: ```regions_gdf```, ```features_gdf```, and ```joint_gdf```.  \n",
    "These are the outputs of Regionizers, Loaders and Joiners respectively."
   ]
  },
  {
   "attachments": {},
   "cell_type": "markdown",
   "metadata": {},
   "source": [
    "### Define the bounding box polygon"
   ]
  },
  {
   "cell_type": "code",
   "execution_count": null,
   "metadata": {},
   "outputs": [],
   "source": [
    "bbox_polygon = geometry.Polygon(\n",
    "    [\n",
    "        [17.0198822, 51.1191217],\n",
    "        [17.017436, 51.105004],\n",
    "        [17.0485067, 51.1027944],\n",
    "        [17.0511246, 51.1175054],\n",
    "        [17.0198822, 51.1191217],\n",
    "    ]\n",
    ")\n",
    "bbox_gdf = gpd.GeoDataFrame(geometry=[bbox_polygon], crs=WGS84_CRS)\n",
    "bbox_gdf"
   ]
  },
  {
   "attachments": {},
   "cell_type": "markdown",
   "metadata": {},
   "source": [
    "### Regionize the area using a H3Regionizer"
   ]
  },
  {
   "cell_type": "code",
   "execution_count": null,
   "metadata": {},
   "outputs": [],
   "source": [
    "regionizer = H3Regionizer(resolution=8, buffer=True)\n",
    "regions_gdf = regionizer.transform(bbox_gdf)\n",
    "ax = bbox_gdf.plot()\n",
    "regions_gdf.plot(ax=ax, color=\"red\", alpha=0.5)"
   ]
  },
  {
   "attachments": {},
   "cell_type": "markdown",
   "metadata": {},
   "source": [
    "### Download some objects from OpenStreetMap"
   ]
  },
  {
   "cell_type": "code",
   "execution_count": null,
   "metadata": {},
   "outputs": [],
   "source": [
    "loader = OSMTagLoader()\n",
    "tags = {\n",
    "    \"leisure\": [\"playground\", \"adult_gaming_centre\"],\n",
    "    \"amenity\": \"pub\",\n",
    "}\n",
    "features_gdf = loader.load(bbox_gdf, tags=tags)\n",
    "features_gdf"
   ]
  },
  {
   "cell_type": "code",
   "execution_count": null,
   "metadata": {},
   "outputs": [],
   "source": [
    "ax = regions_gdf.plot()\n",
    "features_gdf.plot(\n",
    "    ax=ax,\n",
    "    color=\"red\",\n",
    ")"
   ]
  },
  {
   "attachments": {},
   "cell_type": "markdown",
   "metadata": {},
   "source": [
    "### Join the objects with the regions they belong to"
   ]
  },
  {
   "cell_type": "code",
   "execution_count": null,
   "metadata": {},
   "outputs": [],
   "source": [
    "joiner = IntersectionJoiner()\n",
    "joint_gdf = joiner.transform(regions_gdf, features_gdf)\n",
    "joint_gdf"
   ]
  },
  {
   "cell_type": "code",
   "execution_count": null,
   "metadata": {},
   "outputs": [],
   "source": [
    "joint_gdf.plot()"
   ]
  },
  {
   "cell_type": "markdown",
   "metadata": {},
   "source": [
    "## Embed using features existing in data"
   ]
  },
  {
   "cell_type": "code",
   "execution_count": null,
   "metadata": {},
   "outputs": [],
   "source": [
    "embedder = CountEmbedder()\n",
    "embedding = embedder.transform(regions_gdf, features_gdf, joint_gdf)\n",
    "embedding"
   ]
  },
  {
   "cell_type": "markdown",
   "metadata": {},
   "source": [
    "## Embed with specifying expected output features"
   ]
  },
  {
   "cell_type": "code",
   "execution_count": null,
   "metadata": {},
   "outputs": [],
   "source": [
    "embedder = CountEmbedder(\n",
    "    expected_output_features=[\"amenity_parking\", \"leisure_park\", \"amenity_pub\"]\n",
    ")\n",
    "embedding_expected_features = embedder.transform(regions_gdf, features_gdf, joint_gdf)\n",
    "embedding_expected_features"
   ]
  },
  {
   "cell_type": "markdown",
   "metadata": {},
   "source": [
    "The resulting embedding contains only the columns specified in ```expected_output_features```.  \n",
    "The ones that were not present in the data (```leisure_park```, ```amenity_parking```) are added and filled with zeros.   \n",
    "The features that are both expected and present in the data are counted as usual.  \n",
    "The ones that are present in the data but are not expected (```leisure_adult_gaming_centre```, ```leisure_playground```) are discarded."
   ]
  }
 ],
 "metadata": {
  "kernelspec": {
   "display_name": ".venv",
   "language": "python",
   "name": "python3"
  },
  "language_info": {
   "codemirror_mode": {
    "name": "ipython",
    "version": 3
   },
   "file_extension": ".py",
   "mimetype": "text/x-python",
   "name": "python",
   "nbconvert_exporter": "python",
   "pygments_lexer": "ipython3",
   "version": "3.8.16"
  },
  "vscode": {
   "interpreter": {
    "hash": "cdb8aaadc0decb944250d2ac9b06f485d1fc395bd22d4875475c731b86175a8b"
   }
  }
 },
 "nbformat": 4,
 "nbformat_minor": 2
}
