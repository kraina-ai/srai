{
 "cells": [
  {
   "cell_type": "code",
   "execution_count": null,
   "metadata": {},
   "outputs": [],
   "source": [
    "from srai.embedders import Hex2VecEmbedder\n",
    "from srai.joiners import IntersectionJoiner\n",
    "from srai.loaders import OSMOnlineLoader\n",
    "from srai.neighbourhoods import H3Neighbourhood\n",
    "from srai.regionalizers import H3Regionalizer\n",
    "from srai.utils import geocode_to_region_gdf\n",
    "from srai.plotting import plot_regions, plot_numeric_data\n",
    "from pytorch_lightning import seed_everything"
   ]
  },
  {
   "cell_type": "code",
   "execution_count": null,
   "metadata": {},
   "outputs": [],
   "source": [
    "SEED = 71\n",
    "seed_everything(SEED)"
   ]
  },
  {
   "attachments": {},
   "cell_type": "markdown",
   "metadata": {},
   "source": [
    "### Load data from OSM"
   ]
  },
  {
   "attachments": {},
   "cell_type": "markdown",
   "metadata": {},
   "source": [
    "First use geocoding to get the area"
   ]
  },
  {
   "cell_type": "code",
   "execution_count": null,
   "metadata": {},
   "outputs": [],
   "source": [
    "area_gdf = geocode_to_region_gdf(\"Wrocław, Poland\")\n",
    "plot_regions(area_gdf, tiles_style=\"CartoDB positron\")"
   ]
  },
  {
   "attachments": {},
   "cell_type": "markdown",
   "metadata": {},
   "source": [
    "Next, download the data for the selected region and the specified tags. We're using `OSMOnlineLoader` here, as it's faster for low numbers of tags. In a real life scenario with more tags, you would likely want to use the `OSMPbfLoader`."
   ]
  },
  {
   "cell_type": "code",
   "execution_count": null,
   "metadata": {},
   "outputs": [],
   "source": [
    "tags = {\n",
    "    \"leisure\": \"park\",\n",
    "    \"landuse\": \"forest\",\n",
    "    \"amenity\": [\"bar\", \"restaurant\", \"cafe\"],\n",
    "    \"water\": \"river\",\n",
    "    \"sport\": \"soccer\",\n",
    "}\n",
    "loader = OSMOnlineLoader()\n",
    "\n",
    "features_gdf = loader.load(area_gdf, tags)\n",
    "\n",
    "folium_map = plot_regions(area_gdf, colormap=[\"rgba(0,0,0,0)\"], tiles_style=\"CartoDB positron\")\n",
    "features_gdf.explore(m=folium_map)"
   ]
  },
  {
   "attachments": {},
   "cell_type": "markdown",
   "metadata": {},
   "source": [
    "## Prepare the data for embedding"
   ]
  },
  {
   "attachments": {},
   "cell_type": "markdown",
   "metadata": {},
   "source": [
    "After downloading the data, we need to prepare it for embedding. Namely - we need to regionalize the selected area, and join the features with regions."
   ]
  },
  {
   "cell_type": "code",
   "execution_count": null,
   "metadata": {},
   "outputs": [],
   "source": [
    "regionalizer = H3Regionalizer(resolution=9)\n",
    "regions_gdf = regionalizer.transform(area_gdf)\n",
    "plot_regions(regions_gdf, tiles_style=\"CartoDB positron\")"
   ]
  },
  {
   "cell_type": "code",
   "execution_count": null,
   "metadata": {},
   "outputs": [],
   "source": [
    "joiner = IntersectionJoiner()\n",
    "joint_gdf = joiner.transform(regions_gdf, features_gdf)\n",
    "joint_gdf"
   ]
  },
  {
   "attachments": {},
   "cell_type": "markdown",
   "metadata": {},
   "source": [
    "## Embedding"
   ]
  },
  {
   "attachments": {},
   "cell_type": "markdown",
   "metadata": {},
   "source": [
    "After preparing the data we can proceed with generating embeddings for the regions."
   ]
  },
  {
   "cell_type": "code",
   "execution_count": null,
   "metadata": {},
   "outputs": [],
   "source": [
    "import warnings\n",
    "\n",
    "neighbourhood = H3Neighbourhood(regions_gdf)\n",
    "embedder = Hex2VecEmbedder([15, 10])\n",
    "\n",
    "with warnings.catch_warnings():\n",
    "    warnings.simplefilter(\"ignore\")\n",
    "    embeddings = embedder.fit_transform(\n",
    "        regions_gdf,\n",
    "        features_gdf,\n",
    "        joint_gdf,\n",
    "        neighbourhood,\n",
    "        trainer_kwargs={\"max_epochs\": 5, \"accelerator\": \"cpu\"},\n",
    "        batch_size=100,\n",
    "    )\n",
    "embeddings"
   ]
  },
  {
   "attachments": {},
   "cell_type": "markdown",
   "metadata": {},
   "source": [
    "### Visualizing the embeddings' similarity"
   ]
  },
  {
   "cell_type": "code",
   "execution_count": null,
   "metadata": {},
   "outputs": [],
   "source": [
    "embedder.save(\"./modello\")"
   ]
  },
  {
   "cell_type": "code",
   "execution_count": null,
   "metadata": {},
   "outputs": [],
   "source": [
    "embedder_loaded = Hex2VecEmbedder.load(\"./modello\")\n",
    "embedder_loaded"
   ]
  },
  {
   "cell_type": "code",
   "execution_count": null,
   "metadata": {},
   "outputs": [],
   "source": [
    "from srai.embedders import Highway2VecEmbedder\n",
    "from srai.loaders import OSMNetworkType, OSMWayLoader\n",
    "\n",
    "d = OSMWayLoader(OSMNetworkType.DRIVE).load(area_gdf)"
   ]
  },
  {
   "cell_type": "code",
   "execution_count": null,
   "metadata": {},
   "outputs": [],
   "source": [
    "joint = joiner.transform(regions_gdf, d[1])"
   ]
  },
  {
   "cell_type": "code",
   "execution_count": null,
   "metadata": {},
   "outputs": [],
   "source": [
    "highway2vec = Highway2VecEmbedder()\n",
    "highway2vec.fit(regions_gdf, d[1], joint)"
   ]
  },
  {
   "cell_type": "code",
   "execution_count": null,
   "metadata": {},
   "outputs": [],
   "source": [
    "highway2vec.save(\"highway2vec\")"
   ]
  },
  {
   "cell_type": "code",
   "execution_count": null,
   "metadata": {},
   "outputs": [],
   "source": [
    "vars(highway2vec)"
   ]
  },
  {
   "cell_type": "code",
   "execution_count": null,
   "metadata": {},
   "outputs": [],
   "source": [
    "Highway2VecEmbedder.load(\"highway2vec\")"
   ]
  },
  {
   "cell_type": "code",
   "execution_count": null,
   "metadata": {},
   "outputs": [],
   "source": [
    "import geopandas as gpd\n",
    "import pandas as pd\n",
    "from srai.embedders import GTFS2VecEmbedder\n",
    "from srai.constants import REGIONS_INDEX\n",
    "from shapely.geometry import Polygon\n",
    "\n",
    "features_gdf = gpd.GeoDataFrame(\n",
    "    {\n",
    "        \"trip_count_at_6\": [1, 0, 0],\n",
    "        \"trip_count_at_7\": [1, 1, 0],\n",
    "        \"trip_count_at_8\": [0, 0, 1],\n",
    "        \"directions_at_6\": [\n",
    "            {\"A\", \"A1\"},\n",
    "            {\"B\", \"B1\"},\n",
    "            {\"C\"},\n",
    "        ],\n",
    "    },\n",
    "    geometry=gpd.points_from_xy([1, 2, 5], [1, 2, 2]),\n",
    "    index=pd.Index(name=\"stop_id\", data=[1, 2, 3]),\n",
    ")\n",
    "regions_gdf = gpd.GeoDataFrame(\n",
    "    geometry=[\n",
    "        Polygon([(0, 0), (0, 3), (3, 3), (3, 0)]),\n",
    "        Polygon([(4, 0), (4, 3), (7, 3), (7, 0)]),\n",
    "        Polygon([(8, 0), (8, 3), (11, 3), (11, 0)]),\n",
    "    ],\n",
    "    index=pd.Index(name=REGIONS_INDEX, data=[\"ff1\", \"ff2\", \"ff3\"]),\n",
    ")\n",
    "\n",
    "joint_gdf = gpd.GeoDataFrame()\n",
    "joint_gdf.index = pd.MultiIndex.from_tuples(\n",
    "    [(\"ff1\", 1), (\"ff1\", 2), (\"ff2\", 3)],\n",
    "    names=[REGIONS_INDEX, \"stop_id\"],\n",
    ")\n",
    "\n",
    "embedder = GTFS2VecEmbedder(hidden_size=2, embedding_size=4)\n",
    "embedder.fit(regions_gdf, features_gdf, joint_gdf)\n",
    "res = embedder.transform(regions_gdf, features_gdf, joint_gdf)\n",
    "res"
   ]
  },
  {
   "cell_type": "code",
   "execution_count": null,
   "metadata": {},
   "outputs": [],
   "source": [
    "embedder.save(\"gtfs2vec\")"
   ]
  },
  {
   "cell_type": "code",
   "execution_count": null,
   "metadata": {},
   "outputs": [],
   "source": [
    "a = embedder.load(\"gtfs2vec\")"
   ]
  },
  {
   "cell_type": "code",
   "execution_count": null,
   "metadata": {},
   "outputs": [],
   "source": [
    "a = embedder.transform(regions_gdf, features_gdf, joint_gdf)"
   ]
  },
  {
   "cell_type": "code",
   "execution_count": null,
   "metadata": {},
   "outputs": [],
   "source": [
    "a"
   ]
  }
 ],
 "metadata": {
  "kernelspec": {
   "display_name": ".venv",
   "language": "python",
   "name": "python3"
  },
  "language_info": {
   "codemirror_mode": {
    "name": "ipython",
    "version": 3
   },
   "file_extension": ".py",
   "mimetype": "text/x-python",
   "name": "python",
   "nbconvert_exporter": "python",
   "pygments_lexer": "ipython3",
   "version": "3.10.11"
  }
 },
 "nbformat": 4,
 "nbformat_minor": 2
}
