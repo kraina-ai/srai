{
 "cells": [
  {
   "cell_type": "code",
   "execution_count": null,
   "metadata": {},
   "outputs": [],
   "source": [
    "from srai.neighbourhoods import H3Neighbourhood"
   ]
  },
  {
   "cell_type": "markdown",
   "metadata": {},
   "source": [
    "### Overriding include_center\n",
    "The default behavior of all Neighbourhoods is not to include the center region. This can be overridden by setting `include_center=True`.\n",
    "It can be done in:\n",
    "- `Neighbourhood`'s `__init__` method,\n",
    "- all `Neighbourhood`'s methods: \n",
    "  - `get_neighbours` and `get_neighbours_up_to_distance` - include the center region in the output,\n",
    "  - `get_neighbours_at_distance` - include the center region in the output if `distance=0`."
   ]
  },
  {
   "cell_type": "markdown",
   "metadata": {},
   "source": [
    "#### Overriding using method parameter\n",
    "The default behaviour is not to include the center region in the output."
   ]
  },
  {
   "cell_type": "code",
   "execution_count": null,
   "metadata": {},
   "outputs": [],
   "source": [
    "neighbourhood_with_regions = H3Neighbourhood()\n",
    "region_id = \"881e204089fffff\"\n",
    "neighbours_ids = neighbourhood_with_regions.get_neighbours(region_id)\n",
    "print(f\"Center region included: {region_id in neighbours_ids}\")\n",
    "neighbours_ids"
   ]
  },
  {
   "cell_type": "markdown",
   "metadata": {},
   "source": [
    "You can override it by setting `include_center=True` in the method call."
   ]
  },
  {
   "cell_type": "code",
   "execution_count": null,
   "metadata": {},
   "outputs": [],
   "source": [
    "neighbours_ids = neighbourhood_with_regions.get_neighbours(region_id, include_center=True)\n",
    "print(f\"Center region included: {region_id in neighbours_ids}\")\n",
    "neighbours_ids"
   ]
  },
  {
   "cell_type": "markdown",
   "metadata": {},
   "source": [
    "#### Overriding using __init__ parameter\n",
    "If including the center region by default is the desired behaviour, it can be set in the `Neighbourhood`'s `__init__` method."
   ]
  },
  {
   "cell_type": "code",
   "execution_count": null,
   "metadata": {},
   "outputs": [],
   "source": [
    "neighbourhood_with_regions = H3Neighbourhood(include_center=True)\n",
    "neighbours_ids = neighbourhood_with_regions.get_neighbours(region_id)\n",
    "print(f\"Center region included: {region_id in neighbours_ids}\")\n",
    "neighbours_ids"
   ]
  },
  {
   "cell_type": "markdown",
   "metadata": {},
   "source": [
    "You can still override it afterwards by setting `include_center=False` in the method call."
   ]
  },
  {
   "cell_type": "code",
   "execution_count": null,
   "metadata": {},
   "outputs": [],
   "source": [
    "neighbours_ids = neighbourhood_with_regions.get_neighbours(region_id, include_center=False)\n",
    "print(f\"Center region included: {region_id in neighbours_ids}\")\n",
    "neighbours_ids"
   ]
  },
  {
   "cell_type": "markdown",
   "metadata": {},
   "source": [
    "#### Neighbours up to distance\n",
    "The above applies to all `Neighbourhood`'s methods."
   ]
  },
  {
   "cell_type": "code",
   "execution_count": null,
   "metadata": {},
   "outputs": [],
   "source": [
    "neighbours_ids = neighbourhood_with_regions.get_neighbours_up_to_distance(region_id, 2)\n",
    "print(f\"Center region included: {region_id in neighbours_ids}\")\n",
    "neighbours_ids"
   ]
  },
  {
   "cell_type": "code",
   "execution_count": null,
   "metadata": {},
   "outputs": [],
   "source": [
    "neighbours_ids = neighbourhood_with_regions.get_neighbours_up_to_distance(\n",
    "    region_id, 2, include_center=False\n",
    ")\n",
    "print(f\"Center region included: {region_id in neighbours_ids}\")\n",
    "neighbours_ids"
   ]
  }
 ],
 "metadata": {
  "kernelspec": {
   "display_name": ".venv",
   "language": "python",
   "name": "python3"
  },
  "language_info": {
   "codemirror_mode": {
    "name": "ipython",
    "version": 3
   },
   "file_extension": ".py",
   "mimetype": "text/x-python",
   "name": "python",
   "nbconvert_exporter": "python",
   "pygments_lexer": "ipython3",
   "version": "3.9.16"
  }
 },
 "nbformat": 4,
 "nbformat_minor": 2
}
