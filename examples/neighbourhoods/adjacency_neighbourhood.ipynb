{
 "cells": [
  {
   "cell_type": "code",
   "execution_count": null,
   "metadata": {},
   "outputs": [],
   "source": [
    "import numpy as np\n",
    "from shapely.geometry import Point\n",
    "import geopandas as gpd\n",
    "\n",
    "from srai.constants import WGS84_CRS\n",
    "from srai.neighbourhoods import AdjacencyNeighbourhood\n",
    "from srai.regionalizers import AdministrativeBoundaryRegionalizer, VoronoiRegionalizer\n",
    "from srai.utils.geocode import geocode_to_region_gdf\n",
    "from srai.plotting.folium_wrapper import plot_regions, plot_neighbours, plot_all_neighbourhood"
   ]
  },
  {
   "attachments": {},
   "cell_type": "markdown",
   "metadata": {},
   "source": [
    "## Adjacency Neighbourhood\n",
    "It can generate neighbourhoods for all geodataframes with touching geometries."
   ]
  },
  {
   "attachments": {},
   "cell_type": "markdown",
   "metadata": {},
   "source": [
    "### Real boundaries example - Italy"
   ]
  },
  {
   "cell_type": "code",
   "execution_count": null,
   "metadata": {},
   "outputs": [],
   "source": [
    "it_gdf = geocode_to_region_gdf(query=[\"R365331\"], by_osmid=True)\n",
    "plot_regions(it_gdf)"
   ]
  },
  {
   "cell_type": "code",
   "execution_count": null,
   "metadata": {},
   "outputs": [],
   "source": [
    "regionalizer = AdministrativeBoundaryRegionalizer(admin_level=4)\n",
    "it_regions_gdf = regionalizer.transform(it_gdf)"
   ]
  },
  {
   "cell_type": "code",
   "execution_count": null,
   "metadata": {},
   "outputs": [],
   "source": [
    "plot_regions(it_regions_gdf)"
   ]
  },
  {
   "cell_type": "code",
   "execution_count": null,
   "metadata": {},
   "outputs": [],
   "source": [
    "neighbourhood = AdjacencyNeighbourhood(it_regions_gdf)"
   ]
  },
  {
   "attachments": {},
   "cell_type": "markdown",
   "metadata": {},
   "source": [
    "#### Nearest neighbours"
   ]
  },
  {
   "cell_type": "code",
   "execution_count": null,
   "metadata": {},
   "outputs": [],
   "source": [
    "region_id = \"Lazio\"\n",
    "neighbours = neighbourhood.get_neighbours(region_id)\n",
    "neighbours"
   ]
  },
  {
   "cell_type": "code",
   "execution_count": null,
   "metadata": {},
   "outputs": [],
   "source": [
    "plot_neighbours(it_regions_gdf, region_id, neighbours)"
   ]
  },
  {
   "attachments": {},
   "cell_type": "markdown",
   "metadata": {},
   "source": [
    "#### Neighbours at a distance"
   ]
  },
  {
   "cell_type": "code",
   "execution_count": null,
   "metadata": {},
   "outputs": [],
   "source": [
    "region_id = \"Basilicata\"\n",
    "neighbours = neighbourhood.get_neighbours_at_distance(region_id, 2)\n",
    "neighbours"
   ]
  },
  {
   "cell_type": "code",
   "execution_count": null,
   "metadata": {},
   "outputs": [],
   "source": [
    "plot_neighbours(it_regions_gdf, region_id, neighbours)"
   ]
  },
  {
   "attachments": {},
   "cell_type": "markdown",
   "metadata": {},
   "source": [
    "#### Regions without neighbours"
   ]
  },
  {
   "cell_type": "code",
   "execution_count": null,
   "metadata": {},
   "outputs": [],
   "source": [
    "region_id = \"Sardinia\"\n",
    "neighbours = neighbourhood.get_neighbours(region_id)\n",
    "neighbours"
   ]
  },
  {
   "cell_type": "code",
   "execution_count": null,
   "metadata": {},
   "outputs": [],
   "source": [
    "plot_neighbours(it_regions_gdf, region_id, neighbours)"
   ]
  },
  {
   "attachments": {},
   "cell_type": "markdown",
   "metadata": {},
   "source": [
    "#### Plotting all neighbourhood"
   ]
  },
  {
   "cell_type": "code",
   "execution_count": null,
   "metadata": {},
   "outputs": [],
   "source": [
    "region_id = \"Campania\"\n",
    "plot_all_neighbourhood(it_regions_gdf, region_id, neighbourhood)"
   ]
  },
  {
   "attachments": {},
   "cell_type": "markdown",
   "metadata": {},
   "source": [
    "### Voronoi example - Australia"
   ]
  },
  {
   "cell_type": "code",
   "execution_count": null,
   "metadata": {},
   "outputs": [],
   "source": [
    "au_gdf = geocode_to_region_gdf(query=[\"R80500\"], by_osmid=True)\n",
    "plot_regions(au_gdf)"
   ]
  },
  {
   "cell_type": "code",
   "execution_count": null,
   "metadata": {},
   "outputs": [],
   "source": [
    "import numpy as np\n",
    "from shapely.geometry import Point\n",
    "import geopandas as gpd\n",
    "from srai.constants import WGS84_CRS\n",
    "\n",
    "\n",
    "def generate_random_points(shape, n_points=500):\n",
    "    minx, miny, maxx, maxy = shape.bounds\n",
    "    pts = []\n",
    "\n",
    "    while len(pts) < 4:\n",
    "        randx = np.random.uniform(minx, maxx, n_points)\n",
    "        randy = np.random.uniform(miny, maxy, n_points)\n",
    "        coords = np.vstack((randx, randy)).T\n",
    "\n",
    "        # use only the points inside the geographic area\n",
    "        pts = [p for p in list(map(Point, coords)) if p.within(shape)]\n",
    "\n",
    "    del coords  # not used any more\n",
    "\n",
    "    return pts"
   ]
  },
  {
   "cell_type": "code",
   "execution_count": null,
   "metadata": {},
   "outputs": [],
   "source": [
    "pts = generate_random_points(au_gdf.geometry[0])\n",
    "\n",
    "au_seeds_gdf = gpd.GeoDataFrame(\n",
    "    {\"geometry\": pts},\n",
    "    index=list(range(len(pts))),\n",
    "    crs=WGS84_CRS,\n",
    ")"
   ]
  },
  {
   "cell_type": "code",
   "execution_count": null,
   "metadata": {},
   "outputs": [],
   "source": [
    "vr = VoronoiRegionalizer(seeds=au_seeds_gdf)\n",
    "au_result_gdf = vr.transform(gdf=au_gdf)"
   ]
  },
  {
   "cell_type": "code",
   "execution_count": null,
   "metadata": {},
   "outputs": [],
   "source": [
    "folium_map = plot_regions(au_result_gdf, tiles_style=\"CartoDB positron\")\n",
    "au_seeds_gdf.explore(\n",
    "    m=folium_map,\n",
    "    style_kwds=dict(color=\"#444\", opacity=1, fillColor=\"#f2f2f2\", fillOpacity=1),\n",
    "    marker_kwds=dict(radius=3),\n",
    ")"
   ]
  },
  {
   "cell_type": "code",
   "execution_count": null,
   "metadata": {},
   "outputs": [],
   "source": [
    "neighbourhood = AdjacencyNeighbourhood(regions_gdf=au_result_gdf)"
   ]
  },
  {
   "cell_type": "markdown",
   "metadata": {},
   "source": [
    "#### Nearest neighbours"
   ]
  },
  {
   "cell_type": "code",
   "execution_count": null,
   "metadata": {},
   "outputs": [],
   "source": [
    "region_id = 0\n",
    "neighbours = neighbourhood.get_neighbours(region_id)\n",
    "neighbours"
   ]
  },
  {
   "cell_type": "code",
   "execution_count": null,
   "metadata": {},
   "outputs": [],
   "source": [
    "plot_neighbours(au_result_gdf, region_id, neighbours)"
   ]
  },
  {
   "cell_type": "markdown",
   "metadata": {},
   "source": [
    "#### Neighbours at a distance"
   ]
  },
  {
   "cell_type": "code",
   "execution_count": null,
   "metadata": {},
   "outputs": [],
   "source": [
    "region_id = 0\n",
    "neighbours = neighbourhood.get_neighbours_at_distance(region_id, 3)\n",
    "neighbours"
   ]
  },
  {
   "cell_type": "code",
   "execution_count": null,
   "metadata": {},
   "outputs": [],
   "source": [
    "plot_neighbours(au_result_gdf, region_id, neighbours)"
   ]
  },
  {
   "attachments": {},
   "cell_type": "markdown",
   "metadata": {},
   "source": [
    "#### Plotting all neighbourhood"
   ]
  },
  {
   "cell_type": "code",
   "execution_count": null,
   "metadata": {},
   "outputs": [],
   "source": [
    "region_id = 0\n",
    "plot_all_neighbourhood(au_result_gdf, region_id, neighbourhood)"
   ]
  }
 ],
 "metadata": {
  "kernelspec": {
   "display_name": ".venv",
   "language": "python",
   "name": "python3"
  },
  "language_info": {
   "codemirror_mode": {
    "name": "ipython",
    "version": 3
   },
   "file_extension": ".py",
   "mimetype": "text/x-python",
   "name": "python",
   "nbconvert_exporter": "python",
   "pygments_lexer": "ipython3",
   "version": "3.10.11"
  }
 },
 "nbformat": 4,
 "nbformat_minor": 2
}
