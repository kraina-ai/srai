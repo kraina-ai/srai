{
 "cells": [
  {
   "cell_type": "code",
   "execution_count": null,
   "metadata": {},
   "outputs": [],
   "source": [
    "import geopandas as gpd\n",
    "from shapely import geometry\n",
    "import matplotlib.pyplot as plt"
   ]
  },
  {
   "attachments": {},
   "cell_type": "markdown",
   "metadata": {},
   "source": [
    "## Define example regions and features"
   ]
  },
  {
   "cell_type": "code",
   "execution_count": null,
   "metadata": {},
   "outputs": [],
   "source": [
    "regions = gpd.GeoDataFrame(\n",
    "    geometry=[\n",
    "        geometry.Polygon([(-1, 0), (-1, -1), (0, -1), (0, 0)]),\n",
    "        geometry.Polygon([(1, 0), (1, 1), (0, 1), (0, 0)]),\n",
    "        geometry.Polygon([(-2, -1), (-2, -2), (-1, -2), (-1, -1)]),\n",
    "        geometry.Polygon([(-2, 0.5), (-2, -0.5), (-1, -0.5), (-1, 0.5)]),\n",
    "    ],\n",
    "    crs=\"epsg:4326\",\n",
    ")\n",
    "\n",
    "features = gpd.GeoDataFrame(\n",
    "    geometry=[\n",
    "        geometry.Polygon([(-1.5, 0.5), (-1.5, 0), (-0.5, 0), (-0.5, 0.5)]),\n",
    "        geometry.Polygon([(-1.5, -1.5), (-1.5, -2.5), (-0.5, -2.5), (-0.5, -1.5)]),\n",
    "        geometry.Point((0, 0)),\n",
    "        geometry.Point((-0.5, -0.5)),\n",
    "    ],\n",
    "    crs=\"epsg:4326\",\n",
    ")\n",
    "\n",
    "print(regions)\n",
    "print(features)\n",
    "\n",
    "ax = regions.plot()\n",
    "features.plot(ax=ax, color=\"red\", alpha=0.5)\n",
    "plt.show()"
   ]
  },
  {
   "attachments": {},
   "cell_type": "markdown",
   "metadata": {},
   "source": [
    "## Join regions with features using intersection joiner"
   ]
  },
  {
   "cell_type": "code",
   "execution_count": null,
   "metadata": {},
   "outputs": [],
   "source": [
    "from srai.joiners import IntersectionJoiner\n",
    "\n",
    "joiner = IntersectionJoiner()\n",
    "joint = joiner.transform(regions, features)\n",
    "\n",
    "print(joint)\n",
    "\n",
    "ax = regions.plot(alpha=0.3)\n",
    "ax = features.plot(ax=ax, color=\"red\", alpha=0.3)\n",
    "joint.plot(ax=ax, color=\"green\", alpha=0.5)\n",
    "\n",
    "plt.show()"
   ]
  }
 ],
 "metadata": {
  "kernelspec": {
   "display_name": ".venv",
   "language": "python",
   "name": "python3"
  },
  "language_info": {
   "codemirror_mode": {
    "name": "ipython",
    "version": 3
   },
   "file_extension": ".py",
   "mimetype": "text/x-python",
   "name": "python",
   "nbconvert_exporter": "python",
   "pygments_lexer": "ipython3",
   "version": "3.8.14"
  },
  "vscode": {
   "interpreter": {
    "hash": "f39c7279c85c8be5d827e53eddb5011e966102d239fe8b81ca4bd9f0123eda8f"
   }
  }
 },
 "nbformat": 4,
 "nbformat_minor": 2
}
