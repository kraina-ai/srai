{
 "cells": [
  {
   "cell_type": "code",
   "execution_count": null,
   "metadata": {},
   "outputs": [],
   "source": [
    "import geopandas as gpd\n",
    "from shapely import geometry\n",
    "import matplotlib.pyplot as plt\n",
    "from srai.constants import WGS84_CRS, REGIONS_INDEX, FEATURES_INDEX\n",
    "from srai.plotting.folium_wrapper import plot_regions"
   ]
  },
  {
   "attachments": {},
   "cell_type": "markdown",
   "metadata": {},
   "source": [
    "## Define example regions and features"
   ]
  },
  {
   "cell_type": "code",
   "execution_count": null,
   "metadata": {},
   "outputs": [],
   "source": [
    "regions = gpd.GeoDataFrame(\n",
    "    geometry=[\n",
    "        geometry.Polygon([(-1, 0), (-1, -1), (0, -1), (0, 0)]),\n",
    "        geometry.Polygon([(1, 0), (1, 1), (0, 1), (0, 0)]),\n",
    "        geometry.Polygon([(-2, -1), (-2, -2), (-1, -2), (-1, -1)]),\n",
    "        geometry.Polygon([(-2, 0.5), (-2, -0.5), (-1, -0.5), (-1, 0.5)]),\n",
    "    ],\n",
    "    crs=WGS84_CRS,\n",
    "    index=gpd.pd.Index(name=REGIONS_INDEX, data=[1, 2, 3, 4]),\n",
    ")\n",
    "\n",
    "features = gpd.GeoDataFrame(\n",
    "    geometry=[\n",
    "        geometry.Polygon([(-1.5, 0.5), (-1.5, 0), (-0.5, 0), (-0.5, 0.5)]),\n",
    "        geometry.Polygon([(-1.5, -1.5), (-1.5, -2.5), (-0.5, -2.5), (-0.5, -1.5)]),\n",
    "        geometry.Point((0, 0)),\n",
    "        geometry.Point((-0.5, -0.5)),\n",
    "    ],\n",
    "    crs=WGS84_CRS,\n",
    "    index=gpd.pd.Index(name=FEATURES_INDEX, data=[1, 2, 3, 4]),\n",
    ")"
   ]
  },
  {
   "cell_type": "code",
   "execution_count": null,
   "metadata": {},
   "outputs": [],
   "source": [
    "regions"
   ]
  },
  {
   "cell_type": "code",
   "execution_count": null,
   "metadata": {},
   "outputs": [],
   "source": [
    "features"
   ]
  },
  {
   "cell_type": "code",
   "execution_count": null,
   "metadata": {},
   "outputs": [],
   "source": [
    "folium_map = plot_regions(regions, colormap=[\"royalblue\"])\n",
    "features.explore(\n",
    "    m=folium_map,\n",
    "    style_kwds=dict(color=\"red\", opacity=0.8, fillColor=\"red\", fillOpacity=0.5),\n",
    "    marker_kwds=dict(radius=3),\n",
    ")"
   ]
  },
  {
   "attachments": {},
   "cell_type": "markdown",
   "metadata": {},
   "source": [
    "## Join regions with features using intersection joiner"
   ]
  },
  {
   "cell_type": "code",
   "execution_count": null,
   "metadata": {},
   "outputs": [],
   "source": [
    "from srai.joiners import IntersectionJoiner\n",
    "\n",
    "joiner = IntersectionJoiner()\n",
    "joint = joiner.transform(regions, features, return_geom=True)\n",
    "\n",
    "joint"
   ]
  },
  {
   "cell_type": "code",
   "execution_count": null,
   "metadata": {},
   "outputs": [],
   "source": [
    "folium_map = plot_regions(regions, colormap=[\"royalblue\"])\n",
    "features.explore(\n",
    "    m=folium_map,\n",
    "    style_kwds=dict(color=\"red\", opacity=0.5, fillColor=\"red\", fillOpacity=0.5),\n",
    "    marker_kwds=dict(radius=3),\n",
    ")\n",
    "joint.explore(\n",
    "    m=folium_map,\n",
    "    style_kwds=dict(color=\"yellow\", opacity=1.0, fillColor=\"yellow\", fillOpacity=1.0),\n",
    "    marker_kwds=dict(radius=3),\n",
    ")"
   ]
  }
 ],
 "metadata": {
  "kernelspec": {
   "display_name": ".venv",
   "language": "python",
   "name": "python3"
  },
  "language_info": {
   "codemirror_mode": {
    "name": "ipython",
    "version": 3
   },
   "file_extension": ".py",
   "mimetype": "text/x-python",
   "name": "python",
   "nbconvert_exporter": "python",
   "pygments_lexer": "ipython3",
   "version": "3.10.11"
  },
  "vscode": {
   "interpreter": {
    "hash": "f39c7279c85c8be5d827e53eddb5011e966102d239fe8b81ca4bd9f0123eda8f"
   }
  }
 },
 "nbformat": 4,
 "nbformat_minor": 2
}
