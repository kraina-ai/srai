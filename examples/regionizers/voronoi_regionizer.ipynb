{
 "cells": [
  {
   "cell_type": "code",
   "execution_count": null,
   "metadata": {},
   "outputs": [],
   "source": [
    "import geopandas as gpd\n",
    "import numpy as np\n",
    "from osmnx import geocode_to_gdf\n",
    "import plotly.express as px\n",
    "from shapely.geometry import MultiPolygon, Point, Polygon\n",
    "\n",
    "from srai.regionizers import VoronoiRegionizer"
   ]
  },
  {
   "cell_type": "markdown",
   "metadata": {},
   "source": [
    "## Regionize whole Earth\n",
    "\n",
    "Basic usage of `VoronoiRegionizer` to cover whole Earth using 6 poles."
   ]
  },
  {
   "cell_type": "code",
   "execution_count": null,
   "metadata": {},
   "outputs": [],
   "source": [
    "# 6 poles of the Earth\n",
    "seeds_gdf = gpd.GeoDataFrame(\n",
    "    {\n",
    "        \"geometry\": [\n",
    "            Point(0, 0),\n",
    "            Point(90, 0),\n",
    "            Point(180, 0),\n",
    "            Point(-90, 0),\n",
    "            Point(0, 90),\n",
    "            Point(0, -90),\n",
    "        ]\n",
    "    },\n",
    "    index=[1, 2, 3, 4, 5, 6],\n",
    "    crs=\"EPSG:4326\",\n",
    ")"
   ]
  },
  {
   "cell_type": "code",
   "execution_count": null,
   "metadata": {},
   "outputs": [],
   "source": [
    "seeds_gdf.plot()"
   ]
  },
  {
   "cell_type": "code",
   "execution_count": null,
   "metadata": {},
   "outputs": [],
   "source": [
    "vr = VoronoiRegionizer(seeds=seeds_gdf)"
   ]
  },
  {
   "cell_type": "code",
   "execution_count": null,
   "metadata": {},
   "outputs": [],
   "source": [
    "result_gdf = vr.transform()"
   ]
  },
  {
   "cell_type": "code",
   "execution_count": null,
   "metadata": {},
   "outputs": [],
   "source": [
    "result_gdf"
   ]
  },
  {
   "cell_type": "code",
   "execution_count": null,
   "metadata": {},
   "outputs": [],
   "source": [
    "fig = px.choropleth(\n",
    "    result_gdf,\n",
    "    geojson=result_gdf.geometry,\n",
    "    locations=result_gdf.index,\n",
    "    color=result_gdf.index,\n",
    "    color_continuous_scale=px.colors.sequential.Viridis,\n",
    ")\n",
    "fig2 = px.scatter_geo(seeds_gdf, lat=seeds_gdf.geometry.y, lon=seeds_gdf.geometry.x)\n",
    "fig.update_traces(marker={\"opacity\": 0.6}, selector=dict(type=\"choropleth\"))\n",
    "fig.add_trace(fig2.data[0])\n",
    "fig.update_traces(marker_color=\"white\", marker_size=10, selector=dict(type=\"scattergeo\"))\n",
    "fig.update_layout(coloraxis_showscale=False)\n",
    "fig.update_geos(\n",
    "    projection_type=\"orthographic\", projection_rotation_lon=20, projection_rotation_lat=30\n",
    ")\n",
    "fig.update_layout(height=800, width=800, margin={\"r\": 0, \"t\": 0, \"l\": 0, \"b\": 0})\n",
    "fig.show(renderer=\"png\")  # replace with fig.show() to allow interactivity"
   ]
  },
  {
   "cell_type": "markdown",
   "metadata": {},
   "source": [
    "## Regionize single country\n",
    "\n",
    "Drawing a list of arbitrary points inside of the country boundary and using them for regionization of the same geometry."
   ]
  },
  {
   "cell_type": "code",
   "execution_count": null,
   "metadata": {},
   "outputs": [],
   "source": [
    "uk_gdf = geocode_to_gdf(query=[\"R62149\"], by_osmid=True)\n",
    "\n",
    "uk_gdf = uk_gdf.to_crs(epsg=4326)  # convert to wgs84\n",
    "uk_gdf_shape = uk_gdf.iloc[0].geometry  # get the Polygon"
   ]
  },
  {
   "cell_type": "code",
   "execution_count": null,
   "metadata": {},
   "outputs": [],
   "source": [
    "uk_gdf"
   ]
  },
  {
   "cell_type": "code",
   "execution_count": null,
   "metadata": {},
   "outputs": [],
   "source": [
    "N_POINTS = 100\n",
    "# generate some random points within the bounds\n",
    "minx, miny, maxx, maxy = uk_gdf_shape.bounds\n",
    "\n",
    "randx = np.random.uniform(minx, maxx, N_POINTS)\n",
    "randy = np.random.uniform(miny, maxy, N_POINTS)\n",
    "coords = np.vstack((randx, randy)).T\n",
    "\n",
    "# use only the points inside the geographic area\n",
    "\n",
    "pts = [p for p in list(map(Point, coords)) if p.within(uk_gdf_shape)]\n",
    "\n",
    "uk_seeds_gdf = gpd.GeoDataFrame(\n",
    "    {\"geometry\": pts},\n",
    "    index=list(range(len(pts))),\n",
    "    crs=\"EPSG:4326\",\n",
    ")\n",
    "\n",
    "del coords  # not used any more"
   ]
  },
  {
   "cell_type": "code",
   "execution_count": null,
   "metadata": {},
   "outputs": [],
   "source": [
    "uk_seeds_gdf.plot()"
   ]
  },
  {
   "cell_type": "code",
   "execution_count": null,
   "metadata": {},
   "outputs": [],
   "source": [
    "vr_uk = VoronoiRegionizer(seeds=uk_seeds_gdf)"
   ]
  },
  {
   "cell_type": "code",
   "execution_count": null,
   "metadata": {},
   "outputs": [],
   "source": [
    "uk_result_gdf = vr_uk.transform(gdf=uk_gdf)"
   ]
  },
  {
   "cell_type": "code",
   "execution_count": null,
   "metadata": {},
   "outputs": [],
   "source": [
    "uk_result_gdf.head()"
   ]
  },
  {
   "cell_type": "code",
   "execution_count": null,
   "metadata": {},
   "outputs": [],
   "source": [
    "fig = px.choropleth(\n",
    "    uk_result_gdf,\n",
    "    geojson=uk_result_gdf.geometry,\n",
    "    locations=uk_result_gdf.index,\n",
    "    color=uk_result_gdf.index,\n",
    "    color_continuous_scale=px.colors.qualitative.Plotly,\n",
    ")\n",
    "fig2 = px.scatter_geo(uk_seeds_gdf, lat=uk_seeds_gdf.geometry.y, lon=uk_seeds_gdf.geometry.x)\n",
    "fig.update_traces(marker={\"opacity\": 0.6}, selector=dict(type=\"choropleth\"))\n",
    "fig.add_trace(fig2.data[0])\n",
    "fig.update_traces(marker_color=\"black\", marker_size=6, selector=dict(type=\"scattergeo\"))\n",
    "fig.update_layout(coloraxis_showscale=False)\n",
    "fig.update_geos(\n",
    "    projection_type=\"natural earth\",\n",
    "    lataxis_range=[miny - 1, maxy + 1],\n",
    "    lonaxis_range=[minx - 1, maxx + 1],\n",
    "    resolution=50,\n",
    "    showframe=False,\n",
    "    showlakes=False,\n",
    ")\n",
    "fig.update_layout(height=800, width=675, margin={\"r\": 0, \"t\": 0, \"l\": 0, \"b\": 0})\n",
    "fig.show(renderer=\"png\")  # replace with fig.show() to allow interactivity"
   ]
  },
  {
   "cell_type": "markdown",
   "metadata": {},
   "source": [
    "## Higher amount of points\n",
    "\n",
    "Example of railway stations in Germany (5000+ seeds) with multiprocessing."
   ]
  },
  {
   "cell_type": "code",
   "execution_count": null,
   "metadata": {},
   "outputs": [],
   "source": [
    "stations_csv = gpd.pd.read_csv('https://raw.githubusercontent.com/trainline-eu/stations/master/stations.csv', sep=';', index_col='id', usecols=['id', 'latitude', 'longitude', 'country'])\n",
    "stations_csv"
   ]
  },
  {
   "cell_type": "code",
   "execution_count": null,
   "metadata": {},
   "outputs": [],
   "source": [
    "stations = []\n",
    "positions = set()\n",
    "for idx, r in stations_csv.iterrows():\n",
    "    if r.country != 'DE' or gpd.pd.isna(r.latitude) or gpd.pd.isna(r.longitude):\n",
    "        continue\n",
    "    pos = round(r.longitude,5), round(r.latitude,5)\n",
    "    if not pos in positions:\n",
    "        stations.append({\"id\": idx, \"geometry\": Point(*pos)})\n",
    "        positions.add(pos)\n",
    "\n",
    "stations_gdf = gpd.GeoDataFrame(data=stations, crs=\"EPSG:4326\").set_index('id')\n",
    "\n",
    "del stations_csv\n",
    "del stations\n",
    "del positions\n",
    "\n",
    "stations_gdf.head()"
   ]
  },
  {
   "cell_type": "code",
   "execution_count": null,
   "metadata": {},
   "outputs": [],
   "source": [
    "vr_rail = VoronoiRegionizer(seeds=stations_gdf, allow_multiprocessing=True)"
   ]
  },
  {
   "cell_type": "code",
   "execution_count": null,
   "metadata": {},
   "outputs": [],
   "source": [
    "rail_result_gdf = vr_rail.transform()"
   ]
  },
  {
   "cell_type": "code",
   "execution_count": null,
   "metadata": {},
   "outputs": [],
   "source": [
    "# Germany\n",
    "fig = px.choropleth(\n",
    "    rail_result_gdf,\n",
    "    geojson=rail_result_gdf.geometry,\n",
    "    locations=rail_result_gdf.index,\n",
    "    color=rail_result_gdf.index,\n",
    "    color_continuous_scale=px.colors.sequential.Viridis,\n",
    ")\n",
    "fig2 = px.scatter_geo(\n",
    "    stations_gdf, lat=stations_gdf.geometry.y, lon=stations_gdf.geometry.x\n",
    ")\n",
    "fig.update_traces(marker={\"opacity\": 0.6}, selector=dict(type=\"choropleth\"))\n",
    "fig.add_trace(fig2.data[0])\n",
    "fig.update_traces(marker_color=\"white\", marker_size=2, selector=dict(type=\"scattergeo\"))\n",
    "fig.update_layout(coloraxis_showscale=False)\n",
    "fig.update_geos(\n",
    "    projection_type=\"orthographic\",\n",
    "    projection_rotation_lon=10,\n",
    "    projection_rotation_lat=51,\n",
    "    projection_scale=11,\n",
    "    resolution=50,\n",
    "    showlakes=False,\n",
    "    showcountries=True,\n",
    "    showframe=False,\n",
    ")\n",
    "fig.update_layout(height=800, width=800, margin={\"r\": 0, \"t\": 0, \"l\": 0, \"b\": 0})\n",
    "fig.show(renderer=\"png\")  # replace with fig.show() to allow interactivity"
   ]
  },
  {
   "cell_type": "code",
   "execution_count": null,
   "metadata": {},
   "outputs": [],
   "source": [
    "# Berlin\n",
    "fig = px.choropleth_mapbox(\n",
    "    rail_result_gdf,\n",
    "    geojson=rail_result_gdf,\n",
    "    color=rail_result_gdf.index,\n",
    "    locations=rail_result_gdf.index,\n",
    "    center={\"lat\": 52.51637, \"lon\": 13.40665},\n",
    "    mapbox_style=\"open-street-map\",\n",
    "    zoom=11,\n",
    ")\n",
    "fig2 = px.scatter_mapbox(\n",
    "    stations_gdf, lat=stations_gdf.geometry.y, lon=stations_gdf.geometry.x\n",
    ")\n",
    "fig.add_trace(fig2.data[0])\n",
    "fig.update_layout(margin={\"r\": 0, \"t\": 0, \"l\": 0, \"b\": 0})\n",
    "fig.update_layout(coloraxis_showscale=False)\n",
    "fig.update_traces(marker={\"opacity\": 0.6}, selector=dict(type=\"choroplethmapbox\"))\n",
    "fig.update_traces(marker_color=\"white\", marker_size=5, selector=dict(type=\"scattermapbox\"))\n",
    "fig.update_layout(height=800, width=800, margin={\"r\": 0, \"t\": 0, \"l\": 0, \"b\": 0})\n",
    "fig.show(renderer=\"png\")  # replace with fig.show() to allow interactivity"
   ]
  },
  {
   "cell_type": "markdown",
   "metadata": {},
   "source": [
    "## Difference between spherical voronoi and 2d voronoi\n",
    "\n",
    "Showing the difference between working on the sphere and projected 2D plane.\n",
    "\n",
    "Uses `geovoronoi` package as an example."
   ]
  },
  {
   "cell_type": "code",
   "execution_count": null,
   "metadata": {},
   "outputs": [],
   "source": [
    "\"\"\"\n",
    "Geovoronoi package allows for a quick division of the Earth using list of seeds on a projected 2d plane.\n",
    "This results in straight lines with angles distorted and polygons differences\n",
    "might be substantial during comparisons or any area calculations.\n",
    "\"\"\"\n",
    "# geovoronoi package isn't used in this library, but is optional and can be installed using\n",
    "# pip install geovoronoi\n",
    "from geovoronoi import voronoi_regions_from_coords\n",
    "\n",
    "from shapely.geometry.polygon import orient\n",
    "from plotly.subplots import make_subplots"
   ]
  },
  {
   "cell_type": "code",
   "execution_count": null,
   "metadata": {},
   "outputs": [],
   "source": [
    "pl_gdf = geocode_to_gdf(query=[\"R49715\"], by_osmid=True)\n",
    "\n",
    "pl_gdf = pl_gdf.to_crs(epsg=4326)  # convert to wgs84\n",
    "pl_gdf_shape = pl_gdf.iloc[0].geometry  # get the Polygon"
   ]
  },
  {
   "cell_type": "code",
   "execution_count": null,
   "metadata": {},
   "outputs": [],
   "source": [
    "N_POINTS = 100\n",
    "# generate some random points within the bounds\n",
    "minx, miny, maxx, maxy = pl_gdf_shape.bounds\n",
    "\n",
    "randx = np.random.uniform(minx, maxx, N_POINTS)\n",
    "randy = np.random.uniform(miny, maxy, N_POINTS)\n",
    "coords = np.vstack((randx, randy)).T\n",
    "\n",
    "# use only the points inside the geographic area\n",
    "\n",
    "pts = [p for p in list(map(Point, coords)) if p.within(pl_gdf_shape)]\n",
    "\n",
    "pl_seeds_gdf = gpd.GeoDataFrame(\n",
    "    {\"geometry\": pts},\n",
    "    index=list(range(len(pts))),\n",
    "    crs=\"EPSG:4326\",\n",
    ")\n",
    "\n",
    "del coords"
   ]
  },
  {
   "cell_type": "code",
   "execution_count": null,
   "metadata": {},
   "outputs": [],
   "source": [
    "region_polys, region_pts, unassigned_pts = voronoi_regions_from_coords(\n",
    "    pts, pl_gdf_shape, return_unassigned_points=True, per_geom=False\n",
    ")"
   ]
  },
  {
   "cell_type": "code",
   "execution_count": null,
   "metadata": {},
   "outputs": [],
   "source": [
    "def orient_geom(geom):\n",
    "    if type(geom) == Polygon:\n",
    "        return orient(geom, sign=-1)\n",
    "    elif type(geom) == MultiPolygon:\n",
    "        return MultiPolygon([orient(g, sign=-1) for g in geom.geoms])\n",
    "\n",
    "\n",
    "pl_regions_2d_gdf = gpd.GeoDataFrame(\n",
    "    {\"geometry\": [orient_geom(geom) for geom in region_polys.values()]},\n",
    "    index=list(range(len(region_polys))),\n",
    "    crs=\"EPSG:4326\",\n",
    ")"
   ]
  },
  {
   "cell_type": "code",
   "execution_count": null,
   "metadata": {},
   "outputs": [],
   "source": [
    "pl_regions_2d_gdf"
   ]
  },
  {
   "cell_type": "code",
   "execution_count": null,
   "metadata": {},
   "outputs": [],
   "source": [
    "vr_pl = VoronoiRegionizer(seeds=pl_seeds_gdf)"
   ]
  },
  {
   "cell_type": "code",
   "execution_count": null,
   "metadata": {},
   "outputs": [],
   "source": [
    "pl_result_gdf = vr_pl.transform(gdf=pl_gdf)"
   ]
  },
  {
   "cell_type": "code",
   "execution_count": null,
   "metadata": {},
   "outputs": [],
   "source": [
    "pl_result_gdf"
   ]
  },
  {
   "cell_type": "code",
   "execution_count": null,
   "metadata": {},
   "outputs": [],
   "source": [
    "choropleth_1 = px.choropleth(\n",
    "    pl_result_gdf,\n",
    "    geojson=pl_result_gdf.geometry,\n",
    "    locations=pl_result_gdf.index,\n",
    "    color=pl_result_gdf.index,\n",
    "    color_continuous_scale=px.colors.qualitative.Plotly,\n",
    ")\n",
    "\n",
    "choropleth_2 = px.choropleth(\n",
    "    pl_regions_2d_gdf,\n",
    "    geojson=pl_regions_2d_gdf.geometry,\n",
    "    locations=pl_regions_2d_gdf.index,\n",
    "    color=pl_regions_2d_gdf.index,\n",
    "    color_continuous_scale=px.colors.qualitative.Plotly,\n",
    ")\n",
    "\n",
    "points_plot = px.scatter_geo(pl_seeds_gdf, lat=pl_seeds_gdf.geometry.y, lon=pl_seeds_gdf.geometry.x)\n",
    "\n",
    "fig = make_subplots(\n",
    "    rows=2,\n",
    "    cols=2,\n",
    "    specs=[\n",
    "        [{\"type\": \"scattergeo\"}, {\"type\": \"scattergeo\"}],\n",
    "        [{\"type\": \"scattergeo\"}, {\"type\": \"scattergeo\"}],\n",
    "    ],\n",
    "    horizontal_spacing=0.01,\n",
    "    vertical_spacing=0.0,\n",
    ")\n",
    "\n",
    "fig.add_trace(choropleth_1[\"data\"][0], row=1, col=1)\n",
    "fig.add_trace(choropleth_1[\"data\"][0], row=2, col=1)\n",
    "fig.add_trace(choropleth_2[\"data\"][0], row=1, col=2)\n",
    "fig.add_trace(choropleth_2[\"data\"][0], row=2, col=2)\n",
    "for r in [1, 2]:\n",
    "    for c in [1, 2]:\n",
    "        fig.add_trace(points_plot.data[0], row=r, col=c)\n",
    "\n",
    "fig.update_traces(marker_color=\"black\", marker_size=6, selector=dict(type=\"scattergeo\"))\n",
    "fig.update_layout(coloraxis_showscale=False)\n",
    "fig.update_geos(\n",
    "    projection_type=\"natural earth\",\n",
    "    lataxis_range=[miny - 1, maxy + 1],\n",
    "    lonaxis_range=[minx - 1, maxx + 1],\n",
    "    resolution=50,\n",
    "    row=1,\n",
    ")\n",
    "\n",
    "fig.update_geos(\n",
    "    projection_type=\"natural earth\",\n",
    "    lataxis_range=[miny + 1, maxy - 1],\n",
    "    lonaxis_range=[minx + 2, maxx - 2],\n",
    "    resolution=50,\n",
    "    row=2,\n",
    ")\n",
    "\n",
    "fig.update_traces(marker={\"opacity\": 0.6}, selector=dict(type=\"choropleth\"), row=1)\n",
    "fig.update_traces(marker={\"opacity\": 0.25}, selector=dict(type=\"choropleth\"), row=2)\n",
    "\n",
    "fig.update_layout(\n",
    "    height=800,\n",
    "    width=800,\n",
    "    title_text=\"Side By Side Subplots (Left: Spherical voronoi, Right: 2D voronoi)\",\n",
    "    margin={\"r\": 5, \"t\": 50, \"l\": 5, \"b\": 0},\n",
    ")\n",
    "fig.show(renderer=\"png\")  # replace with fig.show() to allow interactivity"
   ]
  }
 ],
 "metadata": {
  "kernelspec": {
   "display_name": "Python 3.8.10 ('.venv': venv)",
   "language": "python",
   "name": "python3"
  },
  "language_info": {
   "codemirror_mode": {
    "name": "ipython",
    "version": 3
   },
   "file_extension": ".py",
   "mimetype": "text/x-python",
   "name": "python",
   "nbconvert_exporter": "python",
   "pygments_lexer": "ipython3",
   "version": "3.8.10"
  },
  "vscode": {
   "interpreter": {
    "hash": "27588098aedc4e0690c9f009d86804b277352852ed19dd471efc5e9817d4b199"
   }
  }
 },
 "nbformat": 4,
 "nbformat_minor": 2
}
