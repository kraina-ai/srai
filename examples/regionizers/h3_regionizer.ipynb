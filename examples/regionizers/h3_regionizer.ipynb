{
 "cells": [
  {
   "cell_type": "markdown",
   "metadata": {},
   "source": [
    "# H3 Regionizer Example"
   ]
  },
  {
   "cell_type": "code",
   "execution_count": null,
   "metadata": {},
   "outputs": [],
   "source": [
    "import geopandas as gpd\n",
    "import matplotlib.pyplot as plt\n",
    "from shapely import geometry\n",
    "\n",
    "from srai.regionizers import H3Regionizer"
   ]
  },
  {
   "cell_type": "markdown",
   "metadata": {},
   "source": [
    "## Define starting polygons"
   ]
  },
  {
   "cell_type": "code",
   "execution_count": null,
   "metadata": {},
   "outputs": [],
   "source": [
    "gdf = gpd.GeoDataFrame(\n",
    "    geometry=[\n",
    "        geometry.Polygon(\n",
    "            shell=[\n",
    "                (-1, 0),\n",
    "                (0, 0.5),\n",
    "                (1, 0),\n",
    "                (1, 1),\n",
    "                (0, 1),\n",
    "            ],\n",
    "            holes=[\n",
    "                [\n",
    "                    (0.8, 0.9),\n",
    "                    (0.9, 0.55),\n",
    "                    (0.8, 0.3),\n",
    "                    (0.5, 0.4),\n",
    "                ]\n",
    "            ],\n",
    "        ),\n",
    "        geometry.Polygon(shell=[(-0.25, 0), (0.25, 0), (0, 0.2)]),\n",
    "    ],\n",
    "    crs=\"epsg:4326\",\n",
    ")\n",
    "resolution = 4\n",
    "gdf.plot()\n"
   ]
  },
  {
   "cell_type": "markdown",
   "metadata": {},
   "source": [
    "## Regionize using H3 without buffering"
   ]
  },
  {
   "cell_type": "markdown",
   "metadata": {},
   "source": [
    "Polygons are not fully covered in H3 cells"
   ]
  },
  {
   "cell_type": "code",
   "execution_count": null,
   "metadata": {},
   "outputs": [],
   "source": [
    "regionizer = H3Regionizer(resolution, buffer=False)\n",
    "gdf_h3 = regionizer.transform(gdf)\n",
    "\n",
    "ax = gdf.plot()\n",
    "gdf_h3.plot(ax=ax, color=\"red\", alpha=0.5)\n",
    "plt.show()\n"
   ]
  },
  {
   "cell_type": "markdown",
   "metadata": {},
   "source": [
    "## Regionize using H3 with buffering (default)"
   ]
  },
  {
   "cell_type": "markdown",
   "metadata": {},
   "source": [
    "Polygons are now properly covered in H3 cells"
   ]
  },
  {
   "cell_type": "code",
   "execution_count": null,
   "metadata": {},
   "outputs": [],
   "source": [
    "regionizer_buffered = H3Regionizer(resolution)\n",
    "gdf_h3_buffered = regionizer_buffered.transform(gdf)\n",
    "\n",
    "ax = gdf.plot()\n",
    "gdf_h3_buffered.plot(ax=ax, color=\"red\", alpha=0.5)\n",
    "plt.show()\n"
   ]
  }
 ],
 "metadata": {
  "kernelspec": {
   "display_name": "Python 3.8.14 ('.venv': venv)",
   "language": "python",
   "name": "python3"
  },
  "language_info": {
   "codemirror_mode": {
    "name": "ipython",
    "version": 3
   },
   "file_extension": ".py",
   "mimetype": "text/x-python",
   "name": "python",
   "nbconvert_exporter": "python",
   "pygments_lexer": "ipython3",
   "version": "3.8.14"
  },
  "vscode": {
   "interpreter": {
    "hash": "ff171c218963a21ae796a71e1fcf1df45597c5219c663e3cec1d9a9df6951d9c"
   }
  }
 },
 "nbformat": 4,
 "nbformat_minor": 2
}
