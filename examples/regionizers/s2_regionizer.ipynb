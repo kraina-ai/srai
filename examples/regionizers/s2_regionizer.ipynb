{
 "cells": [
  {
   "cell_type": "markdown",
   "metadata": {},
   "source": [
    "# S2 Regionizer Example"
   ]
  },
  {
   "cell_type": "code",
   "execution_count": null,
   "metadata": {},
   "outputs": [],
   "source": [
    "import geopandas as gpd\n",
    "import matplotlib.pyplot as plt\n",
    "from shapely import geometry\n",
    "\n",
    "from srai.regionizers import S2Regionizer"
   ]
  },
  {
   "cell_type": "markdown",
   "metadata": {},
   "source": [
    "## Define starting polygons"
   ]
  },
  {
   "cell_type": "code",
   "execution_count": null,
   "metadata": {},
   "outputs": [],
   "source": [
    "gdf = gpd.GeoDataFrame(\n",
    "    geometry=[\n",
    "        geometry.Polygon(\n",
    "            shell=[\n",
    "                (-1, 0),\n",
    "                (0, 0.5),\n",
    "                (1, 0),\n",
    "                (1, 1),\n",
    "                (0, 1),\n",
    "            ],\n",
    "            holes=[\n",
    "                [\n",
    "                    (0.8, 0.9),\n",
    "                    (0.9, 0.55),\n",
    "                    (0.8, 0.3),\n",
    "                    (0.5, 0.4),\n",
    "                ]\n",
    "            ],\n",
    "        ),\n",
    "        geometry.Polygon(shell=[(-0.25, 0), (0.25, 0), (0, 0.2)]),\n",
    "    ],\n",
    "    crs=\"epsg:4326\",\n",
    ")\n",
    "resolution = 11\n",
    "gdf.plot()"
   ]
  },
  {
   "cell_type": "markdown",
   "metadata": {},
   "source": [
    "## Regionize using S2 wihtout buffer\n",
    "\n",
    "All cells are fully contained in the original polygon."
   ]
  },
  {
   "cell_type": "code",
   "execution_count": null,
   "metadata": {},
   "outputs": [],
   "source": [
    "regionizer = S2Regionizer(resolution, buffer=False)\n",
    "gdf_s2 = regionizer.transform(gdf)\n",
    "\n",
    "ax = gdf.plot()\n",
    "gdf_s2.plot(ax=ax, color=\"red\", alpha=0.5)\n",
    "plt.show()"
   ]
  },
  {
   "cell_type": "markdown",
   "metadata": {},
   "source": [
    "## Regionizer using S2 with buffer (default)\n",
    "\n",
    "Whole polygon is covered by cells. Some are not fully contained in the original polygon."
   ]
  },
  {
   "cell_type": "code",
   "execution_count": null,
   "metadata": {},
   "outputs": [],
   "source": [
    "regionizer = S2Regionizer(resolution, buffer=True)\n",
    "gdf_s2 = regionizer.transform(gdf)\n",
    "\n",
    "ax = gdf.plot()\n",
    "gdf_s2.plot(ax=ax, color=\"red\", alpha=0.5)\n",
    "plt.show()"
   ]
  }
 ],
 "metadata": {
  "kernelspec": {
   "display_name": ".venv",
   "language": "python",
   "name": "python3"
  },
  "language_info": {
   "codemirror_mode": {
    "name": "ipython",
    "version": 3
   },
   "file_extension": ".py",
   "mimetype": "text/x-python",
   "name": "python",
   "nbconvert_exporter": "python",
   "pygments_lexer": "ipython3",
   "version": "3.8.14"
  },
  "vscode": {
   "interpreter": {
    "hash": "2102df1d74c890a541339243f341c4aa4ffb38ff8671f11b79e33b00adbba0dd"
   }
  }
 },
 "nbformat": 4,
 "nbformat_minor": 2
}
