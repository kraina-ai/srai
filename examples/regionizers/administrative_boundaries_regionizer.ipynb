{
 "cells": [
  {
   "cell_type": "code",
   "execution_count": null,
   "metadata": {},
   "outputs": [],
   "source": [
    "import geopandas as gpd\n",
    "from osmnx import geocode_to_gdf\n",
    "import plotly.express as px\n",
    "from shapely.geometry import Point, box\n",
    "\n",
    "from srai.regionizers import AdministrativeBoundaryRegionizer"
   ]
  },
  {
   "cell_type": "markdown",
   "metadata": {},
   "source": [
    "## Regionize city\n",
    "\n",
    "Basic usage of the `AdministrativeBoundaryRegionizer` with a city boundary. \n",
    "\n",
    "Here `admin_level` equal to 9 defines city districts in Poland."
   ]
  },
  {
   "cell_type": "code",
   "execution_count": null,
   "metadata": {},
   "outputs": [],
   "source": [
    "wroclaw_gdf = geocode_to_gdf(query=[\"R451516\"], by_osmid=True)\n",
    "wroclaw_gdf.plot()"
   ]
  },
  {
   "cell_type": "code",
   "execution_count": null,
   "metadata": {},
   "outputs": [],
   "source": [
    "abr = AdministrativeBoundaryRegionizer(admin_level=9)"
   ]
  },
  {
   "cell_type": "code",
   "execution_count": null,
   "metadata": {},
   "outputs": [],
   "source": [
    "wro_result_gdf = abr.transform(gdf=wroclaw_gdf)\n",
    "wro_result_gdf.head()"
   ]
  },
  {
   "cell_type": "code",
   "execution_count": null,
   "metadata": {},
   "outputs": [],
   "source": [
    "fig = px.choropleth_mapbox(\n",
    "    wro_result_gdf,\n",
    "    geojson=wro_result_gdf,\n",
    "    color=wro_result_gdf.index,\n",
    "    locations=wro_result_gdf.index,\n",
    "    center={\"lat\": 51.125, \"lon\": 16.99},\n",
    "    mapbox_style=\"carto-positron\",\n",
    "    zoom=10.5,\n",
    ")\n",
    "fig.update_layout(margin={\"r\": 0, \"t\": 0, \"l\": 0, \"b\": 0})\n",
    "fig.update_traces(marker={\"opacity\": 0.6}, selector=dict(type=\"choroplethmapbox\"))\n",
    "fig.update_traces(showlegend=False)\n",
    "minx, miny, maxx, maxy = wroclaw_gdf.geometry[0].bounds\n",
    "fig.update_geos(\n",
    "    projection_type=\"equirectangular\",\n",
    "    lataxis_range=[miny - 0.1, maxy + 0.1],\n",
    "    lonaxis_range=[minx - 0.1, maxx + 0.1],\n",
    "    showlakes=False,\n",
    "    showcountries=False,\n",
    "    showframe=False,\n",
    "    resolution=50,\n",
    ")\n",
    "fig.update_layout(height=600, width=800, margin={\"r\": 0, \"t\": 0, \"l\": 0, \"b\": 0})\n",
    "fig.show(renderer=\"png\")  # replace with fig.show() to allow interactivity\n"
   ]
  },
  {
   "cell_type": "markdown",
   "metadata": {},
   "source": [
    "## Regionize country\n",
    "\n",
    "How to return an empty region covering water bodies outside of the land.\n",
    "\n",
    "Here `admin_level` equal to 4 defines country regions in Madagascar."
   ]
  },
  {
   "cell_type": "code",
   "execution_count": null,
   "metadata": {},
   "outputs": [],
   "source": [
    "madagascar_bbox = box(minx=43.2541870461, miny=-25.6014344215, maxx=50.4765368996, maxy=-12.0405567359)\n",
    "madagascar_bbox_gdf = gpd.GeoDataFrame({\"geometry\": [madagascar_bbox]}, crs=\"EPSG:4326\")"
   ]
  },
  {
   "cell_type": "code",
   "execution_count": null,
   "metadata": {},
   "outputs": [],
   "source": [
    "abr = AdministrativeBoundaryRegionizer(admin_level=4, return_empty_region=True)"
   ]
  },
  {
   "cell_type": "code",
   "execution_count": null,
   "metadata": {},
   "outputs": [],
   "source": [
    "madagascar_result_gdf = abr.transform(gdf=madagascar_bbox_gdf)\n",
    "madagascar_result_gdf.tail()"
   ]
  },
  {
   "cell_type": "code",
   "execution_count": null,
   "metadata": {},
   "outputs": [],
   "source": [
    "fig = px.choropleth(\n",
    "    madagascar_result_gdf,\n",
    "    geojson=madagascar_result_gdf.geometry,\n",
    "    locations=madagascar_result_gdf.index,\n",
    "    color=madagascar_result_gdf.index,\n",
    "    color_continuous_scale=px.colors.sequential.Viridis,\n",
    ")\n",
    "\n",
    "fig.update_traces(marker={\"opacity\": 0.6}, selector=dict(type=\"choropleth\"))\n",
    "fig.update_layout(coloraxis_showscale=False)\n",
    "fig.update_traces(showlegend=False)\n",
    "minx, miny, maxx, maxy = madagascar_bbox.bounds\n",
    "fig.update_geos(\n",
    "    projection_type=\"equirectangular\",\n",
    "    lataxis_range=[miny - 0.1, maxy + 0.1],\n",
    "    lonaxis_range=[minx - 0.1, maxx + 0.1],\n",
    "    visible=False,\n",
    "    showlakes=False,\n",
    "    showcountries=False,\n",
    "    showframe=False,\n",
    "    resolution=50,\n",
    ")\n",
    "fig.update_layout(height=800, width=420, margin={\"r\": 0, \"t\": 0, \"l\": 0, \"b\": 0})\n",
    "fig.show(renderer=\"png\")  # replace with fig.show() to allow interactivity"
   ]
  },
  {
   "cell_type": "markdown",
   "metadata": {},
   "source": [
    "## Regionize Europe\n",
    "\n",
    "Option to slightly increase the value of `toposiplify` to simplify geometries even more.\n",
    "\n",
    "Here `admin_level` equal to 2 defines countries."
   ]
  },
  {
   "cell_type": "code",
   "execution_count": null,
   "metadata": {},
   "outputs": [],
   "source": [
    "eu_bbox = box(minx=-10.478556, miny=34.633284672291, maxx=34.597916, maxy=70.096054)\n",
    "eu_bbox_gdf = gpd.GeoDataFrame({\"geometry\": [eu_bbox]}, crs=\"EPSG:4326\")"
   ]
  },
  {
   "cell_type": "code",
   "execution_count": null,
   "metadata": {},
   "outputs": [],
   "source": [
    "abr = AdministrativeBoundaryRegionizer(admin_level=2, toposimplify=0.0005)"
   ]
  },
  {
   "cell_type": "code",
   "execution_count": null,
   "metadata": {},
   "outputs": [],
   "source": [
    "eu_result_gdf = abr.transform(gdf=eu_bbox_gdf)"
   ]
  },
  {
   "cell_type": "code",
   "execution_count": null,
   "metadata": {},
   "outputs": [],
   "source": [
    "eu_result_gdf.head()"
   ]
  },
  {
   "cell_type": "code",
   "execution_count": null,
   "metadata": {},
   "outputs": [],
   "source": [
    "fig = px.choropleth(\n",
    "    eu_result_gdf,\n",
    "    geojson=eu_result_gdf.geometry,\n",
    "    locations=eu_result_gdf.index,\n",
    "    color=eu_result_gdf.index,\n",
    "    color_continuous_scale=px.colors.sequential.Viridis,\n",
    ")\n",
    "\n",
    "fig.update_traces(marker={\"opacity\": 0.6}, selector=dict(type=\"choropleth\"))\n",
    "fig.update_layout(coloraxis_showscale=False)\n",
    "fig.update_traces(showlegend=False)\n",
    "minx, miny, maxx, maxy = eu_bbox.bounds\n",
    "fig.update_geos(\n",
    "    projection_type=\"equirectangular\",\n",
    "    lataxis_range=[miny - 1, maxy + 1],\n",
    "    lonaxis_range=[minx - 1, maxx + 1],\n",
    "    showlakes=False, \n",
    "    showcountries=False,\n",
    "    showframe=False,\n",
    "    resolution=50,\n",
    ")\n",
    "fig.update_layout(height=800, width=1000, margin={\"r\": 0, \"t\": 0, \"l\": 0, \"b\": 0})\n",
    "fig.show(renderer=\"png\")  # replace with fig.show() to allow interactivity"
   ]
  },
  {
   "cell_type": "markdown",
   "metadata": {},
   "source": [
    "## Toposimplify differences\n",
    "\n",
    "Shows differences in simplification of small regions using four values: `1e-4`, `1e-3`, `1e-2` and `0.1`. Those values are in degress, since it uses Douglas-Peucker simplification algorithm.\n",
    "\n",
    "`1e-4` is the default value and is equal to about 11.1m accuracy.\n",
    "\n",
    "More info: https://github.com/mattijn/topojson\n",
    "\n",
    "Here `admin_level` equal to 6 defines city districts in Singapore."
   ]
  },
  {
   "cell_type": "code",
   "execution_count": null,
   "metadata": {},
   "outputs": [],
   "source": [
    "singapore_bbox = box(minx=103.5111238, miny=1.1263707, maxx=104.1313374, maxy=1.4787511)\n",
    "singapore_bbox_gdf = gpd.GeoDataFrame({\"geometry\": [singapore_bbox]}, crs=\"EPSG:4326\")"
   ]
  },
  {
   "cell_type": "code",
   "execution_count": null,
   "metadata": {},
   "outputs": [],
   "source": [
    "results = {}\n",
    "for value in [0.0001, 0.001, 0.01, 0.1]:\n",
    "    abr = AdministrativeBoundaryRegionizer(admin_level=6, toposimplify=value)\n",
    "    results[value] = abr.transform(gdf=singapore_bbox_gdf)"
   ]
  },
  {
   "cell_type": "code",
   "execution_count": null,
   "metadata": {},
   "outputs": [],
   "source": [
    "minx, miny, maxx, maxy = singapore_bbox.bounds\n",
    "for epsilon, result in results.items():\n",
    "    fig = px.choropleth_mapbox(\n",
    "        result,\n",
    "        geojson=result,\n",
    "        color=result.index,\n",
    "        locations=result.index,\n",
    "        center={\"lat\": 1.3119350704252704, \"lon\": 103.82412242562575},\n",
    "        mapbox_style=\"carto-positron\",\n",
    "        zoom=9.5,\n",
    "    )\n",
    "    fig.update_layout(margin={\"r\": 0, \"t\": 0, \"l\": 0, \"b\": 0})\n",
    "    fig.update_traces(marker={\"opacity\": 0.6}, selector=dict(type=\"choroplethmapbox\"))\n",
    "    fig.update_traces(showlegend=False)\n",
    "    fig.update_geos(\n",
    "        projection_type=\"equirectangular\",\n",
    "        lataxis_range=[miny - 0.1, maxy + 0.1],\n",
    "        lonaxis_range=[minx - 0.1, maxx + 0.1],\n",
    "        showlakes=False,\n",
    "        showcountries=False,\n",
    "        showframe=False,\n",
    "        resolution=50,\n",
    "    )\n",
    "    \n",
    "    size = len(result.to_json().encode('utf-8'))\n",
    "    fig.update_layout(\n",
    "        height=450,\n",
    "        width=700,\n",
    "        margin={\"r\": 0, \"t\": 50, \"l\": 0, \"b\": 0},\n",
    "        title_text=f\"Toposimplify value: {epsilon} ({size/1000} KB)\",\n",
    "    )\n",
    "\n",
    "    fig.show(renderer=\"png\")  # replace with fig.show() to allow interactivity\n"
   ]
  },
  {
   "cell_type": "markdown",
   "metadata": {},
   "source": [
    "## Regionize points\n",
    "\n",
    "How to return original regions without clipping and select them using list of points. Showed using list of metro stations in Paris.\n",
    "\n",
    "Here `admin_level` equal to 8 defines communes in France."
   ]
  },
  {
   "cell_type": "code",
   "execution_count": null,
   "metadata": {},
   "outputs": [],
   "source": [
    "import requests\n",
    "\n",
    "r = requests.get(\"https://raw.githubusercontent.com/w8r/paris-metro-graph/master/metro.json\").json()\n",
    "stations_gdf = gpd.GeoDataFrame({\"geometry\": [Point(s['longitude'], s['latitude']) for s in r['nodes']]}, crs=\"EPSG:4326\")\n",
    "stations_gdf"
   ]
  },
  {
   "cell_type": "code",
   "execution_count": null,
   "metadata": {},
   "outputs": [],
   "source": [
    "abr = AdministrativeBoundaryRegionizer(admin_level=8, return_empty_region=False, clip_regions=False)\n",
    "paris_districts_result = abr.transform(gdf=stations_gdf)"
   ]
  },
  {
   "cell_type": "code",
   "execution_count": null,
   "metadata": {},
   "outputs": [],
   "source": [
    "paris_districts_result.head()"
   ]
  },
  {
   "cell_type": "code",
   "execution_count": null,
   "metadata": {},
   "outputs": [],
   "source": [
    "# Paris\n",
    "fig = px.choropleth_mapbox(\n",
    "    paris_districts_result,\n",
    "    geojson=paris_districts_result,\n",
    "    color=paris_districts_result.index,\n",
    "    locations=paris_districts_result.index,\n",
    "    center={\"lat\": 48.858, \"lon\": 2.353},\n",
    "    mapbox_style=\"carto-positron\",\n",
    "    zoom=10.8,\n",
    ")\n",
    "fig2 = px.scatter_mapbox(\n",
    "    stations_gdf, lat=stations_gdf.geometry.y, lon=stations_gdf.geometry.x\n",
    ")\n",
    "fig.add_trace(fig2.data[0])\n",
    "fig.update_layout(margin={\"r\": 0, \"t\": 0, \"l\": 0, \"b\": 0})\n",
    "fig.update_traces(showlegend=False)\n",
    "fig.update_traces(marker={\"opacity\": 0.6}, selector=dict(type=\"choroplethmapbox\"))\n",
    "fig.update_traces(marker_color=\"black\", marker_size=5, selector=dict(type=\"scattermapbox\"))\n",
    "fig.update_layout(height=800, width=800, margin={\"r\": 0, \"t\": 0, \"l\": 0, \"b\": 0})\n",
    "fig.show(renderer=\"png\")  # replace with fig.show() to allow interactivity"
   ]
  }
 ],
 "metadata": {
  "kernelspec": {
   "display_name": "Python 3.8.10 ('.venv': venv)",
   "language": "python",
   "name": "python3"
  },
  "language_info": {
   "codemirror_mode": {
    "name": "ipython",
    "version": 3
   },
   "file_extension": ".py",
   "mimetype": "text/x-python",
   "name": "python",
   "nbconvert_exporter": "python",
   "pygments_lexer": "ipython3",
   "version": "3.8.10"
  },
  "vscode": {
   "interpreter": {
    "hash": "4153976b658cb8b76d04b10dc7a0c871c2dac1d3dcfe690ad61d83a61969a12e"
   }
  }
 },
 "nbformat": 4,
 "nbformat_minor": 2
}
