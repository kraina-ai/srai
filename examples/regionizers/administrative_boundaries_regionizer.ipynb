{
 "cells": [
  {
   "cell_type": "code",
   "execution_count": null,
   "metadata": {},
   "outputs": [],
   "source": [
    "import geopandas as gpd\n",
    "import numpy as np\n",
    "import plotly.express as px\n",
    "import plotly.offline as po\n",
    "from keplergl import KeplerGl\n",
    "from shapely.geometry import MultiPolygon, Point, Polygon, box\n",
    "\n",
    "from srai.regionizers import AdministrativeBoundaryRegionizer"
   ]
  },
  {
   "cell_type": "markdown",
   "metadata": {},
   "source": [
    "## Tesellate Europe"
   ]
  },
  {
   "cell_type": "code",
   "execution_count": null,
   "metadata": {},
   "outputs": [],
   "source": [
    "eu_bbox = box(minx=-10.478556, miny=34.633284672291, maxx=34.597916, maxy=70.096054)\n",
    "eu_bbox_gdf = gpd.GeoDataFrame({\"geometry\": [eu_bbox]}, crs=\"EPSG:4326\")"
   ]
  },
  {
   "cell_type": "code",
   "execution_count": null,
   "metadata": {},
   "outputs": [],
   "source": [
    "abr = AdministrativeBoundaryRegionizer(admin_level=2)"
   ]
  },
  {
   "cell_type": "code",
   "execution_count": null,
   "metadata": {},
   "outputs": [],
   "source": [
    "result_gdf = abr.transform(gdf=eu_bbox_gdf)"
   ]
  },
  {
   "cell_type": "code",
   "execution_count": null,
   "metadata": {},
   "outputs": [],
   "source": [
    "result_gdf"
   ]
  },
  {
   "cell_type": "code",
   "execution_count": null,
   "metadata": {},
   "outputs": [],
   "source": [
    "result_gdf.memory_usage(deep=True)"
   ]
  },
  {
   "cell_type": "code",
   "execution_count": null,
   "metadata": {},
   "outputs": [],
   "source": [
    "import topojson as tp"
   ]
  },
  {
   "cell_type": "code",
   "execution_count": null,
   "metadata": {},
   "outputs": [],
   "source": [
    "topo = tp.Topology(result_gdf, \n",
    "    prevent_oversimplify=True,\n",
    "    toposimplify=0.1,  \n",
    "    # topoquantize=1\n",
    "    )\n",
    "topo.to_gdf(winding_order='CCW_CW').plot()"
   ]
  },
  {
   "cell_type": "code",
   "execution_count": null,
   "metadata": {},
   "outputs": [],
   "source": [
    "result_gdf.plot()"
   ]
  },
  {
   "cell_type": "code",
   "execution_count": null,
   "metadata": {},
   "outputs": [],
   "source": [
    "topo.to_gdf().plot()"
   ]
  },
  {
   "cell_type": "code",
   "execution_count": null,
   "metadata": {},
   "outputs": [],
   "source": []
  },
  {
   "cell_type": "code",
   "execution_count": null,
   "metadata": {},
   "outputs": [],
   "source": [
    "topo2 = topo.toposimplify(\n",
    "    epsilon=0.1,\n",
    "    simplify_algorithm='vw', \n",
    "    simplify_with='simplification', \n",
    "    prevent_oversimplify=False\n",
    ")"
   ]
  },
  {
   "cell_type": "code",
   "execution_count": null,
   "metadata": {},
   "outputs": [],
   "source": [
    "result_gdf_2 = topo2.to_gdf(winding_order='CCW_CW')\n",
    "result_gdf_2"
   ]
  },
  {
   "cell_type": "code",
   "execution_count": null,
   "metadata": {},
   "outputs": [],
   "source": [
    "topo.to_gdf().plot()"
   ]
  },
  {
   "cell_type": "code",
   "execution_count": null,
   "metadata": {},
   "outputs": [],
   "source": [
    "result_gdf_2.plot()"
   ]
  },
  {
   "cell_type": "code",
   "execution_count": null,
   "metadata": {},
   "outputs": [],
   "source": [
    "k = KeplerGl()\n",
    "k.add_data(data=result_gdf_2.copy(), name=\"eu\")\n",
    "k"
   ]
  },
  {
   "cell_type": "code",
   "execution_count": null,
   "metadata": {},
   "outputs": [],
   "source": [
    "result_gdf.head()"
   ]
  },
  {
   "cell_type": "code",
   "execution_count": null,
   "metadata": {},
   "outputs": [],
   "source": [
    "# rgdf = topo.to_gdf()\n",
    "\n",
    "# def orient_geom(geom):\n",
    "#     if type(geom) == Polygon:\n",
    "#         return orient(geom, sign=-1)\n",
    "#     elif type(geom) == MultiPolygon:\n",
    "#         return MultiPolygon([orient(g, sign=-1) for g in geom.geoms])\n",
    "\n",
    "\n",
    "# pl_regions_2d_gdf = gpd.GeoDataFrame(\n",
    "#     {\"geometry\": [orient_geom(geom) for geom in region_polys.values()]},\n",
    "#     index=list(range(len(region_polys))),\n",
    "#     crs=\"EPSG:4326\",\n",
    "# )\n",
    "# rgdf = result_gdf.head(n=20)\n",
    "# rgdf = topo.to_gdf(winding_order='CCW_CW')\n",
    "rgdf = topo.to_gdf(winding_order='CW_CCW')\n",
    "fig = px.choropleth(\n",
    "    rgdf,\n",
    "    geojson=rgdf.geometry,\n",
    "    locations=rgdf.index,\n",
    "    color=rgdf.index,\n",
    "    color_continuous_scale=px.colors.sequential.Viridis,\n",
    ")\n",
    "# fig.show(renderer=\"png\")\n",
    "\n",
    "# fig2 = px.scatter_geo(seeds_gdf, lat=seeds_gdf.geometry.y, lon=seeds_gdf.geometry.x)\n",
    "fig.update_traces(marker={\"opacity\": 0.6}, selector=dict(type=\"choropleth\"))\n",
    "# fig.add_trace(fig2.data[0])\n",
    "# fig.update_traces(marker_color=\"white\", marker_size=10, selector=dict(type=\"scattergeo\"))\n",
    "fig.update_layout(coloraxis_showscale=False)\n",
    "# fig.update_geos(\n",
    "#     projection_type=\"orthographic\", projection_rotation_lon=20, projection_rotation_lat=30\n",
    "# )\n",
    "minx, miny, maxx, maxy = eu_bbox.bounds\n",
    "fig.update_geos(\n",
    "    projection_type=\"natural earth\",\n",
    "    lataxis_range=[miny - 1, maxy + 1],\n",
    "    lonaxis_range=[minx - 1, maxx + 1],\n",
    ")\n",
    "fig.update_layout(height=500, margin={\"r\": 0, \"t\": 0, \"l\": 0, \"b\": 0})\n",
    "fig.show()\n",
    "# fig.show(renderer=\"png\")  # replace with fig.show() to allow interactivity"
   ]
  },
  {
   "cell_type": "code",
   "execution_count": null,
   "metadata": {},
   "outputs": [],
   "source": []
  },
  {
   "cell_type": "code",
   "execution_count": null,
   "metadata": {},
   "outputs": [],
   "source": [
    "from OSMPythonTools.overpass import overpassQueryBuilder"
   ]
  },
  {
   "cell_type": "code",
   "execution_count": null,
   "metadata": {},
   "outputs": [],
   "source": [
    "# \"boundary\": \"administrative\", \"admin_level\": str(admin_level)\n",
    "query = overpassQueryBuilder(bbox=eu_bbox.bounds, elementType='relation', selector=['\"boundary\"=\"administrative\"', '\"admin_level\"=\"2\"'], out='body', includeGeometry=True)"
   ]
  },
  {
   "cell_type": "code",
   "execution_count": null,
   "metadata": {},
   "outputs": [],
   "source": [
    "query"
   ]
  },
  {
   "cell_type": "code",
   "execution_count": null,
   "metadata": {},
   "outputs": [],
   "source": [
    "from OSMPythonTools.overpass import Overpass"
   ]
  },
  {
   "cell_type": "code",
   "execution_count": null,
   "metadata": {},
   "outputs": [],
   "source": [
    "overpass = Overpass()\n",
    "boundaries = overpass.query(query)"
   ]
  },
  {
   "cell_type": "code",
   "execution_count": null,
   "metadata": {},
   "outputs": [],
   "source": [
    "boundaries.countRelations()"
   ]
  },
  {
   "cell_type": "code",
   "execution_count": null,
   "metadata": {},
   "outputs": [],
   "source": [
    "boundaries.isValid()"
   ]
  },
  {
   "cell_type": "code",
   "execution_count": null,
   "metadata": {},
   "outputs": [],
   "source": [
    "for el in boundaries.elements():\n",
    "    print(el.id(), el.tags())"
   ]
  }
 ],
 "metadata": {
  "kernelspec": {
   "display_name": "Python 3.8.10 ('.venv': venv)",
   "language": "python",
   "name": "python3"
  },
  "language_info": {
   "codemirror_mode": {
    "name": "ipython",
    "version": 3
   },
   "file_extension": ".py",
   "mimetype": "text/x-python",
   "name": "python",
   "nbconvert_exporter": "python",
   "pygments_lexer": "ipython3",
   "version": "3.8.10"
  },
  "vscode": {
   "interpreter": {
    "hash": "27588098aedc4e0690c9f009d86804b277352852ed19dd471efc5e9817d4b199"
   }
  }
 },
 "nbformat": 4,
 "nbformat_minor": 2
}
