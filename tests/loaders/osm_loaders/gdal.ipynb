{
 "cells": [
  {
   "cell_type": "code",
   "execution_count": null,
   "metadata": {},
   "outputs": [],
   "source": [
    "from srai.loaders.osm_loaders.pbf_file_reader import PbfFileReader\n",
    "import geopandas as gpd\n",
    "import pyogrio\n",
    "from srai.loaders import download_file"
   ]
  },
  {
   "cell_type": "code",
   "execution_count": null,
   "metadata": {},
   "outputs": [],
   "source": [
    "download_file(\n",
    "    \"https://github.com/kraina-ai/srai-test-files/raw/main/files/monaco-latest.osm.pbf\",\n",
    "    \"monaco-latest.osm.pbf\",\n",
    ")"
   ]
  },
  {
   "cell_type": "code",
   "execution_count": null,
   "metadata": {},
   "outputs": [],
   "source": [
    "from pathlib import Path\n",
    "\n",
    "pbf_file = Path(\"monaco-latest.osm.pbf\")"
   ]
  },
  {
   "cell_type": "code",
   "execution_count": null,
   "metadata": {},
   "outputs": [],
   "source": [
    "from test_pbf_file_reader import read_features_with_pyogrio\n",
    "\n",
    "gdal_gdf = read_features_with_pyogrio(\"monaco\")\n",
    "gdal_gdf"
   ]
  },
  {
   "cell_type": "code",
   "execution_count": null,
   "metadata": {},
   "outputs": [],
   "source": [
    "wrong_relations = [\"way/503475645\", \"way/993121275\", \"way/156242234\"]"
   ]
  },
  {
   "cell_type": "code",
   "execution_count": null,
   "metadata": {},
   "outputs": [],
   "source": [
    "for wrong_relation in wrong_relations:\n",
    "    gdal_gdf.loc[[wrong_relation]].plot()"
   ]
  },
  {
   "cell_type": "code",
   "execution_count": null,
   "metadata": {},
   "outputs": [],
   "source": [
    "geometries = []\n",
    "for _ in range(10):\n",
    "    handler = PbfFileReader()\n",
    "    df = handler.get_features_gdf([pbf_file], explode_tags=False, ignore_cache=True)\n",
    "    geometries.append(df.loc[wrong_relations])"
   ]
  },
  {
   "cell_type": "code",
   "execution_count": null,
   "metadata": {},
   "outputs": [],
   "source": [
    "for wrong_relation in wrong_relations:\n",
    "    print(gdal_gdf.loc[wrong_relation].geometry)\n",
    "    for geometry in geometries:\n",
    "        print(geometry.loc[wrong_relation].geometry)\n",
    "    print(\"\")"
   ]
  },
  {
   "cell_type": "code",
   "execution_count": null,
   "metadata": {},
   "outputs": [],
   "source": [
    "geometries"
   ]
  }
 ],
 "metadata": {
  "kernelspec": {
   "display_name": ".venv",
   "language": "python",
   "name": "python3"
  },
  "language_info": {
   "codemirror_mode": {
    "name": "ipython",
    "version": 3
   },
   "file_extension": ".py",
   "mimetype": "text/x-python",
   "name": "python",
   "nbconvert_exporter": "python",
   "pygments_lexer": "ipython3",
   "version": "3.10.12"
  }
 },
 "nbformat": 4,
 "nbformat_minor": 2
}
