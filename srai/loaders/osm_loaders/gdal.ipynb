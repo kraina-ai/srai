{
 "cells": [
  {
   "cell_type": "code",
   "execution_count": null,
   "metadata": {},
   "outputs": [],
   "source": [
    "from srai.loaders.osm_loaders.pbf_file_handler import PbfFileHandler\n",
    "import geopandas as gpd\n",
    "import pyogrio\n",
    "from srai.loaders import download_file\n",
    "from pathlib import Path\n",
    "from srai.loaders.osm_loaders.filters import GEOFABRIK_LAYERS, merge_osm_tags_filter\n",
    "from geoarrow.pyarrow import io\n",
    "import pyarrow as pa\n",
    "import json"
   ]
  },
  {
   "cell_type": "code",
   "execution_count": null,
   "metadata": {},
   "outputs": [],
   "source": [
    "pyogrio.__gdal_version__"
   ]
  },
  {
   "cell_type": "code",
   "execution_count": null,
   "metadata": {},
   "outputs": [],
   "source": [
    "pyogrio.list_drivers(read=True)"
   ]
  },
  {
   "cell_type": "code",
   "execution_count": null,
   "metadata": {},
   "outputs": [],
   "source": [
    "download_file(\n",
    "    \"https://download.geofabrik.de/europe/estonia-latest.osm.pbf\", \"estonia-latest.osm.pbf\"\n",
    ")"
   ]
  },
  {
   "cell_type": "code",
   "execution_count": null,
   "metadata": {},
   "outputs": [],
   "source": [
    "# pbf_file = Path(\"estonia-latest.osm.pbf\")\n",
    "pbf_file = Path(\n",
    "    \"/mnt/c/Development/Python/srai-1/tests/loaders/osm_loaders/test_files/monaco.osm.pbf\"\n",
    ")"
   ]
  },
  {
   "cell_type": "code",
   "execution_count": null,
   "metadata": {},
   "outputs": [],
   "source": [
    "pyogrio.list_layers(pbf_file)"
   ]
  },
  {
   "cell_type": "code",
   "execution_count": null,
   "metadata": {},
   "outputs": [],
   "source": [
    "gdal_options = dict(\n",
    "    INTERLEAVED_READING=True,\n",
    "    CONFIG_FILE=\"/mnt/c/Development/Python/srai-1/tests/loaders/osm_loaders/test_files/osmconf.ini\",\n",
    "    use_arrow=True,\n",
    ")\n",
    "\n",
    "# monaco\n",
    "# pyogrio.read_dataframe(\n",
    "#     pbf_file, layer=\"points\", columns=[\"osm_id\", \"all_tags\", \"geometry\"], **gdal_options\n",
    "# )  # 3057\n",
    "# pyogrio.read_dataframe(pbf_file, layer=\"lines\", **gdal_options)  # 3066\n",
    "pyogrio.read_dataframe(\n",
    "    pbf_file,\n",
    "    layer=\"multilinestrings\",\n",
    "    columns=[\"osm_id\", \"osm_way_id\", \"all_tags\", \"geometry\"],\n",
    "    **gdal_options,\n",
    ")  # 60\n",
    "# pyogrio.read_dataframe(\n",
    "#     pbf_file,\n",
    "#     layer=\"multipolygons\",\n",
    "#     columns=[\"osm_id\", \"osm_way_id\", \"all_tags\", \"geometry\"],\n",
    "#     **gdal_options,\n",
    "# )  # 1733\n",
    "# pyogrio.read_dataframe(pbf_file, layer=\"other_relations\", **gdal_options)  # 101"
   ]
  },
  {
   "cell_type": "code",
   "execution_count": null,
   "metadata": {},
   "outputs": [],
   "source": [
    "import pghstore\n",
    "\n",
    "\n",
    "def read_features_with_pyogrio(pbf_file) -> gpd.GeoDataFrame:\n",
    "    gdal_options = dict(\n",
    "        INTERLEAVED_READING=True,\n",
    "        CONFIG_FILE=(\n",
    "            \"/mnt/c/Development/Python/srai-1/tests/loaders/osm_loaders/test_files/osmconf.ini\"\n",
    "        ),\n",
    "        use_arrow=True,\n",
    "    )\n",
    "    gdfs = []\n",
    "    for layer_info in pyogrio.list_layers(pbf_file):\n",
    "        layer_name = layer_info[0]\n",
    "\n",
    "        gdf = pyogrio.read_dataframe(\n",
    "            pbf_file,\n",
    "            layer=layer_name,\n",
    "            columns=[\"osm_id\", \"osm_way_id\", \"all_tags\", \"geometry\"],\n",
    "            **gdal_options,\n",
    "        )\n",
    "\n",
    "        if layer_name == \"points\":\n",
    "            gdf[\"feature_id\"] = \"node/\" + gdf[\"osm_id\"]\n",
    "        elif layer_name == \"lines\":\n",
    "            gdf[\"feature_id\"] = \"way/\" + gdf[\"osm_id\"]\n",
    "        elif layer_name in (\"multilinestrings\", \"other_relations\"):\n",
    "            gdf[\"feature_id\"] = \"relation/\" + gdf[\"osm_id\"]\n",
    "        elif layer_name == \"multipolygons\":\n",
    "            gdf[\"feature_id\"] = gdf.apply(\n",
    "                lambda row: (\n",
    "                    \"relation/\" + row[\"osm_id\"]\n",
    "                    if row[\"osm_id\"] is not None\n",
    "                    else \"way/\" + row[\"osm_way_id\"]\n",
    "                ),\n",
    "                axis=1,\n",
    "            )\n",
    "\n",
    "        gdfs.append(gdf)\n",
    "\n",
    "    final_gdf = gpd.pd.concat(gdfs)\n",
    "    final_gdf = final_gdf[~final_gdf[\"all_tags\"].isnull()]\n",
    "    final_gdf[\"tags\"] = final_gdf[\"all_tags\"].apply(pghstore.loads)\n",
    "    # final_gdf[\"tags\"] = final_gdf[\"all_tags\"]\n",
    "    # filter relations\n",
    "    non_relations = ~final_gdf[\"feature_id\"].str.startswith(\"relation/\")\n",
    "    # WHERE kind = 'relation' AND len(refs) > 0\n",
    "    # AND list_contains(map_keys(tags), 'type')\n",
    "    # AND list_has_any(map_extract(tags, 'type'), ['boundary', 'multipolygon'])\n",
    "    relations = final_gdf[\"feature_id\"].str.startswith(\"relation/\")\n",
    "    matching_relations = relations & final_gdf[\"tags\"].apply(\n",
    "        lambda x: x.get(\"type\") in (\"boundary\", \"multipolygon\")\n",
    "    )\n",
    "    final_gdf = final_gdf[non_relations | matching_relations]\n",
    "    return final_gdf[[\"feature_id\", \"tags\", \"geometry\"]].set_index(\"feature_id\")"
   ]
  },
  {
   "cell_type": "code",
   "execution_count": null,
   "metadata": {},
   "outputs": [],
   "source": [
    "gdal_gdf = read_features_with_pyogrio(pbf_file)  # 8017 -> 7845\n",
    "gdal_gdf"
   ]
  },
  {
   "cell_type": "code",
   "execution_count": null,
   "metadata": {},
   "outputs": [],
   "source": [
    "# handler = PbfFileHandler(tags_filter=merge_osm_tags_filter(GEOFABRIK_LAYERS))\n",
    "# handler = PbfFileHandler(tags_filter=GEOFABRIK_LAYERS)\n",
    "handler = PbfFileHandler()\n",
    "df = handler.get_features_gdf([pbf_file], explode_tags=False, ignore_cache=True)\n",
    "# df = handler.get_features_gdf(['/mnt/Storage/Programming/srai/library/srai/tests/loaders/osm_loaders/test_files/monaco.osm.pbf'], explode_tags=False, ignore_cache=True)\n",
    "df  # 7904 -> 7847"
   ]
  },
  {
   "cell_type": "code",
   "execution_count": null,
   "metadata": {},
   "outputs": [],
   "source": [
    "gdal_index = gdal_gdf.index\n",
    "duckdb_index = df.index\n",
    "\n",
    "missing_in_gdal = duckdb_index.difference(gdal_index)\n",
    "missing_in_duckdb = gdal_index.difference(duckdb_index)"
   ]
  },
  {
   "cell_type": "code",
   "execution_count": null,
   "metadata": {},
   "outputs": [],
   "source": [
    "missing_in_gdal"
   ]
  },
  {
   "cell_type": "code",
   "execution_count": null,
   "metadata": {},
   "outputs": [],
   "source": [
    "len(missing_in_gdal)"
   ]
  },
  {
   "cell_type": "code",
   "execution_count": null,
   "metadata": {},
   "outputs": [],
   "source": [
    "df.loc[missing_in_gdal]"
   ]
  },
  {
   "cell_type": "code",
   "execution_count": null,
   "metadata": {},
   "outputs": [],
   "source": [
    "missing_in_duckdb"
   ]
  },
  {
   "cell_type": "code",
   "execution_count": null,
   "metadata": {},
   "outputs": [],
   "source": [
    "from tqdm import tqdm\n",
    "from shapely import hausdorff_distance\n",
    "\n",
    "\n",
    "distances = []\n",
    "\n",
    "\n",
    "def iou_metric(geom_a, geom_b) -> float:\n",
    "    if geom_a.geom_type not in (\"Polygon\", \"MultiPolygon\") or geom_b.geom_type not in (\n",
    "        \"Polygon\",\n",
    "        \"MultiPolygon\",\n",
    "    ):\n",
    "        return 0\n",
    "    intersection = geom_a.intersection(geom_b).area\n",
    "    union = geom_a.area + geom_b.area - intersection\n",
    "    return intersection / union\n",
    "\n",
    "\n",
    "for gdal_row_index in tqdm(gdal_index):\n",
    "    duckdb_row = df.loc[gdal_row_index]\n",
    "    gdal_row = gdal_gdf.loc[gdal_row_index]\n",
    "    duckdb_tags = duckdb_row.tags\n",
    "    gdal_tags = gdal_row.tags\n",
    "\n",
    "    # gdal doesn't register area tag\n",
    "    # if \"area\" in duckdb_tags:\n",
    "    #     duckdb_tags.pop(\"area\")\n",
    "\n",
    "    # duckdb_tags_keys = set(duckdb_tags.keys())\n",
    "    # gdal_tags_keys = set(gdal_tags.keys())\n",
    "    # mismatched_keys = duckdb_tags_keys.difference(gdal_tags_keys).union(\n",
    "    #     gdal_tags_keys.difference(duckdb_tags_keys)\n",
    "    # )\n",
    "    # assert\n",
    "    assert (\n",
    "        duckdb_row.tags == gdal_row.tags\n",
    "    ), f\"Tags aren't equal. ({gdal_row_index}, {duckdb_row.tags}, {gdal_row.tags})\"\n",
    "    # assert duckdb_row.geometry.geom_type == gdal_row.geometry.geom_type, (\n",
    "    #     f\"Geometries types aren't equal. ({gdal_row_index}, {duckdb_row.geometry.geom_type} !=\"\n",
    "    #     f\" {gdal_row.geometry.geom_type})\"\n",
    "    # )\n",
    "    tolerance = 0.5 * 10 ** (-6)\n",
    "    geometry_equal = duckdb_row.geometry.equals(gdal_row.geometry)\n",
    "    geometry_almost_equal = duckdb_row.geometry.equals_exact(gdal_row.geometry, tolerance)\n",
    "    iou_value = iou_metric(duckdb_row.geometry, gdal_row.geometry)\n",
    "    geometry_iou_near_one = iou_value >= (1 - tolerance)\n",
    "    hausdorff_distance_value = hausdorff_distance(\n",
    "        duckdb_row.geometry, gdal_row.geometry, densify=0.5\n",
    "    )\n",
    "    geometry_close_hausdorff_distance = hausdorff_distance_value < 1e-10\n",
    "    geometry_both_closed_or_not = duckdb_row.geometry.is_closed == gdal_row.geometry.is_closed\n",
    "    is_different_geometry_type = duckdb_row.geometry.geom_type in (\n",
    "        \"Polygon\",\n",
    "        \"MultiPolygon\",\n",
    "    ) and gdal_row.geometry.geom_type in (\"LineString\", \"MultiLineString\")\n",
    "    assert (\n",
    "        geometry_both_closed_or_not\n",
    "        and (geometry_equal or geometry_almost_equal or geometry_iou_near_one)\n",
    "    ) or (geometry_close_hausdorff_distance and is_different_geometry_type), (\n",
    "        f\"{gdal_row_index} geometries aren't equal. (equal: {geometry_equal}, almost_equal:\"\n",
    "        f\" {geometry_almost_equal}, iou near one: {geometry_iou_near_one}, [{iou_value}], small\"\n",
    "        f\" hausdorff distance: {geometry_close_hausdorff_distance} [{hausdorff_distance}], gdal\"\n",
    "        f\" geom type: {gdal_row.geometry.geom_type}, duckdb geom type\"\n",
    "        f\" {duckdb_row.geometry.geom_type}, both closed or not: {geometry_both_closed_or_not},\"\n",
    "        f\" {duckdb_row.geometry.is_closed}, {gdal_row.geometry.is_closed})\"\n",
    "    )\n",
    "    distances.append(hausdorff_distance_value)\n",
    "    # break"
   ]
  },
  {
   "cell_type": "code",
   "execution_count": null,
   "metadata": {},
   "outputs": [],
   "source": [
    "gpd.pd.Series(distances).hist()"
   ]
  },
  {
   "cell_type": "code",
   "execution_count": null,
   "metadata": {},
   "outputs": [],
   "source": [
    "df.loc[\"way/94452782\"].geometry.equals(gdal_gdf.loc[\"way/94452782\"].geometry)"
   ]
  },
  {
   "cell_type": "code",
   "execution_count": null,
   "metadata": {},
   "outputs": [],
   "source": [
    "iou_metric(df.loc[\"way/94452782\"].geometry, gdal_gdf.loc[\"way/94452782\"].geometry)"
   ]
  },
  {
   "cell_type": "code",
   "execution_count": null,
   "metadata": {},
   "outputs": [],
   "source": [
    "df.loc[[\"way/1089844285\"]].explore()"
   ]
  },
  {
   "cell_type": "code",
   "execution_count": null,
   "metadata": {},
   "outputs": [],
   "source": [
    "import osmnx as ox\n",
    "\n",
    "ox.geocode_to_gdf(query=[\"W94452782\"], by_osmid=True)"
   ]
  },
  {
   "cell_type": "code",
   "execution_count": null,
   "metadata": {},
   "outputs": [],
   "source": [
    "gdal_gdf.loc[feature_id].geometry.geom_type"
   ]
  },
  {
   "cell_type": "code",
   "execution_count": null,
   "metadata": {},
   "outputs": [],
   "source": [
    "feature_id = \"way/1089844285\"\n",
    "\n",
    "ax = gdal_gdf.loc[[feature_id]].geometry.plot(color=\"red\")\n",
    "df.loc[[feature_id]].geometry.plot(ax=ax, color=\"blue\")\n",
    "gdal_gdf.loc[[feature_id]].geometry.intersection(df.loc[[feature_id]].geometry).plot(\n",
    "    ax=ax, color=\"green\"\n",
    ")"
   ]
  },
  {
   "cell_type": "code",
   "execution_count": null,
   "metadata": {},
   "outputs": [],
   "source": [
    "way / 572934026"
   ]
  },
  {
   "cell_type": "code",
   "execution_count": null,
   "metadata": {},
   "outputs": [],
   "source": [
    "gdal_gdf.loc[[feature_id]].geometry.difference(df.loc[[feature_id]].geometry).plot()\n",
    "df.loc[[feature_id]].geometry.difference(df.loc[[feature_id]].geometry).plot()"
   ]
  },
  {
   "cell_type": "code",
   "execution_count": null,
   "metadata": {},
   "outputs": [],
   "source": [
    "gdal_gdf.loc[\"way/4097656\"].geometry.equals_exact(df.loc[\"way/4097656\"].geometry, 0.5 * 10 ** (-6))"
   ]
  },
  {
   "cell_type": "code",
   "execution_count": null,
   "metadata": {},
   "outputs": [],
   "source": [
    "m = df.loc[[\"way/4097656\"]].explore()\n",
    "gdal_gdf.loc[[\"way/4097656\"]].explore(m=m)"
   ]
  },
  {
   "cell_type": "code",
   "execution_count": null,
   "metadata": {},
   "outputs": [],
   "source": [
    "tbl = io.read_geoparquet_table(\n",
    "    \"/mnt/Storage/Programming/srai/library/srai/tests/loaders/osm_loaders/files/monaco_7518e8e7c0d46d33b0f8693b4ba560cdea65288b210d9c34e0e66114212dcf10_noclip.geoparquet\"\n",
    ")\n",
    "tbl\n",
    "\n",
    "# %%\n",
    "pa.map_(pa.string(), pa.string()).to_pandas_dtype()\n",
    "\n",
    "\n",
    "tbl.drop(\"geometry\").to_pandas(maps_as_pydicts=\"strict\")\n",
    "# tbl.column('tags').to_pandas(maps_as_pydicts=\"strict\")\n",
    "# pa.concat_tables([tbl]).to_pandas()."
   ]
  }
 ],
 "metadata": {
  "kernelspec": {
   "display_name": ".venv",
   "language": "python",
   "name": "python3"
  },
  "language_info": {
   "codemirror_mode": {
    "name": "ipython",
    "version": 3
   },
   "file_extension": ".py",
   "mimetype": "text/x-python",
   "name": "python",
   "nbconvert_exporter": "python",
   "pygments_lexer": "ipython3",
   "version": "3.11.4"
  }
 },
 "nbformat": 4,
 "nbformat_minor": 2
}
