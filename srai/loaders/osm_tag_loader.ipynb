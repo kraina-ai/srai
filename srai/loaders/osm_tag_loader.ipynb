{
 "cells": [
  {
   "cell_type": "code",
   "execution_count": null,
   "metadata": {},
   "outputs": [],
   "source": [
    "%load_ext autoreload\n",
    "%autoreload 2"
   ]
  },
  {
   "cell_type": "code",
   "execution_count": null,
   "metadata": {},
   "outputs": [],
   "source": [
    "import osmnx as ox"
   ]
  },
  {
   "cell_type": "code",
   "execution_count": null,
   "metadata": {},
   "outputs": [],
   "source": [
    "# area = ox.geocode_to_gdf(\"Warszawa, Polska\")\n",
    "area = ox.geocode_to_gdf(\"Wrocław, Poland\")"
   ]
  },
  {
   "cell_type": "code",
   "execution_count": null,
   "metadata": {},
   "outputs": [],
   "source": [
    "gdf_wgs84 = area.to_crs(epsg=4326)\n",
    "gdf_wgs84.plot()"
   ]
  },
  {
   "cell_type": "code",
   "execution_count": null,
   "metadata": {},
   "outputs": [],
   "source": [
    "from srai.loaders.osm_tag_loader.osm_tag_loader import OSMTagLoader\n",
    "from srai.loaders.osm_tag_loader.filters.hex2vec import HEX2VEC_FILTER\n",
    "\n",
    "h2v_tags = HEX2VEC_FILTER"
   ]
  },
  {
   "cell_type": "code",
   "execution_count": null,
   "metadata": {},
   "outputs": [],
   "source": [
    "loader = OSMTagLoader()\n",
    "results = loader.load(gdf_wgs84, h2v_tags)\n",
    "results"
   ]
  },
  {
   "cell_type": "code",
   "execution_count": null,
   "metadata": {},
   "outputs": [],
   "source": [
    "from itertools import product\n",
    "from functional import seq\n",
    "\n",
    "seq(h2v_tags.items()).starmap(\n",
    "    lambda k, v: product([k], [v] if isinstance(v, bool) else v)\n",
    ").flatten().list()"
   ]
  },
  {
   "cell_type": "code",
   "execution_count": null,
   "metadata": {},
   "outputs": [],
   "source": [
    "loader = OSMTagLoader()\n",
    "results = loader.load(gdf_wgs84, h2v_tags)"
   ]
  },
  {
   "cell_type": "code",
   "execution_count": null,
   "metadata": {},
   "outputs": [],
   "source": [
    "results"
   ]
  },
  {
   "cell_type": "code",
   "execution_count": null,
   "metadata": {},
   "outputs": [],
   "source": [
    "results.query(\"amenity.notna()\").plot()"
   ]
  },
  {
   "cell_type": "code",
   "execution_count": null,
   "metadata": {},
   "outputs": [],
   "source": [
    "gdf_wgs84.plot()"
   ]
  },
  {
   "cell_type": "code",
   "execution_count": null,
   "metadata": {},
   "outputs": [],
   "source": [
    "results"
   ]
  },
  {
   "cell_type": "code",
   "execution_count": null,
   "metadata": {},
   "outputs": [],
   "source": [
    "gdf = ox.geometries_from_polygon(gdf_wgs84.loc[0, \"geometry\"], tags={\"leisure\": \"park\"})\n",
    "gdf"
   ]
  },
  {
   "cell_type": "code",
   "execution_count": null,
   "metadata": {},
   "outputs": [],
   "source": [
    "results"
   ]
  },
  {
   "cell_type": "code",
   "execution_count": null,
   "metadata": {},
   "outputs": [],
   "source": [
    "gdf[[\"geometry\", \"leisure\"]]"
   ]
  },
  {
   "cell_type": "code",
   "execution_count": null,
   "metadata": {},
   "outputs": [],
   "source": [
    "import geopandas as gpd\n",
    "\n",
    "gpd.GeoDataFrame()"
   ]
  },
  {
   "cell_type": "code",
   "execution_count": null,
   "metadata": {},
   "outputs": [],
   "source": [
    "from srai.loaders.osm_tag_loader.filters.popular import get_popular_tags\n",
    "\n",
    "popular_tags = get_popular_tags(True, min_fraction=0.0005)\n",
    "popular_tags"
   ]
  },
  {
   "cell_type": "code",
   "execution_count": null,
   "metadata": {},
   "outputs": [],
   "source": [
    "from srai.loaders.osm_tag_loader.filters.hex2vec import HEX2VEC_FILTER\n",
    "\n",
    "h2v_tags = HEX2VEC_FILTER"
   ]
  },
  {
   "cell_type": "code",
   "execution_count": null,
   "metadata": {},
   "outputs": [],
   "source": [
    "ox.settings.timeout = 10000"
   ]
  },
  {
   "cell_type": "code",
   "execution_count": null,
   "metadata": {},
   "outputs": [],
   "source": [
    "import pandas as pd"
   ]
  },
  {
   "cell_type": "code",
   "execution_count": null,
   "metadata": {},
   "outputs": [],
   "source": [
    "h2v_tags"
   ]
  },
  {
   "cell_type": "code",
   "execution_count": null,
   "metadata": {},
   "outputs": [],
   "source": [
    "from json import JSONDecodeError\n",
    "import json\n",
    "import sys\n",
    "\n",
    "geometries = []\n",
    "for polygon in gdf_wgs84[\"geometry\"]:\n",
    "    for key, values in h2v_tags.items():\n",
    "        print(key)\n",
    "        tags = {key: values}\n",
    "        tag_geoms = ox.geometries_from_polygon(polygon, tags)\n",
    "        geometries.append(tag_geoms)\n",
    "\n",
    "geometries = pd.concat(geometries)\n",
    "geometries"
   ]
  },
  {
   "cell_type": "code",
   "execution_count": null,
   "metadata": {},
   "outputs": [],
   "source": [
    "grouped = geometries.groupby([\"element_type\", \"osmid\"])"
   ]
  },
  {
   "cell_type": "code",
   "execution_count": null,
   "metadata": {},
   "outputs": [],
   "source": [
    "i = 0\n",
    "for group_id, group_df in grouped:\n",
    "    if len(group_df) > 1:\n",
    "        i += 1\n",
    "        if i == 3:\n",
    "            break\n",
    "group_df"
   ]
  },
  {
   "cell_type": "code",
   "execution_count": null,
   "metadata": {},
   "outputs": [],
   "source": [
    "group_df.iloc[0][group_df.iloc[0].notna()].index"
   ]
  },
  {
   "cell_type": "code",
   "execution_count": null,
   "metadata": {},
   "outputs": [],
   "source": [
    "group_df.iloc[1][group_df.iloc[1].notna()].index"
   ]
  },
  {
   "cell_type": "code",
   "execution_count": null,
   "metadata": {},
   "outputs": [],
   "source": [
    "len(group_df)"
   ]
  },
  {
   "cell_type": "code",
   "execution_count": null,
   "metadata": {},
   "outputs": [],
   "source": [
    "geometries_squashed = geometries.groupby([\"element_type\", \"osmid\"]).first()"
   ]
  },
  {
   "cell_type": "code",
   "execution_count": null,
   "metadata": {},
   "outputs": [],
   "source": [
    "geometries_squashed"
   ]
  },
  {
   "cell_type": "code",
   "execution_count": null,
   "metadata": {},
   "outputs": [],
   "source": [
    "geometries_all = []\n",
    "for polygon in gdf_wgs84[\"geometry\"]:\n",
    "    tag_geoms = ox.geometries_from_polygon(polygon, popular_tags)\n",
    "    geometries_all.append(tag_geoms)\n",
    "geometries_all = pd.concat(geometries_all)\n",
    "geometries_all"
   ]
  },
  {
   "cell_type": "code",
   "execution_count": null,
   "metadata": {},
   "outputs": [],
   "source": [
    "geometries_all.sort_index().sort_index(axis=1) == geometries_squashed.sort_index().sort_index(\n",
    "    axis=1\n",
    ")"
   ]
  },
  {
   "cell_type": "code",
   "execution_count": null,
   "metadata": {},
   "outputs": [],
   "source": [
    "geometries.groupby([\"element_type\", \"osmid\"]).first().query(\"amenity.notna() and leisure.notna()\")"
   ]
  },
  {
   "cell_type": "code",
   "execution_count": null,
   "metadata": {},
   "outputs": [],
   "source": [
    "geometries[0].reset_index()[\"osmid\"].nunique()"
   ]
  },
  {
   "cell_type": "code",
   "execution_count": null,
   "metadata": {},
   "outputs": [],
   "source": [
    "filtered_geoms = []\n",
    "for df, key in zip(geometries, popular_tags):\n",
    "    if df.empty:\n",
    "        continue\n",
    "    filtered_geoms.append(df[[\"geometry\", key]])\n",
    "filtered_geoms"
   ]
  },
  {
   "cell_type": "code",
   "execution_count": null,
   "metadata": {},
   "outputs": [],
   "source": [
    "[k for k in popular_tags if k in filtered_geoms.columns]"
   ]
  },
  {
   "cell_type": "code",
   "execution_count": null,
   "metadata": {},
   "outputs": [],
   "source": [
    "features_gdf = results.reset_index(level=0, drop=True)\n",
    "features_gdf.index.rename(\"feature_id\", inplace=True)\n",
    "features_gdf"
   ]
  },
  {
   "cell_type": "code",
   "execution_count": null,
   "metadata": {},
   "outputs": [],
   "source": [
    "features_gdf = features_gdf.set_crs(epsg=4326)"
   ]
  },
  {
   "cell_type": "code",
   "execution_count": null,
   "metadata": {},
   "outputs": [],
   "source": [
    "from srai.regionizers import H3Regionizer\n",
    "\n",
    "regionizer = H3Regionizer(resolution=8)\n",
    "regions_gdf = regionizer.transform(gdf_wgs84)\n",
    "regions_gdf.index.name = \"region_id\"\n",
    "regions_gdf"
   ]
  },
  {
   "cell_type": "code",
   "execution_count": null,
   "metadata": {},
   "outputs": [],
   "source": [
    "regions_gdf.plot()"
   ]
  },
  {
   "cell_type": "code",
   "execution_count": null,
   "metadata": {},
   "outputs": [],
   "source": [
    "from srai.joiners import IntersectionJoiner\n",
    "\n",
    "joiner = IntersectionJoiner()\n",
    "joint_gdf = joiner.transform(regions_gdf, features_gdf)"
   ]
  },
  {
   "cell_type": "code",
   "execution_count": null,
   "metadata": {},
   "outputs": [],
   "source": [
    "joint_gdf"
   ]
  },
  {
   "cell_type": "code",
   "execution_count": null,
   "metadata": {},
   "outputs": [],
   "source": [
    "xd = [f\"{k}_{v}\" for k, vs in HEX2VEC_FILTER.items() for v in vs]"
   ]
  },
  {
   "cell_type": "code",
   "execution_count": null,
   "metadata": {},
   "outputs": [],
   "source": [
    "from srai.embedders.count_embedder import CountEmbedder\n",
    "\n",
    "embedder = CountEmbedder(expected_output_features=xd)\n",
    "embeddings = embedder.transform(regions_gdf, features_gdf, joint_gdf)\n",
    "embeddings"
   ]
  },
  {
   "cell_type": "code",
   "execution_count": null,
   "metadata": {},
   "outputs": [],
   "source": [
    "from tqdm import tqdm\n",
    "\n",
    "data = [1, 2, 3, 4, 5, 6, 7, 8, 9, 10]"
   ]
  }
 ],
 "metadata": {
  "kernelspec": {
   "display_name": ".venv",
   "language": "python",
   "name": "python3"
  },
  "language_info": {
   "codemirror_mode": {
    "name": "ipython",
    "version": 3
   },
   "file_extension": ".py",
   "mimetype": "text/x-python",
   "name": "python",
   "nbconvert_exporter": "python",
   "pygments_lexer": "ipython3",
   "version": "3.10.9"
  },
  "vscode": {
   "interpreter": {
    "hash": "cdb8aaadc0decb944250d2ac9b06f485d1fc395bd22d4875475c731b86175a8b"
   }
  }
 },
 "nbformat": 4,
 "nbformat_minor": 2
}
