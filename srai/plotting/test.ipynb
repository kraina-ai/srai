{
 "cells": [
  {
   "cell_type": "code",
   "execution_count": null,
   "metadata": {},
   "outputs": [],
   "source": [
    "import geopandas as gpd\n",
    "from osmnx import geocode_to_gdf\n",
    "import plotly.express as px\n",
    "from shapely.geometry import Point, box\n",
    "\n",
    "from srai.regionizers import AdministrativeBoundaryRegionizer"
   ]
  },
  {
   "cell_type": "code",
   "execution_count": null,
   "metadata": {},
   "outputs": [],
   "source": [
    "wroclaw_gdf = geocode_to_gdf(query=[\"R451516\"], by_osmid=True)\n",
    "wroclaw_gdf.plot()"
   ]
  },
  {
   "cell_type": "code",
   "execution_count": null,
   "metadata": {},
   "outputs": [],
   "source": [
    "abr = AdministrativeBoundaryRegionizer(admin_level=9, clip_regions=False)"
   ]
  },
  {
   "cell_type": "code",
   "execution_count": null,
   "metadata": {},
   "outputs": [],
   "source": [
    "wro_result_gdf = abr.transform(gdf=wroclaw_gdf)\n",
    "wro_result_gdf.head()"
   ]
  },
  {
   "cell_type": "code",
   "execution_count": null,
   "metadata": {},
   "outputs": [],
   "source": [
    "%load_ext autoreload\n",
    "%autoreload 2"
   ]
  },
  {
   "cell_type": "code",
   "execution_count": null,
   "metadata": {},
   "outputs": [],
   "source": [
    "from srai.plotting import plot_regions\n",
    "from srai.plotting.plotly_wrapper import plot_neighbours, plot_all_neighbourhood"
   ]
  },
  {
   "cell_type": "code",
   "execution_count": null,
   "metadata": {},
   "outputs": [],
   "source": [
    "plot_regions_mapbox(wroclaw_gdf)"
   ]
  },
  {
   "cell_type": "code",
   "execution_count": null,
   "metadata": {},
   "outputs": [],
   "source": [
    "plot_regions_mapbox(wro_result_gdf)"
   ]
  },
  {
   "cell_type": "code",
   "execution_count": null,
   "metadata": {},
   "outputs": [],
   "source": [
    "from srai.neighbourhoods import AdjacencyNeighbourhood, H3Neighbourhood"
   ]
  },
  {
   "cell_type": "code",
   "execution_count": null,
   "metadata": {},
   "outputs": [],
   "source": [
    "neighbourhood = AdjacencyNeighbourhood(regions_gdf=wro_result_gdf)"
   ]
  },
  {
   "cell_type": "code",
   "execution_count": null,
   "metadata": {},
   "outputs": [],
   "source": [
    "region_id = \"Osiedle Stare Miasto\"\n",
    "neighbours = neighbourhood.get_neighbours_at_distance(region_id, 2)"
   ]
  },
  {
   "cell_type": "code",
   "execution_count": null,
   "metadata": {},
   "outputs": [],
   "source": [
    "plot_neighbours_mapbox(wro_result_gdf, region_id, neighbours)"
   ]
  },
  {
   "cell_type": "code",
   "execution_count": null,
   "metadata": {},
   "outputs": [],
   "source": [
    "plot_all_neighbourhood_mapbox(wro_result_gdf, region_id, neighbourhood)"
   ]
  },
  {
   "cell_type": "code",
   "execution_count": null,
   "metadata": {},
   "outputs": [],
   "source": [
    "plot_all_neighbourhood_mapbox(wro_result_gdf, \"Osiedle Bieńkowice\", neighbourhood)"
   ]
  },
  {
   "cell_type": "code",
   "execution_count": null,
   "metadata": {},
   "outputs": [],
   "source": [
    "from srai.regionizers import H3Regionizer\n",
    "\n",
    "regionizer_buffered = H3Regionizer(resolution=8)"
   ]
  },
  {
   "cell_type": "code",
   "execution_count": null,
   "metadata": {},
   "outputs": [],
   "source": [
    "gdf_h3_buffered = regionizer_buffered.transform(wro_result_gdf)"
   ]
  },
  {
   "cell_type": "code",
   "execution_count": null,
   "metadata": {},
   "outputs": [],
   "source": [
    "gdf_h3_buffered"
   ]
  },
  {
   "cell_type": "code",
   "execution_count": null,
   "metadata": {},
   "outputs": [],
   "source": [
    "plot_regions(gdf_h3_buffered)"
   ]
  },
  {
   "cell_type": "code",
   "execution_count": null,
   "metadata": {},
   "outputs": [],
   "source": [
    "h3_neighbourhood = H3Neighbourhood()"
   ]
  },
  {
   "cell_type": "code",
   "execution_count": null,
   "metadata": {},
   "outputs": [],
   "source": [
    "plot_all_neighbourhood_mapbox(gdf_h3_buffered, \"881e20408dfffff\", h3_neighbourhood)"
   ]
  },
  {
   "cell_type": "code",
   "execution_count": null,
   "metadata": {},
   "outputs": [],
   "source": [
    "fig = px.choropleth_mapbox(\n",
    "    wro_result_gdf,\n",
    "    geojson=wro_result_gdf,\n",
    "    color=wro_result_gdf.index,\n",
    "    locations=wro_result_gdf.index,\n",
    "    center={\"lat\": 51.125, \"lon\": 16.99},\n",
    "    mapbox_style=\"carto-positron\",\n",
    "    zoom=10.5,\n",
    ")\n",
    "fig.update_layout(margin={\"r\": 0, \"t\": 0, \"l\": 0, \"b\": 0})\n",
    "fig.update_traces(marker={\"opacity\": 0.6}, selector=dict(type=\"choroplethmapbox\"))\n",
    "fig.update_traces(showlegend=False)\n",
    "minx, miny, maxx, maxy = wroclaw_gdf.geometry[0].bounds\n",
    "fig.update_geos(\n",
    "    projection_type=\"equirectangular\",\n",
    "    lataxis_range=[miny - 0.1, maxy + 0.1],\n",
    "    lonaxis_range=[minx - 0.1, maxx + 0.1],\n",
    "    showlakes=False,\n",
    "    showcountries=False,\n",
    "    showframe=False,\n",
    "    resolution=50,\n",
    ")\n",
    "fig.update_layout(height=600, width=800, margin={\"r\": 0, \"t\": 0, \"l\": 0, \"b\": 0})\n",
    "fig.show(renderer=\"png\")  # replace with fig.show() to allow interactivity"
   ]
  },
  {
   "cell_type": "code",
   "execution_count": null,
   "metadata": {},
   "outputs": [],
   "source": [
    "accra_gdf = geocode_to_gdf(query=[\"R12803764\"], by_osmid=True)\n",
    "accra_gdf.plot()"
   ]
  },
  {
   "cell_type": "code",
   "execution_count": null,
   "metadata": {},
   "outputs": [],
   "source": [
    "accra_gdf"
   ]
  },
  {
   "cell_type": "code",
   "execution_count": null,
   "metadata": {},
   "outputs": [],
   "source": [
    "acc_result_gdf = AdministrativeBoundaryRegionizer(\n",
    "    admin_level=9, return_empty_region=True\n",
    ").transform(gdf=accra_gdf)\n",
    "acc_result_gdf.head()"
   ]
  },
  {
   "cell_type": "code",
   "execution_count": null,
   "metadata": {},
   "outputs": [],
   "source": [
    "acc_result_gdf = AdministrativeBoundaryRegionizer(admin_level=10).transform(gdf=accra_gdf)\n",
    "acc_result_gdf.head()"
   ]
  },
  {
   "cell_type": "code",
   "execution_count": null,
   "metadata": {},
   "outputs": [],
   "source": [
    "plot_regions_gdf(accra_gdf)"
   ]
  },
  {
   "cell_type": "code",
   "execution_count": null,
   "metadata": {},
   "outputs": [],
   "source": [
    "plot_regions_gdf(acc_result_gdf)"
   ]
  },
  {
   "cell_type": "code",
   "execution_count": null,
   "metadata": {},
   "outputs": [],
   "source": [
    "tromso_gdf = geocode_to_gdf(query=[\"R407754\"], by_osmid=True)\n",
    "tromso_gdf.plot()"
   ]
  },
  {
   "cell_type": "code",
   "execution_count": null,
   "metadata": {},
   "outputs": [],
   "source": [
    "plot_regions_gdf(tromso_gdf)"
   ]
  },
  {
   "cell_type": "code",
   "execution_count": null,
   "metadata": {},
   "outputs": [],
   "source": [
    "tro_result_gdf = AdministrativeBoundaryRegionizer(admin_level=8).transform(gdf=tromso_gdf)\n",
    "tro_result_gdf.head()"
   ]
  },
  {
   "cell_type": "code",
   "execution_count": null,
   "metadata": {},
   "outputs": [],
   "source": [
    "from srai.regionizers import H3Regionizer\n",
    "\n",
    "regionizer_buffered = H3Regionizer(resolution=6)"
   ]
  },
  {
   "cell_type": "code",
   "execution_count": null,
   "metadata": {},
   "outputs": [],
   "source": [
    "gdf_h3_buffered = regionizer_buffered.transform(tromso_gdf)"
   ]
  },
  {
   "cell_type": "code",
   "execution_count": null,
   "metadata": {},
   "outputs": [],
   "source": [
    "gdf_h3_buffered"
   ]
  },
  {
   "cell_type": "code",
   "execution_count": null,
   "metadata": {},
   "outputs": [],
   "source": [
    "plot_regions_gdf(gdf_h3_buffered)"
   ]
  },
  {
   "cell_type": "code",
   "execution_count": null,
   "metadata": {},
   "outputs": [],
   "source": [
    "eu_bbox = box(minx=-10.478556, miny=34.633284672291, maxx=34.597916, maxy=70.096054)\n",
    "eu_bbox_gdf = gpd.GeoDataFrame({\"geometry\": [eu_bbox]}, crs=\"EPSG:4326\")"
   ]
  },
  {
   "cell_type": "code",
   "execution_count": null,
   "metadata": {},
   "outputs": [],
   "source": [
    "abr = AdministrativeBoundaryRegionizer(admin_level=2, toposimplify=0.01)"
   ]
  },
  {
   "cell_type": "code",
   "execution_count": null,
   "metadata": {},
   "outputs": [],
   "source": [
    "eu_result_gdf = abr.transform(gdf=eu_bbox_gdf)"
   ]
  },
  {
   "cell_type": "code",
   "execution_count": null,
   "metadata": {},
   "outputs": [],
   "source": [
    "eu_result_gdf.head()"
   ]
  },
  {
   "cell_type": "code",
   "execution_count": null,
   "metadata": {},
   "outputs": [],
   "source": [
    "plot_regions_gdf(eu_result_gdf)"
   ]
  }
 ],
 "metadata": {
  "kernelspec": {
   "display_name": ".venv",
   "language": "python",
   "name": "python3"
  },
  "language_info": {
   "codemirror_mode": {
    "name": "ipython",
    "version": 3
   },
   "file_extension": ".py",
   "mimetype": "text/x-python",
   "name": "python",
   "nbconvert_exporter": "python",
   "pygments_lexer": "ipython3",
   "version": "3.8.10"
  }
 },
 "nbformat": 4,
 "nbformat_minor": 2
}
